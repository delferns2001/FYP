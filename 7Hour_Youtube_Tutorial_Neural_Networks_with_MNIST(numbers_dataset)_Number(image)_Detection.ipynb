{
  "nbformat": 4,
  "nbformat_minor": 0,
  "metadata": {
    "colab": {
      "name": "7Hour_Youtube_Tutorial_Neural_Networks_with_MNIST(numbers dataset)_Number(image)_Detection.ipynb",
      "provenance": [],
      "include_colab_link": true
    },
    "kernelspec": {
      "name": "python3",
      "display_name": "Python 3"
    }
  },
  "cells": [
    {
      "cell_type": "markdown",
      "metadata": {
        "id": "view-in-github",
        "colab_type": "text"
      },
      "source": [
        "<a href=\"https://colab.research.google.com/github/delferns2001/FYP/blob/master/7Hour_Youtube_Tutorial_Neural_Networks_with_MNIST(numbers_dataset)_Number(image)_Detection.ipynb\" target=\"_parent\"><img src=\"https://colab.research.google.com/assets/colab-badge.svg\" alt=\"Open In Colab\"/></a>"
      ]
    },
    {
      "cell_type": "markdown",
      "metadata": {
        "id": "FxrynkU0vfId"
      },
      "source": [
        "Let's get started, import the TensorFlow library into your program, along with the library to plot graphs (matplotlib)"
      ]
    },
    {
      "cell_type": "code",
      "metadata": {
        "id": "8xnCtzEi6r5h"
      },
      "source": [
        "%matplotlib inline\n",
        "import tensorflow as tf\n",
        "import matplotlib.pyplot as plt\n",
        "plt.rcParams['figure.figsize'] = (7,7) # Make the figures a bit bigger\n",
        "\n",
        "import numpy as np"
      ],
      "execution_count": null,
      "outputs": []
    },
    {
      "cell_type": "markdown",
      "metadata": {
        "id": "PmsIEMLxvuhH"
      },
      "source": [
        "Load and prepare the MNIST dataset. Convert the samples from integers to floating-point numbers:"
      ]
    },
    {
      "cell_type": "code",
      "metadata": {
        "id": "HUjRtswEwCX_"
      },
      "source": [
        "mnist = tf.keras.datasets.mnist\n",
        "\n",
        "(x_train, y_train), (x_test, y_test) = mnist.load_data()\n",
        "x_train, x_test = x_train / 255.0, x_test / 255.0"
      ],
      "execution_count": null,
      "outputs": []
    },
    {
      "cell_type": "markdown",
      "metadata": {
        "id": "IvGussHswq_E"
      },
      "source": [
        "Visualize some of the dataset images"
      ]
    },
    {
      "cell_type": "code",
      "metadata": {
        "id": "v8aP3BQlwtvb",
        "colab": {
          "base_uri": "https://localhost:8080/",
          "height": 281
        },
        "outputId": "a3f02197-f85a-4d7f-f778-8e1746e198c4"
      },
      "source": [
        "for i in range(9):\n",
        "    plt.subplot(3,3,i+1)\n",
        "    plt.imshow(x_train[i], cmap='gray', interpolation='none')\n",
        "    plt.title(\"Class {}\".format(y_train[i]))"
      ],
      "execution_count": null,
      "outputs": [
        {
          "output_type": "display_data",
          "data": {
            "image/png": "[encoded data removed]",
            "text/plain": [
              "<Figure size 432x288 with 9 Axes>"
            ]
          },
          "metadata": {
            "needs_background": "light"
          }
        }
      ]
    },
    {
      "cell_type": "markdown",
      "metadata": {
        "id": "xSocio9zxX7i"
      },
      "source": [
        "What is the size of the data?"
      ]
    },
    {
      "cell_type": "code",
      "metadata": {
        "id": "1tsUZljAxaNQ",
        "colab": {
          "base_uri": "https://localhost:8080/"
        },
        "outputId": "6cfb8fcc-aab0-41b0-c066-c1171ea71462"
      },
      "source": [
        "print(\"x_train original shape\", x_train.shape)\n",
        "print(\"y_train original shape\", y_train.shape)"
      ],
      "execution_count": null,
      "outputs": [
        {
          "output_type": "stream",
          "name": "stdout",
          "text": [
            "x_train original shape (60000, 28, 28)\n",
            "y_train original shape (60000,)\n"
          ]
        }
      ]
    },
    {
      "cell_type": "markdown",
      "metadata": {
        "id": "2e9jnfJfwE84"
      },
      "source": [
        "Build the tf.keras model by stacking layers. Select an optimizer and loss function used for training:"
      ]
    },
    {
      "cell_type": "code",
      "metadata": {
        "id": "w95tQxGQwIrN"
      },
      "source": [
        "model = tf.keras.models.Sequential([\n",
        "  tf.keras.layers.Flatten(),\n",
        "  tf.keras.layers.Dense(12, activation=tf.nn.sigmoid),\n",
        "  tf.keras.layers.Dense(12, activation=tf.nn.sigmoid),\n",
        "  tf.keras.layers.Dropout(0.2),\n",
        "  tf.keras.layers.Dense(10, activation=tf.nn.softmax)\n",
        "])\n",
        "\n",
        "model.compile(optimizer='adam',\n",
        "              loss='sparse_categorical_crossentropy',\n",
        "              metrics=['accuracy']) "
      ],
      "execution_count": null,
      "outputs": []
    },
    {
      "cell_type": "markdown",
      "metadata": {
        "id": "ALLq6L_LwSF2"
      },
      "source": [
        "Train and evaluate model:"
      ]
    },
    {
      "cell_type": "code",
      "metadata": {
        "id": "-IoFAD5ZwTHi",
        "colab": {
          "base_uri": "https://localhost:8080/"
        },
        "outputId": "ffd25144-7ee9-4e3e-d088-1d8421ddf9b5"
      },
      "source": [
        "model.fit(x_train, y_train, epochs=20)\n",
        "\n",
        "print(\"Model accuracy on the test set is:\", model.evaluate(x_test, y_test)[1])\n"
      ],
      "execution_count": null,
      "outputs": [
        {
          "output_type": "stream",
          "name": "stdout",
          "text": [
            "Epoch 1/20\n",
            "1875/1875 [==============================] - 4s 2ms/step - loss: 1.4840 - accuracy: 0.5484\n",
            "Epoch 2/20\n",
            "1875/1875 [==============================] - 4s 2ms/step - loss: 0.7915 - accuracy: 0.7782\n",
            "Epoch 3/20\n",
            "1875/1875 [==============================] - 3s 2ms/step - loss: 0.6291 - accuracy: 0.8186\n",
            "Epoch 4/20\n",
            "1875/1875 [==============================] - 3s 2ms/step - loss: 0.5528 - accuracy: 0.8366\n",
            "Epoch 5/20\n",
            "1875/1875 [==============================] - 3s 2ms/step - loss: 0.5111 - accuracy: 0.8489\n",
            "Epoch 6/20\n",
            "1875/1875 [==============================] - 3s 2ms/step - loss: 0.4816 - accuracy: 0.8555\n",
            "Epoch 7/20\n",
            "1875/1875 [==============================] - 3s 2ms/step - loss: 0.4590 - accuracy: 0.8591\n",
            "Epoch 8/20\n",
            "1875/1875 [==============================] - 3s 2ms/step - loss: 0.4427 - accuracy: 0.8644\n",
            "Epoch 9/20\n",
            "1875/1875 [==============================] - 4s 2ms/step - loss: 0.4273 - accuracy: 0.8681\n",
            "Epoch 10/20\n",
            "1875/1875 [==============================] - 3s 2ms/step - loss: 0.4136 - accuracy: 0.8722\n",
            "Epoch 11/20\n",
            "1875/1875 [==============================] - 4s 2ms/step - loss: 0.4064 - accuracy: 0.8733\n",
            "Epoch 12/20\n",
            "1875/1875 [==============================] - 4s 2ms/step - loss: 0.3946 - accuracy: 0.8774\n",
            "Epoch 13/20\n",
            "1875/1875 [==============================] - 3s 2ms/step - loss: 0.3945 - accuracy: 0.8757\n",
            "Epoch 14/20\n",
            "1875/1875 [==============================] - 3s 2ms/step - loss: 0.3855 - accuracy: 0.8791\n",
            "Epoch 15/20\n",
            "1875/1875 [==============================] - 3s 2ms/step - loss: 0.3766 - accuracy: 0.8820\n",
            "Epoch 16/20\n",
            "1875/1875 [==============================] - 4s 2ms/step - loss: 0.3689 - accuracy: 0.8845\n",
            "Epoch 17/20\n",
            "1875/1875 [==============================] - 3s 2ms/step - loss: 0.3681 - accuracy: 0.8835\n",
            "Epoch 18/20\n",
            "1875/1875 [==============================] - 3s 2ms/step - loss: 0.3638 - accuracy: 0.8857\n",
            "Epoch 19/20\n",
            "1875/1875 [==============================] - 4s 2ms/step - loss: 0.3588 - accuracy: 0.8874\n",
            "Epoch 20/20\n",
            "1875/1875 [==============================] - 3s 2ms/step - loss: 0.3577 - accuracy: 0.8865\n",
            "313/313 [==============================] - 1s 1ms/step - loss: 0.2621 - accuracy: 0.9244\n",
            "Model accuracy on the test set is: 0.9243999719619751\n"
          ]
        }
      ]
    },
    {
      "cell_type": "markdown",
      "metadata": {
        "id": "BEujj9Hvxy25"
      },
      "source": [
        "See what you have got wrong!"
      ]
    },
    {
      "cell_type": "code",
      "metadata": {
        "id": "ciuV5pcZx1P-",
        "colab": {
          "base_uri": "https://localhost:8080/",
          "height": 281
        },
        "outputId": "5807a90d-e516-475e-d5f1-d488d219a16d"
      },
      "source": [
        "# Predict function outputs an array with the probability for each class\n",
        "# according to the trained classifier for each input example.\n",
        "# The np.argmax will return the index of the maximum class probability\n",
        "predicted_classes = np.argmax(model.predict(x_test), axis=-1)\n",
        "\n",
        "# Check which items we got wrong\n",
        "incorrect_indices = np.nonzero(predicted_classes != y_test)[0]\n",
        "\n",
        "plt.figure()\n",
        "for i, incorrect in enumerate(incorrect_indices[:9]):\n",
        "    plt.subplot(3,3,i+1)\n",
        "    plt.imshow(x_test[incorrect], cmap='gray', interpolation='none')\n",
        "    plt.title(\"Predicted {}, Class {}\".format(predicted_classes[incorrect], y_test[incorrect]))"
      ],
      "execution_count": null,
      "outputs": [
        {
          "output_type": "display_data",
          "data": {
            "image/png": "[encoded data removed]",
            "text/plain": [
              "<Figure size 432x288 with 9 Axes>"
            ]
          },
          "metadata": {
            "needs_background": "light"
          }
        }
      ]
    }
  ]
}