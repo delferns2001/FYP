{
  "nbformat": 4,
  "nbformat_minor": 0,
  "metadata": {
    "colab": {
      "name": "10h_Tutorial_Neural_Network_Classification.ipynb",
      "provenance": [],
      "authorship_tag": "ABX9TyOIZVH07aCyiA0uzMOuBfsz",
      "include_colab_link": true
    },
    "kernelspec": {
      "name": "python3",
      "display_name": "Python 3"
    },
    "language_info": {
      "name": "python"
    }
  },
  "cells": [
    {
      "cell_type": "markdown",
      "metadata": {
        "id": "view-in-github",
        "colab_type": "text"
      },
      "source": [
        "<a href=\"https://colab.research.google.com/github/delferns2001/FYP/blob/master/10h_Tutorial_Neural_Network_Classification.ipynb\" target=\"_parent\"><img src=\"https://colab.research.google.com/assets/colab-badge.svg\" alt=\"Open In Colab\"/></a>"
      ]
    },
    {
      "cell_type": "markdown",
      "source": [
        "# Introduction to neural network with TensorFlow\n",
        "\n",
        "in this notebook we are going to learn how to write a classification problems \n",
        "\n",
        "A classification problem is when the model tries to identify the input as part of the given catogories \n",
        "\n",
        "A few types of classification problems are: \n",
        "* Binary classification \n",
        "* Multiclass classification \n",
        "* Multilabel classification "
      ],
      "metadata": {
        "id": "XEhaT42X5GI6"
      }
    },
    {
      "cell_type": "markdown",
      "source": [
        "## Creating data to view and fit"
      ],
      "metadata": {
        "id": "kIer4V2v5x_i"
      }
    },
    {
      "cell_type": "code",
      "source": [
        "from sklearn.datasets import make_circles\n",
        "\n",
        "# Make 1000 example \n",
        "n_samples = 1000\n",
        "\n",
        "# Create circles \n",
        "\n",
        "X, y = make_circles(n_samples,\n",
        "                    noise = 0.03,\n",
        "                    random_state=42)"
      ],
      "metadata": {
        "id": "RyZNHiHI6Iqy"
      },
      "execution_count": null,
      "outputs": []
    },
    {
      "cell_type": "code",
      "source": [
        "X[:10]"
      ],
      "metadata": {
        "colab": {
          "base_uri": "https://localhost:8080/"
        },
        "id": "gIi5nRcp6sOy",
        "outputId": "62ff85ab-442b-466f-88be-b44d8f87bb5e"
      },
      "execution_count": null,
      "outputs": [
        {
          "output_type": "execute_result",
          "data": {
            "text/plain": [
              "array([[ 0.75424625,  0.23148074],\n",
              "       [-0.75615888,  0.15325888],\n",
              "       [-0.81539193,  0.17328203],\n",
              "       [-0.39373073,  0.69288277],\n",
              "       [ 0.44220765, -0.89672343],\n",
              "       [-0.47964637,  0.67643477],\n",
              "       [-0.01364836,  0.80334872],\n",
              "       [ 0.77151327,  0.14775959],\n",
              "       [-0.16932234, -0.79345575],\n",
              "       [-0.1214858 ,  1.02150905]])"
            ]
          },
          "metadata": {},
          "execution_count": 2
        }
      ]
    },
    {
      "cell_type": "code",
      "source": [
        "y[:10]"
      ],
      "metadata": {
        "colab": {
          "base_uri": "https://localhost:8080/"
        },
        "id": "c-4e-5pL6t_D",
        "outputId": "24f70108-eb5f-4a52-e24f-81b1eef22689"
      },
      "execution_count": null,
      "outputs": [
        {
          "output_type": "execute_result",
          "data": {
            "text/plain": [
              "array([1, 1, 1, 1, 0, 1, 1, 1, 1, 0])"
            ]
          },
          "metadata": {},
          "execution_count": 3
        }
      ]
    },
    {
      "cell_type": "markdown",
      "source": [
        "Lets visualise the data"
      ],
      "metadata": {
        "id": "6tEUzvYZ6ukr"
      }
    },
    {
      "cell_type": "code",
      "source": [
        "import pandas as pd\n",
        "circles = pd.DataFrame({\"X0\":X[:, 0], \"X1\":X[:, 1], \"label\":y})\n",
        "circles.head()"
      ],
      "metadata": {
        "colab": {
          "base_uri": "https://localhost:8080/",
          "height": 206
        },
        "id": "iBfgZ7pd7Ptl",
        "outputId": "bd29d911-6c3f-4452-86dd-eaba46906b1e"
      },
      "execution_count": null,
      "outputs": [
        {
          "output_type": "execute_result",
          "data": {
            "text/html": [
              "\n",
              "  <div id=\"df-61b140e8-2f72-4aa0-bf25-1ea79e01057d\">\n",
              "    <div class=\"colab-df-container\">\n",
              "      <div>\n",
              "<style scoped>\n",
              "    .dataframe tbody tr th:only-of-type {\n",
              "        vertical-align: middle;\n",
              "    }\n",
              "\n",
              "    .dataframe tbody tr th {\n",
              "        vertical-align: top;\n",
              "    }\n",
              "\n",
              "    .dataframe thead th {\n",
              "        text-align: right;\n",
              "    }\n",
              "</style>\n",
              "<table border=\"1\" class=\"dataframe\">\n",
              "  <thead>\n",
              "    <tr style=\"text-align: right;\">\n",
              "      <th></th>\n",
              "      <th>X0</th>\n",
              "      <th>X1</th>\n",
              "      <th>label</th>\n",
              "    </tr>\n",
              "  </thead>\n",
              "  <tbody>\n",
              "    <tr>\n",
              "      <th>0</th>\n",
              "      <td>0.754246</td>\n",
              "      <td>0.231481</td>\n",
              "      <td>1</td>\n",
              "    </tr>\n",
              "    <tr>\n",
              "      <th>1</th>\n",
              "      <td>-0.756159</td>\n",
              "      <td>0.153259</td>\n",
              "      <td>1</td>\n",
              "    </tr>\n",
              "    <tr>\n",
              "      <th>2</th>\n",
              "      <td>-0.815392</td>\n",
              "      <td>0.173282</td>\n",
              "      <td>1</td>\n",
              "    </tr>\n",
              "    <tr>\n",
              "      <th>3</th>\n",
              "      <td>-0.393731</td>\n",
              "      <td>0.692883</td>\n",
              "      <td>1</td>\n",
              "    </tr>\n",
              "    <tr>\n",
              "      <th>4</th>\n",
              "      <td>0.442208</td>\n",
              "      <td>-0.896723</td>\n",
              "      <td>0</td>\n",
              "    </tr>\n",
              "  </tbody>\n",
              "</table>\n",
              "</div>\n",
              "      <button class=\"colab-df-convert\" onclick=\"convertToInteractive('df-61b140e8-2f72-4aa0-bf25-1ea79e01057d')\"\n",
              "              title=\"Convert this dataframe to an interactive table.\"\n",
              "              style=\"display:none;\">\n",
              "        \n",
              "  <svg xmlns=\"http://www.w3.org/2000/svg\" height=\"24px\"viewBox=\"0 0 24 24\"\n",
              "       width=\"24px\">\n",
              "    <path d=\"M0 0h24v24H0V0z\" fill=\"none\"/>\n",
              "    <path d=\"M18.56 5.44l.94 2.06.94-2.06 2.06-.94-2.06-.94-.94-2.06-.94 2.06-2.06.94zm-11 1L8.5 8.5l.94-2.06 2.06-.94-2.06-.94L8.5 2.5l-.94 2.06-2.06.94zm10 10l.94 2.06.94-2.06 2.06-.94-2.06-.94-.94-2.06-.94 2.06-2.06.94z\"/><path d=\"M17.41 7.96l-1.37-1.37c-.4-.4-.92-.59-1.43-.59-.52 0-1.04.2-1.43.59L10.3 9.45l-7.72 7.72c-.78.78-.78 2.05 0 2.83L4 21.41c.39.39.9.59 1.41.59.51 0 1.02-.2 1.41-.59l7.78-7.78 2.81-2.81c.8-.78.8-2.07 0-2.86zM5.41 20L4 18.59l7.72-7.72 1.47 1.35L5.41 20z\"/>\n",
              "  </svg>\n",
              "      </button>\n",
              "      \n",
              "  <style>\n",
              "    .colab-df-container {\n",
              "      display:flex;\n",
              "      flex-wrap:wrap;\n",
              "      gap: 12px;\n",
              "    }\n",
              "\n",
              "    .colab-df-convert {\n",
              "      background-color: #E8F0FE;\n",
              "      border: none;\n",
              "      border-radius: 50%;\n",
              "      cursor: pointer;\n",
              "      display: none;\n",
              "      fill: #1967D2;\n",
              "      height: 32px;\n",
              "      padding: 0 0 0 0;\n",
              "      width: 32px;\n",
              "    }\n",
              "\n",
              "    .colab-df-convert:hover {\n",
              "      background-color: #E2EBFA;\n",
              "      box-shadow: 0px 1px 2px rgba(60, 64, 67, 0.3), 0px 1px 3px 1px rgba(60, 64, 67, 0.15);\n",
              "      fill: #174EA6;\n",
              "    }\n",
              "\n",
              "    [theme=dark] .colab-df-convert {\n",
              "      background-color: #3B4455;\n",
              "      fill: #D2E3FC;\n",
              "    }\n",
              "\n",
              "    [theme=dark] .colab-df-convert:hover {\n",
              "      background-color: #434B5C;\n",
              "      box-shadow: 0px 1px 3px 1px rgba(0, 0, 0, 0.15);\n",
              "      filter: drop-shadow(0px 1px 2px rgba(0, 0, 0, 0.3));\n",
              "      fill: #FFFFFF;\n",
              "    }\n",
              "  </style>\n",
              "\n",
              "      <script>\n",
              "        const buttonEl =\n",
              "          document.querySelector('#df-61b140e8-2f72-4aa0-bf25-1ea79e01057d button.colab-df-convert');\n",
              "        buttonEl.style.display =\n",
              "          google.colab.kernel.accessAllowed ? 'block' : 'none';\n",
              "\n",
              "        async function convertToInteractive(key) {\n",
              "          const element = document.querySelector('#df-61b140e8-2f72-4aa0-bf25-1ea79e01057d');\n",
              "          const dataTable =\n",
              "            await google.colab.kernel.invokeFunction('convertToInteractive',\n",
              "                                                     [key], {});\n",
              "          if (!dataTable) return;\n",
              "\n",
              "          const docLinkHtml = 'Like what you see? Visit the ' +\n",
              "            '<a target=\"_blank\" href=https://colab.research.google.com/notebooks/data_table.ipynb>data table notebook</a>'\n",
              "            + ' to learn more about interactive tables.';\n",
              "          element.innerHTML = '';\n",
              "          dataTable['output_type'] = 'display_data';\n",
              "          await google.colab.output.renderOutput(dataTable, element);\n",
              "          const docLink = document.createElement('div');\n",
              "          docLink.innerHTML = docLinkHtml;\n",
              "          element.appendChild(docLink);\n",
              "        }\n",
              "      </script>\n",
              "    </div>\n",
              "  </div>\n",
              "  "
            ],
            "text/plain": [
              "         X0        X1  label\n",
              "0  0.754246  0.231481      1\n",
              "1 -0.756159  0.153259      1\n",
              "2 -0.815392  0.173282      1\n",
              "3 -0.393731  0.692883      1\n",
              "4  0.442208 -0.896723      0"
            ]
          },
          "metadata": {},
          "execution_count": 4
        }
      ]
    },
    {
      "cell_type": "code",
      "source": [
        "# Visualise using a plot\n",
        "\n",
        "import matplotlib.pyplot as plt\n",
        "plt.scatter(X[:, 0], X[:, 1], c=y, cmap=plt.cm.RdYlBu)"
      ],
      "metadata": {
        "colab": {
          "base_uri": "https://localhost:8080/",
          "height": 283
        },
        "id": "DtZvtWg08ACL",
        "outputId": "28ad3f41-8383-41d7-d704-0ff75f5158ca"
      },
      "execution_count": null,
      "outputs": [
        {
          "output_type": "execute_result",
          "data": {
            "text/plain": [
              "<matplotlib.collections.PathCollection at 0x7f2a25142bd0>"
            ]
          },
          "metadata": {},
          "execution_count": 5
        },
        {
          "output_type": "display_data",
          "data": {
            "image/png": "[encoded data removed]",
            "text/plain": [
              "<Figure size 432x288 with 1 Axes>"
            ]
          },
          "metadata": {
            "needs_background": "light"
          }
        }
      ]
    },
    {
      "cell_type": "markdown",
      "source": [
        "## Inputs and Output shapes "
      ],
      "metadata": {
        "id": "SzOefJTD8nNq"
      }
    },
    {
      "cell_type": "code",
      "source": [
        "# Check the shapes of our features and labels \n",
        "\n",
        "X.shape, y.shape"
      ],
      "metadata": {
        "colab": {
          "base_uri": "https://localhost:8080/"
        },
        "id": "7u01AKLhdmFY",
        "outputId": "e5c541b4-10bb-43e4-e3bc-bbc5f60deddb"
      },
      "execution_count": null,
      "outputs": [
        {
          "output_type": "execute_result",
          "data": {
            "text/plain": [
              "((1000, 2), (1000,))"
            ]
          },
          "metadata": {},
          "execution_count": 6
        }
      ]
    },
    {
      "cell_type": "code",
      "source": [
        "# Check How many samples are we working with?\n",
        "len(X)"
      ],
      "metadata": {
        "colab": {
          "base_uri": "https://localhost:8080/"
        },
        "id": "yhizfd94dsjY",
        "outputId": "8c6cc565-d68e-495f-ed85-82e25457f1b5"
      },
      "execution_count": null,
      "outputs": [
        {
          "output_type": "execute_result",
          "data": {
            "text/plain": [
              "1000"
            ]
          },
          "metadata": {},
          "execution_count": 7
        }
      ]
    },
    {
      "cell_type": "code",
      "source": [
        "# The first example of features and labels \n",
        "X[0],y[0]"
      ],
      "metadata": {
        "colab": {
          "base_uri": "https://localhost:8080/"
        },
        "id": "4bYt63Fpd1oA",
        "outputId": "fecd4769-7a3e-4270-904c-67fa12728d0f"
      },
      "execution_count": null,
      "outputs": [
        {
          "output_type": "execute_result",
          "data": {
            "text/plain": [
              "(array([0.75424625, 0.23148074]), 1)"
            ]
          },
          "metadata": {},
          "execution_count": 8
        }
      ]
    },
    {
      "cell_type": "markdown",
      "source": [
        "## Steps in modelling\n",
        "\n",
        "1. Create or import model\n",
        "2. Compile the model \n",
        "3. Fit the model \n",
        "4. Evaluate the model \n",
        "5. Tweak \n",
        "6. Evaluate....\n"
      ],
      "metadata": {
        "id": "qsiUGylVd45a"
      }
    },
    {
      "cell_type": "code",
      "source": [
        "import tensorflow as tf\n",
        "\n",
        "# Set the random seed \n",
        "tf.random.set_seed(42)\n",
        "\n",
        "# 1. Create a model \n",
        "model = tf.keras.Sequential([\n",
        "    tf.keras.layers.Dense(1),\n",
        "    ])\n",
        "# 2. Compile the model \n",
        "model.compile(optimizer = tf.keras.optimizers.SGD(),\n",
        "              loss = tf.keras.losses.BinaryCrossentropy(),\n",
        "              metrics = [\"accuracy\"])\n",
        "\n",
        "# fit the model \n",
        "model.fit(X,y,epochs = 100, verbose = 1)\n"
      ],
      "metadata": {
        "colab": {
          "base_uri": "https://localhost:8080/"
        },
        "collapsed": true,
        "id": "ubPlw_NDeBMa",
        "outputId": "166ef3ea-7abb-4b8e-9f82-236f3727a1a7"
      },
      "execution_count": null,
      "outputs": [
        {
          "output_type": "stream",
          "name": "stdout",
          "text": [
            "Epoch 1/100\n",
            "32/32 [==============================] - 1s 4ms/step - loss: 2.8544 - accuracy: 0.4600\n",
            "Epoch 2/100\n",
            "32/32 [==============================] - 0s 3ms/step - loss: 0.7131 - accuracy: 0.5430\n",
            "Epoch 3/100\n",
            "32/32 [==============================] - 0s 4ms/step - loss: 0.6973 - accuracy: 0.5090\n",
            "Epoch 4/100\n",
            "32/32 [==============================] - 0s 3ms/step - loss: 0.6950 - accuracy: 0.5010\n",
            "Epoch 5/100\n",
            "32/32 [==============================] - 0s 2ms/step - loss: 0.6942 - accuracy: 0.4830\n",
            "Epoch 6/100\n",
            "32/32 [==============================] - 0s 2ms/step - loss: 0.6938 - accuracy: 0.4990\n",
            "Epoch 7/100\n",
            "32/32 [==============================] - 0s 2ms/step - loss: 0.6943 - accuracy: 0.4880\n",
            "Epoch 8/100\n",
            "32/32 [==============================] - 0s 4ms/step - loss: 0.6941 - accuracy: 0.4950\n",
            "Epoch 9/100\n",
            "32/32 [==============================] - 0s 3ms/step - loss: 0.6940 - accuracy: 0.4840\n",
            "Epoch 10/100\n",
            "32/32 [==============================] - 0s 5ms/step - loss: 0.6938 - accuracy: 0.4820\n",
            "Epoch 11/100\n",
            "32/32 [==============================] - 0s 4ms/step - loss: 0.6944 - accuracy: 0.4640\n",
            "Epoch 12/100\n",
            "32/32 [==============================] - 0s 4ms/step - loss: 0.6945 - accuracy: 0.4800\n",
            "Epoch 13/100\n",
            "32/32 [==============================] - 0s 4ms/step - loss: 0.6943 - accuracy: 0.4830\n",
            "Epoch 14/100\n",
            "32/32 [==============================] - 0s 3ms/step - loss: 0.6944 - accuracy: 0.5030\n",
            "Epoch 15/100\n",
            "32/32 [==============================] - 0s 2ms/step - loss: 0.6941 - accuracy: 0.4510\n",
            "Epoch 16/100\n",
            "32/32 [==============================] - 0s 3ms/step - loss: 0.6944 - accuracy: 0.4880\n",
            "Epoch 17/100\n",
            "32/32 [==============================] - 0s 3ms/step - loss: 0.6941 - accuracy: 0.4910\n",
            "Epoch 18/100\n",
            "32/32 [==============================] - 0s 2ms/step - loss: 0.6940 - accuracy: 0.4760\n",
            "Epoch 19/100\n",
            "32/32 [==============================] - 0s 2ms/step - loss: 0.6941 - accuracy: 0.4820\n",
            "Epoch 20/100\n",
            "32/32 [==============================] - 0s 3ms/step - loss: 0.6941 - accuracy: 0.4560\n",
            "Epoch 21/100\n",
            "32/32 [==============================] - 0s 4ms/step - loss: 0.6939 - accuracy: 0.4900\n",
            "Epoch 22/100\n",
            "32/32 [==============================] - 0s 3ms/step - loss: 0.6942 - accuracy: 0.4690\n",
            "Epoch 23/100\n",
            "32/32 [==============================] - 0s 4ms/step - loss: 0.6940 - accuracy: 0.4840\n",
            "Epoch 24/100\n",
            "32/32 [==============================] - 0s 3ms/step - loss: 0.6942 - accuracy: 0.4680\n",
            "Epoch 25/100\n",
            "32/32 [==============================] - 0s 2ms/step - loss: 0.6939 - accuracy: 0.4890\n",
            "Epoch 26/100\n",
            "32/32 [==============================] - 0s 2ms/step - loss: 0.6943 - accuracy: 0.4740\n",
            "Epoch 27/100\n",
            "32/32 [==============================] - 0s 2ms/step - loss: 0.6938 - accuracy: 0.5060\n",
            "Epoch 28/100\n",
            "32/32 [==============================] - 0s 3ms/step - loss: 0.6943 - accuracy: 0.4690\n",
            "Epoch 29/100\n",
            "32/32 [==============================] - 0s 4ms/step - loss: 0.6942 - accuracy: 0.4620\n",
            "Epoch 30/100\n",
            "32/32 [==============================] - 0s 3ms/step - loss: 0.6941 - accuracy: 0.4870\n",
            "Epoch 31/100\n",
            "32/32 [==============================] - 0s 3ms/step - loss: 0.6942 - accuracy: 0.5230\n",
            "Epoch 32/100\n",
            "32/32 [==============================] - 0s 3ms/step - loss: 0.6941 - accuracy: 0.4670\n",
            "Epoch 33/100\n",
            "32/32 [==============================] - 0s 3ms/step - loss: 0.6942 - accuracy: 0.4760\n",
            "Epoch 34/100\n",
            "32/32 [==============================] - 0s 3ms/step - loss: 0.6946 - accuracy: 0.4590\n",
            "Epoch 35/100\n",
            "32/32 [==============================] - 0s 4ms/step - loss: 0.6941 - accuracy: 0.5010\n",
            "Epoch 36/100\n",
            "32/32 [==============================] - 0s 3ms/step - loss: 0.6943 - accuracy: 0.4710\n",
            "Epoch 37/100\n",
            "32/32 [==============================] - 0s 4ms/step - loss: 0.6940 - accuracy: 0.5020\n",
            "Epoch 38/100\n",
            "32/32 [==============================] - 0s 4ms/step - loss: 0.6940 - accuracy: 0.4670\n",
            "Epoch 39/100\n",
            "32/32 [==============================] - 0s 3ms/step - loss: 0.6941 - accuracy: 0.4350\n",
            "Epoch 40/100\n",
            "32/32 [==============================] - 0s 3ms/step - loss: 0.6948 - accuracy: 0.4720\n",
            "Epoch 41/100\n",
            "32/32 [==============================] - 0s 3ms/step - loss: 0.6941 - accuracy: 0.4730\n",
            "Epoch 42/100\n",
            "32/32 [==============================] - 0s 3ms/step - loss: 0.6941 - accuracy: 0.4640\n",
            "Epoch 43/100\n",
            "32/32 [==============================] - 0s 5ms/step - loss: 0.6942 - accuracy: 0.4850\n",
            "Epoch 44/100\n",
            "32/32 [==============================] - 0s 3ms/step - loss: 0.6935 - accuracy: 0.5080\n",
            "Epoch 45/100\n",
            "32/32 [==============================] - 0s 2ms/step - loss: 0.6944 - accuracy: 0.4710\n",
            "Epoch 46/100\n",
            "32/32 [==============================] - 0s 3ms/step - loss: 0.6942 - accuracy: 0.4850\n",
            "Epoch 47/100\n",
            "32/32 [==============================] - 0s 4ms/step - loss: 0.6939 - accuracy: 0.4940\n",
            "Epoch 48/100\n",
            "32/32 [==============================] - 0s 2ms/step - loss: 0.6939 - accuracy: 0.4900\n",
            "Epoch 49/100\n",
            "32/32 [==============================] - 0s 3ms/step - loss: 0.6941 - accuracy: 0.4770\n",
            "Epoch 50/100\n",
            "32/32 [==============================] - 0s 3ms/step - loss: 0.6941 - accuracy: 0.4980\n",
            "Epoch 51/100\n",
            "32/32 [==============================] - 0s 3ms/step - loss: 0.6942 - accuracy: 0.4820\n",
            "Epoch 52/100\n",
            "32/32 [==============================] - 0s 4ms/step - loss: 0.6941 - accuracy: 0.4890\n",
            "Epoch 53/100\n",
            "32/32 [==============================] - 0s 3ms/step - loss: 0.6939 - accuracy: 0.4690\n",
            "Epoch 54/100\n",
            "32/32 [==============================] - 0s 3ms/step - loss: 0.6943 - accuracy: 0.4920\n",
            "Epoch 55/100\n",
            "32/32 [==============================] - 0s 2ms/step - loss: 0.6942 - accuracy: 0.4970\n",
            "Epoch 56/100\n",
            "32/32 [==============================] - 0s 3ms/step - loss: 0.6940 - accuracy: 0.4800\n",
            "Epoch 57/100\n",
            "32/32 [==============================] - 0s 2ms/step - loss: 0.6944 - accuracy: 0.4710\n",
            "Epoch 58/100\n",
            "32/32 [==============================] - 0s 3ms/step - loss: 0.6942 - accuracy: 0.4870\n",
            "Epoch 59/100\n",
            "32/32 [==============================] - 0s 4ms/step - loss: 0.6939 - accuracy: 0.5030\n",
            "Epoch 60/100\n",
            "32/32 [==============================] - 0s 3ms/step - loss: 0.6942 - accuracy: 0.5060\n",
            "Epoch 61/100\n",
            "32/32 [==============================] - 0s 3ms/step - loss: 0.6944 - accuracy: 0.4990\n",
            "Epoch 62/100\n",
            "32/32 [==============================] - 0s 2ms/step - loss: 0.6941 - accuracy: 0.4760\n",
            "Epoch 63/100\n",
            "32/32 [==============================] - 0s 3ms/step - loss: 0.6940 - accuracy: 0.4690\n",
            "Epoch 64/100\n",
            "32/32 [==============================] - 0s 3ms/step - loss: 0.6942 - accuracy: 0.4930\n",
            "Epoch 65/100\n",
            "32/32 [==============================] - 0s 3ms/step - loss: 0.6943 - accuracy: 0.4690\n",
            "Epoch 66/100\n",
            "32/32 [==============================] - 0s 3ms/step - loss: 0.6940 - accuracy: 0.4770\n",
            "Epoch 67/100\n",
            "32/32 [==============================] - 0s 3ms/step - loss: 0.6945 - accuracy: 0.4670\n",
            "Epoch 68/100\n",
            "32/32 [==============================] - 0s 3ms/step - loss: 0.6939 - accuracy: 0.4680\n",
            "Epoch 69/100\n",
            "32/32 [==============================] - 0s 3ms/step - loss: 0.6943 - accuracy: 0.5070\n",
            "Epoch 70/100\n",
            "32/32 [==============================] - 0s 3ms/step - loss: 0.6943 - accuracy: 0.4630\n",
            "Epoch 71/100\n",
            "32/32 [==============================] - 0s 2ms/step - loss: 0.6939 - accuracy: 0.4820\n",
            "Epoch 72/100\n",
            "32/32 [==============================] - 0s 3ms/step - loss: 0.6942 - accuracy: 0.4890\n",
            "Epoch 73/100\n",
            "32/32 [==============================] - 0s 3ms/step - loss: 0.6941 - accuracy: 0.4760\n",
            "Epoch 74/100\n",
            "32/32 [==============================] - 0s 2ms/step - loss: 0.6940 - accuracy: 0.5090\n",
            "Epoch 75/100\n",
            "32/32 [==============================] - 0s 2ms/step - loss: 0.6941 - accuracy: 0.4940\n",
            "Epoch 76/100\n",
            "32/32 [==============================] - 0s 3ms/step - loss: 0.6940 - accuracy: 0.5010\n",
            "Epoch 77/100\n",
            "32/32 [==============================] - 0s 3ms/step - loss: 0.6942 - accuracy: 0.4870\n",
            "Epoch 78/100\n",
            "32/32 [==============================] - 0s 3ms/step - loss: 0.6941 - accuracy: 0.4610\n",
            "Epoch 79/100\n",
            "32/32 [==============================] - 0s 4ms/step - loss: 0.6940 - accuracy: 0.4860\n",
            "Epoch 80/100\n",
            "32/32 [==============================] - 0s 2ms/step - loss: 0.6943 - accuracy: 0.5050\n",
            "Epoch 81/100\n",
            "32/32 [==============================] - 0s 3ms/step - loss: 0.6943 - accuracy: 0.5050\n",
            "Epoch 82/100\n",
            "32/32 [==============================] - 0s 3ms/step - loss: 0.6941 - accuracy: 0.4690\n",
            "Epoch 83/100\n",
            "32/32 [==============================] - 0s 3ms/step - loss: 0.6941 - accuracy: 0.4930\n",
            "Epoch 84/100\n",
            "32/32 [==============================] - 0s 3ms/step - loss: 0.6942 - accuracy: 0.4960\n",
            "Epoch 85/100\n",
            "32/32 [==============================] - 0s 2ms/step - loss: 0.6939 - accuracy: 0.4930\n",
            "Epoch 86/100\n",
            "32/32 [==============================] - 0s 4ms/step - loss: 0.6940 - accuracy: 0.4880\n",
            "Epoch 87/100\n",
            "32/32 [==============================] - 0s 3ms/step - loss: 0.6942 - accuracy: 0.4720\n",
            "Epoch 88/100\n",
            "32/32 [==============================] - 0s 2ms/step - loss: 0.6944 - accuracy: 0.4470\n",
            "Epoch 89/100\n",
            "32/32 [==============================] - 0s 4ms/step - loss: 0.6945 - accuracy: 0.4720\n",
            "Epoch 90/100\n",
            "32/32 [==============================] - 0s 3ms/step - loss: 0.6941 - accuracy: 0.4820\n",
            "Epoch 91/100\n",
            "32/32 [==============================] - 0s 2ms/step - loss: 0.6944 - accuracy: 0.4860\n",
            "Epoch 92/100\n",
            "32/32 [==============================] - 0s 2ms/step - loss: 0.6941 - accuracy: 0.5050\n",
            "Epoch 93/100\n",
            "32/32 [==============================] - 0s 3ms/step - loss: 0.6941 - accuracy: 0.4720\n",
            "Epoch 94/100\n",
            "32/32 [==============================] - 0s 4ms/step - loss: 0.6946 - accuracy: 0.4770\n",
            "Epoch 95/100\n",
            "32/32 [==============================] - 0s 2ms/step - loss: 0.6940 - accuracy: 0.4760\n",
            "Epoch 96/100\n",
            "32/32 [==============================] - 0s 2ms/step - loss: 0.6945 - accuracy: 0.4610\n",
            "Epoch 97/100\n",
            "32/32 [==============================] - 0s 3ms/step - loss: 0.6942 - accuracy: 0.4690\n",
            "Epoch 98/100\n",
            "32/32 [==============================] - 0s 2ms/step - loss: 0.6942 - accuracy: 0.4840\n",
            "Epoch 99/100\n",
            "32/32 [==============================] - 0s 3ms/step - loss: 0.6944 - accuracy: 0.4980\n",
            "Epoch 100/100\n",
            "32/32 [==============================] - 0s 2ms/step - loss: 0.6943 - accuracy: 0.4850\n"
          ]
        },
        {
          "output_type": "execute_result",
          "data": {
            "text/plain": [
              "<keras.callbacks.History at 0x7f29b9e6aad0>"
            ]
          },
          "metadata": {},
          "execution_count": 9
        }
      ]
    },
    {
      "cell_type": "code",
      "source": [
        "model.evaluate(X,y)"
      ],
      "metadata": {
        "colab": {
          "base_uri": "https://localhost:8080/"
        },
        "id": "Dr-02Bexje37",
        "outputId": "71ee5014-f127-4700-ddff-9c6f30957e28"
      },
      "execution_count": null,
      "outputs": [
        {
          "output_type": "stream",
          "name": "stdout",
          "text": [
            "32/32 [==============================] - 0s 3ms/step - loss: 0.6932 - accuracy: 0.5000\n"
          ]
        },
        {
          "output_type": "execute_result",
          "data": {
            "text/plain": [
              "[0.6932450532913208, 0.5]"
            ]
          },
          "metadata": {},
          "execution_count": 10
        }
      ]
    },
    {
      "cell_type": "markdown",
      "source": [
        "Since the model is getting about 50% accuracy, the model is basically guessing, \n",
        "lets create a model with more layers "
      ],
      "metadata": {
        "id": "KnIvVNEzeeZJ"
      }
    },
    {
      "cell_type": "code",
      "source": [
        "import tensorflow as tf\n",
        "\n",
        "# Set the random seed \n",
        "tf.random.set_seed(42)\n",
        "\n",
        "# 1. Create a model \n",
        "model_2 = tf.keras.Sequential([\n",
        "    tf.keras.layers.Dense(100),\n",
        "    tf.keras.layers.Dense(1),\n",
        "\n",
        "\n",
        "    ])\n",
        "# 2. Compile the model \n",
        "model_2.compile(optimizer = tf.keras.optimizers.SGD(),\n",
        "              loss = tf.keras.losses.BinaryCrossentropy(),\n",
        "              metrics = [\"accuracy\"])\n",
        "\n",
        "# fit the model \n",
        "model_2.fit(X,y,epochs = 100, verbose = 1)"
      ],
      "metadata": {
        "colab": {
          "base_uri": "https://localhost:8080/"
        },
        "collapsed": true,
        "id": "QISwBjB7jQnZ",
        "outputId": "cecd2e1c-57d1-45c9-ddd2-f7a0a271d38f"
      },
      "execution_count": null,
      "outputs": [
        {
          "output_type": "stream",
          "name": "stdout",
          "text": [
            "Epoch 1/100\n",
            "32/32 [==============================] - 1s 2ms/step - loss: 1.0455 - accuracy: 0.4840\n",
            "Epoch 2/100\n",
            "32/32 [==============================] - 0s 1ms/step - loss: 0.6967 - accuracy: 0.5100\n",
            "Epoch 3/100\n",
            "32/32 [==============================] - 0s 2ms/step - loss: 0.6982 - accuracy: 0.4650\n",
            "Epoch 4/100\n",
            "32/32 [==============================] - 0s 2ms/step - loss: 0.6958 - accuracy: 0.4880\n",
            "Epoch 5/100\n",
            "32/32 [==============================] - 0s 2ms/step - loss: 0.6953 - accuracy: 0.4780\n",
            "Epoch 6/100\n",
            "32/32 [==============================] - 0s 2ms/step - loss: 0.6946 - accuracy: 0.5110\n",
            "Epoch 7/100\n",
            "32/32 [==============================] - 0s 2ms/step - loss: 0.6970 - accuracy: 0.4760\n",
            "Epoch 8/100\n",
            "32/32 [==============================] - 0s 2ms/step - loss: 0.6955 - accuracy: 0.5020\n",
            "Epoch 9/100\n",
            "32/32 [==============================] - 0s 2ms/step - loss: 0.6964 - accuracy: 0.4890\n",
            "Epoch 10/100\n",
            "32/32 [==============================] - 0s 2ms/step - loss: 0.6950 - accuracy: 0.4680\n",
            "Epoch 11/100\n",
            "32/32 [==============================] - 0s 1ms/step - loss: 0.6971 - accuracy: 0.4680\n",
            "Epoch 12/100\n",
            "32/32 [==============================] - 0s 2ms/step - loss: 0.6971 - accuracy: 0.4990\n",
            "Epoch 13/100\n",
            "32/32 [==============================] - 0s 2ms/step - loss: 0.6973 - accuracy: 0.4820\n",
            "Epoch 14/100\n",
            "32/32 [==============================] - 0s 1ms/step - loss: 0.6971 - accuracy: 0.4840\n",
            "Epoch 15/100\n",
            "32/32 [==============================] - 0s 2ms/step - loss: 0.6961 - accuracy: 0.4640\n",
            "Epoch 16/100\n",
            "32/32 [==============================] - 0s 2ms/step - loss: 0.6974 - accuracy: 0.4830\n",
            "Epoch 17/100\n",
            "32/32 [==============================] - 0s 2ms/step - loss: 0.6956 - accuracy: 0.5000\n",
            "Epoch 18/100\n",
            "32/32 [==============================] - 0s 2ms/step - loss: 0.6956 - accuracy: 0.4910\n",
            "Epoch 19/100\n",
            "32/32 [==============================] - 0s 2ms/step - loss: 0.6957 - accuracy: 0.4970\n",
            "Epoch 20/100\n",
            "32/32 [==============================] - 0s 2ms/step - loss: 0.6958 - accuracy: 0.4820\n",
            "Epoch 21/100\n",
            "32/32 [==============================] - 0s 2ms/step - loss: 0.6949 - accuracy: 0.4980\n",
            "Epoch 22/100\n",
            "32/32 [==============================] - 0s 2ms/step - loss: 0.6963 - accuracy: 0.4720\n",
            "Epoch 23/100\n",
            "32/32 [==============================] - 0s 1ms/step - loss: 0.6956 - accuracy: 0.4750\n",
            "Epoch 24/100\n",
            "32/32 [==============================] - 0s 2ms/step - loss: 0.6960 - accuracy: 0.4900\n",
            "Epoch 25/100\n",
            "32/32 [==============================] - 0s 2ms/step - loss: 0.6948 - accuracy: 0.4920\n",
            "Epoch 26/100\n",
            "32/32 [==============================] - 0s 2ms/step - loss: 0.6969 - accuracy: 0.4770\n",
            "Epoch 27/100\n",
            "32/32 [==============================] - 0s 2ms/step - loss: 0.6945 - accuracy: 0.5060\n",
            "Epoch 28/100\n",
            "32/32 [==============================] - 0s 2ms/step - loss: 0.6974 - accuracy: 0.4470\n",
            "Epoch 29/100\n",
            "32/32 [==============================] - 0s 2ms/step - loss: 0.6957 - accuracy: 0.4960\n",
            "Epoch 30/100\n",
            "32/32 [==============================] - 0s 2ms/step - loss: 0.6960 - accuracy: 0.4930\n",
            "Epoch 31/100\n",
            "32/32 [==============================] - 0s 1ms/step - loss: 0.6960 - accuracy: 0.5000\n",
            "Epoch 32/100\n",
            "32/32 [==============================] - 0s 1ms/step - loss: 0.6957 - accuracy: 0.4870\n",
            "Epoch 33/100\n",
            "32/32 [==============================] - 0s 2ms/step - loss: 0.6961 - accuracy: 0.4680\n",
            "Epoch 34/100\n",
            "32/32 [==============================] - 0s 1ms/step - loss: 0.6971 - accuracy: 0.4800\n",
            "Epoch 35/100\n",
            "32/32 [==============================] - 0s 1ms/step - loss: 0.6958 - accuracy: 0.5120\n",
            "Epoch 36/100\n",
            "32/32 [==============================] - 0s 1ms/step - loss: 0.6970 - accuracy: 0.4630\n",
            "Epoch 37/100\n",
            "32/32 [==============================] - 0s 2ms/step - loss: 0.6961 - accuracy: 0.4850\n",
            "Epoch 38/100\n",
            "32/32 [==============================] - 0s 2ms/step - loss: 0.6954 - accuracy: 0.4860\n",
            "Epoch 39/100\n",
            "32/32 [==============================] - 0s 2ms/step - loss: 0.6963 - accuracy: 0.4470\n",
            "Epoch 40/100\n",
            "32/32 [==============================] - 0s 2ms/step - loss: 0.6980 - accuracy: 0.4730\n",
            "Epoch 41/100\n",
            "32/32 [==============================] - 0s 2ms/step - loss: 0.6954 - accuracy: 0.4930\n",
            "Epoch 42/100\n",
            "32/32 [==============================] - 0s 2ms/step - loss: 0.6955 - accuracy: 0.4730\n",
            "Epoch 43/100\n",
            "32/32 [==============================] - 0s 2ms/step - loss: 0.6965 - accuracy: 0.4910\n",
            "Epoch 44/100\n",
            "32/32 [==============================] - 0s 2ms/step - loss: 0.6937 - accuracy: 0.5220\n",
            "Epoch 45/100\n",
            "32/32 [==============================] - 0s 1ms/step - loss: 0.6974 - accuracy: 0.4880\n",
            "Epoch 46/100\n",
            "32/32 [==============================] - 0s 2ms/step - loss: 0.6964 - accuracy: 0.4760\n",
            "Epoch 47/100\n",
            "32/32 [==============================] - 0s 2ms/step - loss: 0.6946 - accuracy: 0.5170\n",
            "Epoch 48/100\n",
            "32/32 [==============================] - 0s 1ms/step - loss: 0.6949 - accuracy: 0.4980\n",
            "Epoch 49/100\n",
            "32/32 [==============================] - 0s 2ms/step - loss: 0.6961 - accuracy: 0.4910\n",
            "Epoch 50/100\n",
            "32/32 [==============================] - 0s 2ms/step - loss: 0.6960 - accuracy: 0.5030\n",
            "Epoch 51/100\n",
            "32/32 [==============================] - 0s 1ms/step - loss: 0.6967 - accuracy: 0.4880\n",
            "Epoch 52/100\n",
            "32/32 [==============================] - 0s 2ms/step - loss: 0.6959 - accuracy: 0.5050\n",
            "Epoch 53/100\n",
            "32/32 [==============================] - 0s 2ms/step - loss: 0.6945 - accuracy: 0.4930\n",
            "Epoch 54/100\n",
            "32/32 [==============================] - 0s 2ms/step - loss: 0.6972 - accuracy: 0.4950\n",
            "Epoch 55/100\n",
            "32/32 [==============================] - 0s 2ms/step - loss: 0.6957 - accuracy: 0.5100\n",
            "Epoch 56/100\n",
            "32/32 [==============================] - 0s 2ms/step - loss: 0.6953 - accuracy: 0.4790\n",
            "Epoch 57/100\n",
            "32/32 [==============================] - 0s 2ms/step - loss: 0.6972 - accuracy: 0.4900\n",
            "Epoch 58/100\n",
            "32/32 [==============================] - 0s 2ms/step - loss: 0.6959 - accuracy: 0.4780\n",
            "Epoch 59/100\n",
            "32/32 [==============================] - 0s 2ms/step - loss: 0.6949 - accuracy: 0.5300\n",
            "Epoch 60/100\n",
            "32/32 [==============================] - 0s 1ms/step - loss: 0.6963 - accuracy: 0.4950\n",
            "Epoch 61/100\n",
            "32/32 [==============================] - 0s 2ms/step - loss: 0.6968 - accuracy: 0.4560\n",
            "Epoch 62/100\n",
            "32/32 [==============================] - 0s 2ms/step - loss: 0.6960 - accuracy: 0.4920\n",
            "Epoch 63/100\n",
            "32/32 [==============================] - 0s 2ms/step - loss: 0.6957 - accuracy: 0.4570\n",
            "Epoch 64/100\n",
            "32/32 [==============================] - 0s 1ms/step - loss: 0.6960 - accuracy: 0.5000\n",
            "Epoch 65/100\n",
            "32/32 [==============================] - 0s 2ms/step - loss: 0.6969 - accuracy: 0.4840\n",
            "Epoch 66/100\n",
            "32/32 [==============================] - 0s 2ms/step - loss: 0.6956 - accuracy: 0.5000\n",
            "Epoch 67/100\n",
            "32/32 [==============================] - 0s 2ms/step - loss: 0.6974 - accuracy: 0.4640\n",
            "Epoch 68/100\n",
            "32/32 [==============================] - 0s 2ms/step - loss: 0.6953 - accuracy: 0.4940\n",
            "Epoch 69/100\n",
            "32/32 [==============================] - 0s 2ms/step - loss: 0.6971 - accuracy: 0.4910\n",
            "Epoch 70/100\n",
            "32/32 [==============================] - 0s 2ms/step - loss: 0.6966 - accuracy: 0.4710\n",
            "Epoch 71/100\n",
            "32/32 [==============================] - 0s 2ms/step - loss: 0.6958 - accuracy: 0.4770\n",
            "Epoch 72/100\n",
            "32/32 [==============================] - 0s 2ms/step - loss: 0.6962 - accuracy: 0.4960\n",
            "Epoch 73/100\n",
            "32/32 [==============================] - 0s 2ms/step - loss: 0.6960 - accuracy: 0.4990\n",
            "Epoch 74/100\n",
            "32/32 [==============================] - 0s 2ms/step - loss: 0.6957 - accuracy: 0.5130\n",
            "Epoch 75/100\n",
            "32/32 [==============================] - 0s 2ms/step - loss: 0.6956 - accuracy: 0.4920\n",
            "Epoch 76/100\n",
            "32/32 [==============================] - 0s 2ms/step - loss: 0.6957 - accuracy: 0.4940\n",
            "Epoch 77/100\n",
            "32/32 [==============================] - 0s 1ms/step - loss: 0.6962 - accuracy: 0.4890\n",
            "Epoch 78/100\n",
            "32/32 [==============================] - 0s 2ms/step - loss: 0.6959 - accuracy: 0.4790\n",
            "Epoch 79/100\n",
            "32/32 [==============================] - 0s 2ms/step - loss: 0.6954 - accuracy: 0.4970\n",
            "Epoch 80/100\n",
            "32/32 [==============================] - 0s 2ms/step - loss: 0.6968 - accuracy: 0.4780\n",
            "Epoch 81/100\n",
            "32/32 [==============================] - 0s 2ms/step - loss: 0.6958 - accuracy: 0.4980\n",
            "Epoch 82/100\n",
            "32/32 [==============================] - 0s 1ms/step - loss: 0.6956 - accuracy: 0.4710\n",
            "Epoch 83/100\n",
            "32/32 [==============================] - 0s 2ms/step - loss: 0.6954 - accuracy: 0.4750\n",
            "Epoch 84/100\n",
            "32/32 [==============================] - 0s 2ms/step - loss: 0.6970 - accuracy: 0.4920\n",
            "Epoch 85/100\n",
            "32/32 [==============================] - 0s 1ms/step - loss: 0.6954 - accuracy: 0.4840\n",
            "Epoch 86/100\n",
            "32/32 [==============================] - 0s 2ms/step - loss: 0.6953 - accuracy: 0.5090\n",
            "Epoch 87/100\n",
            "32/32 [==============================] - 0s 2ms/step - loss: 0.6966 - accuracy: 0.4810\n",
            "Epoch 88/100\n",
            "32/32 [==============================] - 0s 2ms/step - loss: 0.6970 - accuracy: 0.4570\n",
            "Epoch 89/100\n",
            "32/32 [==============================] - 0s 2ms/step - loss: 0.6968 - accuracy: 0.4750\n",
            "Epoch 90/100\n",
            "32/32 [==============================] - 0s 2ms/step - loss: 0.6955 - accuracy: 0.4990\n",
            "Epoch 91/100\n",
            "32/32 [==============================] - 0s 2ms/step - loss: 0.6971 - accuracy: 0.4970\n",
            "Epoch 92/100\n",
            "32/32 [==============================] - 0s 2ms/step - loss: 0.6957 - accuracy: 0.5060\n",
            "Epoch 93/100\n",
            "32/32 [==============================] - 0s 2ms/step - loss: 0.6953 - accuracy: 0.5100\n",
            "Epoch 94/100\n",
            "32/32 [==============================] - 0s 1ms/step - loss: 0.6978 - accuracy: 0.4870\n",
            "Epoch 95/100\n",
            "32/32 [==============================] - 0s 2ms/step - loss: 0.6956 - accuracy: 0.4900\n",
            "Epoch 96/100\n",
            "32/32 [==============================] - 0s 2ms/step - loss: 0.6968 - accuracy: 0.4890\n",
            "Epoch 97/100\n",
            "32/32 [==============================] - 0s 1ms/step - loss: 0.6962 - accuracy: 0.4740\n",
            "Epoch 98/100\n",
            "32/32 [==============================] - 0s 2ms/step - loss: 0.6963 - accuracy: 0.4720\n",
            "Epoch 99/100\n",
            "32/32 [==============================] - 0s 2ms/step - loss: 0.6970 - accuracy: 0.4800\n",
            "Epoch 100/100\n",
            "32/32 [==============================] - 0s 2ms/step - loss: 0.6960 - accuracy: 0.4630\n"
          ]
        },
        {
          "output_type": "execute_result",
          "data": {
            "text/plain": [
              "<keras.callbacks.History at 0x7f29b9d4b0d0>"
            ]
          },
          "metadata": {},
          "execution_count": 11
        }
      ]
    },
    {
      "cell_type": "code",
      "source": [
        "model_2.evaluate(X,y)"
      ],
      "metadata": {
        "colab": {
          "base_uri": "https://localhost:8080/"
        },
        "id": "blMDryKPjZDI",
        "outputId": "78e8bb6d-bf02-4fb2-a80e-99b2d20a52f4"
      },
      "execution_count": null,
      "outputs": [
        {
          "output_type": "stream",
          "name": "stdout",
          "text": [
            "32/32 [==============================] - 0s 1ms/step - loss: 0.6950 - accuracy: 0.5000\n"
          ]
        },
        {
          "output_type": "execute_result",
          "data": {
            "text/plain": [
              "[0.6949685215950012, 0.5]"
            ]
          },
          "metadata": {},
          "execution_count": 12
        }
      ]
    },
    {
      "cell_type": "code",
      "source": [
        "circles[\"label\"].value_counts()"
      ],
      "metadata": {
        "colab": {
          "base_uri": "https://localhost:8080/"
        },
        "id": "TRsQ7PtBjtoY",
        "outputId": "b6e77eaa-08d1-4df3-d63b-7f24eac89935"
      },
      "execution_count": null,
      "outputs": [
        {
          "output_type": "execute_result",
          "data": {
            "text/plain": [
              "1    500\n",
              "0    500\n",
              "Name: label, dtype: int64"
            ]
          },
          "metadata": {},
          "execution_count": 13
        }
      ]
    },
    {
      "cell_type": "markdown",
      "source": [
        "## Improving our model \n",
        "\n",
        "Ways to improve the model:\n",
        "\n",
        "1. Create a model - add more layers or increase the number of hidden units\n",
        "2. Compile a model - use a different optimisation function \n",
        "3. Fitting a model - we might let the model train for more epochs"
      ],
      "metadata": {
        "id": "ry7kncuBjzTY"
      }
    },
    {
      "cell_type": "code",
      "source": [
        "import tensorflow as tf\n",
        "\n",
        "# Set the random seed \n",
        "tf.random.set_seed(42)\n",
        "\n",
        "# 1. Create a model \n",
        "model_3 = tf.keras.Sequential([\n",
        "    tf.keras.layers.Dense(100),\n",
        "    tf.keras.layers.Dense(10),\n",
        "    tf.keras.layers.Dense(1)\n",
        "    ])\n",
        "# 2. Compile the model \n",
        "model_3.compile(optimizer = tf.keras.optimizers.Adam(),\n",
        "              loss = tf.keras.losses.BinaryCrossentropy(),\n",
        "              metrics = [\"accuracy\"])\n",
        "\n",
        "# fit the model \n",
        "model_3.fit(X,y,epochs = 100, verbose = 0)"
      ],
      "metadata": {
        "id": "SMox_3-YkXuJ",
        "colab": {
          "base_uri": "https://localhost:8080/"
        },
        "outputId": "7d98af32-ff9d-438a-8677-6186742f288c"
      },
      "execution_count": null,
      "outputs": [
        {
          "output_type": "execute_result",
          "data": {
            "text/plain": [
              "<keras.callbacks.History at 0x7f29b9c2f810>"
            ]
          },
          "metadata": {},
          "execution_count": 14
        }
      ]
    },
    {
      "cell_type": "code",
      "source": [
        "model_3.evaluate(X,y)"
      ],
      "metadata": {
        "colab": {
          "base_uri": "https://localhost:8080/"
        },
        "collapsed": true,
        "id": "jMWfiWBylKuZ",
        "outputId": "50851d42-2c28-4223-ac75-cb532657cd5e"
      },
      "execution_count": null,
      "outputs": [
        {
          "output_type": "stream",
          "name": "stdout",
          "text": [
            "32/32 [==============================] - 0s 1ms/step - loss: 0.6980 - accuracy: 0.5080\n"
          ]
        },
        {
          "output_type": "execute_result",
          "data": {
            "text/plain": [
              "[0.6980254650115967, 0.5080000162124634]"
            ]
          },
          "metadata": {},
          "execution_count": 15
        }
      ]
    },
    {
      "cell_type": "markdown",
      "source": [
        "To visualise the model's predictions, Lets create a function `plot_decision_boundry()`, This function will: \n",
        "* Take in a trained model, features (X) and labels(y)\n",
        "* Create a meshgrid of the different X values \n",
        "* Make predictions acorss the meshgrid \n",
        "* Plot the predictions as well as a line between zones (Where each unique class falls)"
      ],
      "metadata": {
        "id": "2BinV4VUmJSy"
      }
    },
    {
      "cell_type": "code",
      "source": [
        "X,y"
      ],
      "metadata": {
        "colab": {
          "base_uri": "https://localhost:8080/"
        },
        "collapsed": true,
        "id": "ADffsjI2q_fg",
        "outputId": "60ad9d61-e30f-429e-ccfd-59388e05f94d"
      },
      "execution_count": null,
      "outputs": [
        {
          "output_type": "execute_result",
          "data": {
            "text/plain": [
              "(array([[ 0.75424625,  0.23148074],\n",
              "        [-0.75615888,  0.15325888],\n",
              "        [-0.81539193,  0.17328203],\n",
              "        ...,\n",
              "        [-0.13690036, -0.81001183],\n",
              "        [ 0.67036156, -0.76750154],\n",
              "        [ 0.28105665,  0.96382443]]),\n",
              " array([1, 1, 1, 1, 0, 1, 1, 1, 1, 0, 1, 0, 1, 1, 1, 1, 0, 1, 1, 0, 1, 0,\n",
              "        0, 1, 0, 0, 0, 1, 1, 1, 0, 0, 1, 0, 0, 0, 1, 1, 1, 0, 0, 0, 0, 1,\n",
              "        0, 0, 1, 1, 0, 1, 1, 1, 0, 1, 0, 0, 1, 0, 0, 1, 0, 0, 1, 0, 1, 1,\n",
              "        1, 1, 0, 1, 0, 0, 1, 1, 0, 0, 1, 0, 1, 0, 1, 0, 0, 0, 0, 1, 1, 1,\n",
              "        1, 0, 0, 0, 1, 0, 1, 0, 1, 0, 0, 1, 1, 0, 1, 0, 1, 1, 1, 1, 0, 1,\n",
              "        1, 1, 1, 1, 0, 0, 0, 1, 1, 0, 1, 0, 1, 0, 0, 1, 1, 0, 1, 1, 1, 1,\n",
              "        0, 1, 1, 0, 0, 0, 0, 0, 0, 0, 1, 0, 1, 1, 1, 0, 1, 0, 1, 0, 1, 0,\n",
              "        1, 0, 0, 1, 0, 1, 1, 1, 1, 1, 1, 1, 0, 1, 0, 0, 0, 0, 0, 1, 0, 0,\n",
              "        0, 0, 1, 1, 0, 1, 0, 1, 1, 0, 0, 0, 1, 1, 1, 1, 1, 0, 0, 0, 0, 0,\n",
              "        1, 0, 0, 1, 1, 1, 1, 1, 0, 1, 0, 1, 0, 0, 1, 1, 1, 0, 1, 0, 1, 1,\n",
              "        0, 1, 1, 0, 1, 0, 1, 0, 1, 1, 0, 1, 0, 1, 0, 0, 0, 1, 0, 0, 0, 0,\n",
              "        1, 1, 0, 0, 0, 0, 0, 0, 0, 1, 1, 1, 0, 0, 1, 1, 1, 0, 1, 0, 0, 0,\n",
              "        0, 1, 1, 0, 1, 0, 0, 0, 1, 0, 1, 0, 0, 1, 0, 1, 1, 1, 0, 0, 0, 1,\n",
              "        0, 0, 0, 1, 1, 1, 1, 0, 0, 0, 1, 0, 0, 0, 1, 0, 0, 0, 1, 1, 0, 1,\n",
              "        1, 1, 1, 1, 1, 1, 0, 0, 0, 0, 1, 0, 0, 0, 0, 1, 1, 1, 0, 0, 1, 0,\n",
              "        1, 0, 1, 1, 0, 0, 1, 1, 1, 1, 0, 0, 0, 0, 0, 0, 1, 1, 0, 1, 0, 0,\n",
              "        1, 0, 0, 0, 0, 0, 0, 0, 0, 1, 0, 0, 0, 0, 1, 0, 0, 1, 0, 1, 0, 0,\n",
              "        0, 1, 0, 0, 1, 1, 0, 0, 1, 0, 0, 1, 1, 0, 1, 1, 0, 0, 1, 0, 1, 0,\n",
              "        0, 0, 1, 1, 0, 0, 1, 1, 1, 1, 1, 0, 0, 1, 1, 1, 1, 0, 1, 1, 1, 1,\n",
              "        1, 0, 0, 1, 0, 1, 0, 0, 0, 0, 1, 0, 0, 0, 0, 0, 0, 0, 0, 0, 1, 1,\n",
              "        0, 1, 1, 1, 1, 1, 1, 0, 1, 1, 1, 1, 0, 0, 0, 1, 1, 1, 0, 0, 0, 0,\n",
              "        1, 1, 0, 0, 0, 0, 1, 0, 0, 0, 1, 0, 0, 1, 1, 1, 1, 1, 1, 0, 0, 0,\n",
              "        1, 0, 0, 0, 0, 0, 1, 1, 1, 0, 0, 0, 0, 0, 1, 1, 1, 0, 0, 1, 1, 1,\n",
              "        1, 0, 1, 1, 0, 1, 0, 0, 0, 1, 0, 0, 1, 0, 0, 1, 1, 0, 0, 1, 1, 0,\n",
              "        1, 0, 1, 0, 1, 0, 1, 0, 0, 0, 1, 0, 0, 0, 0, 0, 0, 1, 1, 1, 1, 0,\n",
              "        0, 0, 1, 0, 1, 1, 0, 0, 0, 0, 0, 1, 1, 1, 0, 0, 1, 0, 0, 1, 0, 0,\n",
              "        1, 0, 0, 1, 0, 0, 0, 1, 0, 0, 1, 1, 1, 0, 1, 1, 0, 0, 0, 1, 1, 1,\n",
              "        1, 0, 0, 1, 1, 1, 0, 0, 0, 0, 1, 1, 0, 0, 1, 1, 0, 0, 1, 1, 1, 1,\n",
              "        1, 1, 1, 0, 1, 0, 1, 0, 0, 1, 0, 1, 1, 1, 1, 0, 0, 1, 1, 0, 0, 1,\n",
              "        0, 1, 0, 0, 0, 1, 0, 0, 1, 1, 1, 1, 0, 1, 1, 1, 1, 1, 1, 1, 0, 1,\n",
              "        0, 1, 1, 1, 0, 0, 1, 0, 0, 0, 1, 1, 1, 1, 0, 0, 0, 0, 1, 0, 1, 1,\n",
              "        1, 0, 1, 0, 0, 1, 0, 0, 1, 1, 1, 1, 1, 0, 1, 0, 0, 0, 1, 1, 1, 1,\n",
              "        1, 0, 0, 0, 1, 1, 1, 1, 0, 0, 0, 0, 0, 1, 1, 0, 1, 0, 1, 0, 0, 0,\n",
              "        0, 0, 0, 0, 0, 0, 1, 1, 1, 1, 1, 0, 1, 0, 1, 1, 1, 1, 0, 1, 1, 1,\n",
              "        1, 1, 1, 1, 1, 0, 1, 1, 0, 1, 0, 0, 0, 1, 0, 1, 1, 1, 0, 1, 1, 0,\n",
              "        1, 1, 0, 1, 0, 1, 1, 0, 0, 1, 1, 1, 0, 0, 0, 0, 1, 1, 0, 0, 1, 1,\n",
              "        1, 1, 1, 1, 1, 1, 1, 1, 1, 1, 1, 1, 0, 0, 1, 0, 1, 0, 1, 0, 1, 1,\n",
              "        1, 1, 1, 1, 0, 1, 0, 1, 1, 1, 0, 1, 1, 0, 0, 1, 0, 1, 1, 0, 0, 1,\n",
              "        1, 1, 1, 1, 1, 1, 1, 0, 1, 1, 1, 0, 1, 0, 0, 1, 1, 0, 0, 0, 1, 0,\n",
              "        0, 1, 0, 0, 0, 1, 0, 1, 0, 0, 0, 0, 1, 0, 1, 1, 1, 1, 0, 1, 0, 0,\n",
              "        0, 0, 0, 0, 1, 0, 1, 0, 1, 0, 1, 1, 1, 0, 1, 0, 1, 0, 0, 1, 1, 1,\n",
              "        0, 0, 0, 1, 1, 0, 1, 0, 1, 1, 0, 1, 0, 0, 1, 1, 1, 0, 0, 0, 1, 1,\n",
              "        0, 0, 0, 0, 0, 1, 1, 0, 1, 0, 0, 0, 1, 0, 0, 0, 1, 1, 1, 1, 0, 1,\n",
              "        1, 1, 0, 1, 1, 1, 1, 0, 1, 1, 0, 1, 1, 0, 0, 1, 1, 1, 0, 0, 0, 0,\n",
              "        0, 0, 1, 0, 0, 1, 0, 0, 0, 1, 0, 1, 0, 1, 1, 0, 0, 0, 0, 0, 0, 0,\n",
              "        0, 1, 0, 1, 0, 0, 0, 1, 0, 0]))"
            ]
          },
          "metadata": {},
          "execution_count": 16
        }
      ]
    },
    {
      "cell_type": "code",
      "source": [
        "import numpy as np \n"
      ],
      "metadata": {
        "id": "YziNTAL0oADZ"
      },
      "execution_count": null,
      "outputs": []
    },
    {
      "cell_type": "code",
      "source": [
        "\n",
        "def plot_decision_boundry(model, X,y):\n",
        "\n",
        "  \"\"\"\n",
        "  Plots the decision boundry created by a model predicting on X. \n",
        "\n",
        "  This function was inspired by:  https://cs231n.github.io/neural-networks-case-study/\n",
        "  \n",
        "  \"\"\"\n",
        "\n",
        "  # Define the axis boundries of the plot and create a meshgrid \n",
        "  x_min, x_max = X[:, 0].min() - 0.1, X[:, 0].max() + 0.1\n",
        "  y_min, y_max = X[:, 1].min() - 0.1, X[:, 1].max() + 0.1\n",
        "  xx, yy = np.meshgrid(np.linspace(x_min, x_max, 100),\n",
        "                       np.linspace(y_min, y_max, 100))\n",
        "  \n",
        "  # Create X value (we're going to make predictions on these)\n",
        "  x_in = np.c_[xx.ravel(), yy.ravel()]\n",
        "\n",
        "  # Make predictions \n",
        "  y_pred = model.predict(x_in)\n",
        "\n",
        "  # Check for multi-class\n",
        "  if len(y_pred[0]) > 1:\n",
        "    print(\"doing multiclass classification\")\n",
        "    # We have to reshape to get ready for plotting \n",
        "    y_pred = np.argmax(y_pred, axis = 1).reshpae(xx.shape)\n",
        "  else: \n",
        "    print(\"doing binary classification\")\n",
        "    y_pred = np.round(y_pred).reshape(xx.shape)\n",
        "\n",
        "  # Plot the decision boundry \n",
        "  plt.contourf(xx, yy, y_pred, cmap = plt.cm.RdYlBu, alpha = 0.7)\n",
        "  plt.scatter(X[:, 0], X[:, 1], c=y, s=40, cmap=plt.cm.RdYlBu)\n",
        "  plt.xlim(xx.min(), xx.max())\n",
        "  plt.ylim(yy.min(), yy.max())"
      ],
      "metadata": {
        "id": "f-WPXRbEmz5Z"
      },
      "execution_count": null,
      "outputs": []
    },
    {
      "cell_type": "code",
      "source": [
        "# Check out the predictions our model is making\n",
        "\n",
        "plot_decision_boundry(model = model,\n",
        "                      X=X,\n",
        "                      y=y)"
      ],
      "metadata": {
        "colab": {
          "base_uri": "https://localhost:8080/"
        },
        "id": "zP5GIecwqIz2",
        "outputId": "1a8a405f-29ec-4de8-dea0-41ab184ef4f4"
      },
      "execution_count": null,
      "outputs": [
        {
          "output_type": "stream",
          "name": "stdout",
          "text": [
            "doing binary classification\n"
          ]
        },
        {
          "output_type": "display_data",
          "data": {
            "image/png": "[encoded data removed]",
            "text/plain": [
              "<Figure size 432x288 with 1 Axes>"
            ]
          },
          "metadata": {
            "needs_background": "light"
          }
        }
      ]
    },
    {
      "cell_type": "code",
      "source": [
        "plot_decision_boundry(model = model_2,\n",
        "                      X=X,\n",
        "                      y=y)"
      ],
      "metadata": {
        "colab": {
          "base_uri": "https://localhost:8080/"
        },
        "id": "fQILMV_Rr-L-",
        "outputId": "1fb16b4e-ab9c-4d1f-b698-0b15493be671"
      },
      "execution_count": null,
      "outputs": [
        {
          "output_type": "stream",
          "name": "stdout",
          "text": [
            "doing binary classification\n"
          ]
        },
        {
          "output_type": "display_data",
          "data": {
            "image/png": "[encoded data removed]",
            "text/plain": [
              "<Figure size 432x288 with 1 Axes>"
            ]
          },
          "metadata": {
            "needs_background": "light"
          }
        }
      ]
    },
    {
      "cell_type": "code",
      "source": [
        "plot_decision_boundry(model = model_3,\n",
        "                      X=X,\n",
        "                      y=y)"
      ],
      "metadata": {
        "colab": {
          "base_uri": "https://localhost:8080/"
        },
        "id": "AZcZg8KdsDcf",
        "outputId": "917a29f6-230d-4768-96d6-cab07f11753f"
      },
      "execution_count": null,
      "outputs": [
        {
          "output_type": "stream",
          "name": "stdout",
          "text": [
            "doing binary classification\n"
          ]
        },
        {
          "output_type": "display_data",
          "data": {
            "image/png": "[encoded data removed]",
            "text/plain": [
              "<Figure size 432x288 with 1 Axes>"
            ]
          },
          "metadata": {
            "needs_background": "light"
          }
        }
      ]
    },
    {
      "cell_type": "code",
      "source": [
        "# Lets see if the model can be used for regrssion model \n",
        "\n",
        "tf.random.set_seed(42)"
      ],
      "metadata": {
        "id": "hu-fhWap5IzT"
      },
      "execution_count": null,
      "outputs": []
    },
    {
      "cell_type": "code",
      "source": [
        "X_regression = tf.range(0, 1000, 5)\n",
        "y_regression = tf.range(100, 1100, 5)\n",
        "\n",
        "\n",
        "X_reg_train = X_regression[:150]\n",
        "X_reg_test = X_regression[150:]\n",
        "\n",
        "\n",
        "y_reg_train = y_regression[:150]\n",
        "y_reg_test = y_regression[150:]\n",
        "\n",
        "\n",
        "# model_3.fit(X_reg_train, y_reg_train, epochs = 100)"
      ],
      "metadata": {
        "id": "lXvdOk8g5T07"
      },
      "execution_count": null,
      "outputs": []
    },
    {
      "cell_type": "code",
      "source": [
        "# Set Random seed\n",
        "tf.random.set_seed(42)\n",
        "\n",
        "model_3 = tf.keras.Sequential([\n",
        "                               tf.keras.layers.Dense(100),\n",
        "                               tf.keras.layers.Dense(10),\n",
        "                               tf.keras.layers.Dense(1),\n",
        "])\n",
        "\n",
        "model_3.compile( optimizer = tf.keras.optimizers.Adam(),\n",
        "                loss = tf.keras.losses.mae,\n",
        "                metrics = [\"mae\"])\n",
        "\n",
        "model_3.fit(tf.reshape(X_reg_train, shape = (150,1)), y_reg_train, epochs = 100, verbose = 1)\n"
      ],
      "metadata": {
        "colab": {
          "base_uri": "https://localhost:8080/"
        },
        "id": "0-ihcy7J6ggK",
        "outputId": "1b7d6fb4-b29c-4523-f698-32c400b915f9"
      },
      "execution_count": null,
      "outputs": [
        {
          "output_type": "stream",
          "name": "stdout",
          "text": [
            "Epoch 1/100\n",
            "5/5 [==============================] - 0s 3ms/step - loss: 248.2155 - mae: 248.2155\n",
            "Epoch 2/100\n",
            "5/5 [==============================] - 0s 4ms/step - loss: 138.9005 - mae: 138.9005\n",
            "Epoch 3/100\n",
            "5/5 [==============================] - 0s 3ms/step - loss: 53.1039 - mae: 53.1039\n",
            "Epoch 4/100\n",
            "5/5 [==============================] - 0s 4ms/step - loss: 73.5170 - mae: 73.5170\n",
            "Epoch 5/100\n",
            "5/5 [==============================] - 0s 4ms/step - loss: 71.2358 - mae: 71.2358\n",
            "Epoch 6/100\n",
            "5/5 [==============================] - 0s 3ms/step - loss: 47.0040 - mae: 47.0040\n",
            "Epoch 7/100\n",
            "5/5 [==============================] - 0s 3ms/step - loss: 45.9386 - mae: 45.9386\n",
            "Epoch 8/100\n",
            "5/5 [==============================] - 0s 3ms/step - loss: 42.3638 - mae: 42.3638\n",
            "Epoch 9/100\n",
            "5/5 [==============================] - 0s 4ms/step - loss: 43.6831 - mae: 43.6831\n",
            "Epoch 10/100\n",
            "5/5 [==============================] - 0s 5ms/step - loss: 42.6198 - mae: 42.6198\n",
            "Epoch 11/100\n",
            "5/5 [==============================] - 0s 3ms/step - loss: 42.4797 - mae: 42.4797\n",
            "Epoch 12/100\n",
            "5/5 [==============================] - 0s 4ms/step - loss: 41.5537 - mae: 41.5537\n",
            "Epoch 13/100\n",
            "5/5 [==============================] - 0s 3ms/step - loss: 42.0972 - mae: 42.0972\n",
            "Epoch 14/100\n",
            "5/5 [==============================] - 0s 3ms/step - loss: 41.8647 - mae: 41.8647\n",
            "Epoch 15/100\n",
            "5/5 [==============================] - 0s 4ms/step - loss: 41.5342 - mae: 41.5342\n",
            "Epoch 16/100\n",
            "5/5 [==============================] - 0s 3ms/step - loss: 41.4028 - mae: 41.4028\n",
            "Epoch 17/100\n",
            "5/5 [==============================] - 0s 3ms/step - loss: 41.6887 - mae: 41.6887\n",
            "Epoch 18/100\n",
            "5/5 [==============================] - 0s 3ms/step - loss: 41.6137 - mae: 41.6137\n",
            "Epoch 19/100\n",
            "5/5 [==============================] - 0s 4ms/step - loss: 41.2796 - mae: 41.2796\n",
            "Epoch 20/100\n",
            "5/5 [==============================] - 0s 3ms/step - loss: 41.1947 - mae: 41.1947\n",
            "Epoch 21/100\n",
            "5/5 [==============================] - 0s 3ms/step - loss: 41.2130 - mae: 41.2130\n",
            "Epoch 22/100\n",
            "5/5 [==============================] - 0s 3ms/step - loss: 41.0893 - mae: 41.0893\n",
            "Epoch 23/100\n",
            "5/5 [==============================] - 0s 3ms/step - loss: 41.2019 - mae: 41.2019\n",
            "Epoch 24/100\n",
            "5/5 [==============================] - 0s 3ms/step - loss: 40.9989 - mae: 40.9989\n",
            "Epoch 25/100\n",
            "5/5 [==============================] - 0s 5ms/step - loss: 41.0131 - mae: 41.0131\n",
            "Epoch 26/100\n",
            "5/5 [==============================] - 0s 4ms/step - loss: 41.0654 - mae: 41.0654\n",
            "Epoch 27/100\n",
            "5/5 [==============================] - 0s 3ms/step - loss: 40.8764 - mae: 40.8764\n",
            "Epoch 28/100\n",
            "5/5 [==============================] - 0s 4ms/step - loss: 41.0545 - mae: 41.0545\n",
            "Epoch 29/100\n",
            "5/5 [==============================] - 0s 3ms/step - loss: 41.0480 - mae: 41.0480\n",
            "Epoch 30/100\n",
            "5/5 [==============================] - 0s 4ms/step - loss: 40.8807 - mae: 40.8807\n",
            "Epoch 31/100\n",
            "5/5 [==============================] - 0s 3ms/step - loss: 41.2695 - mae: 41.2695\n",
            "Epoch 32/100\n",
            "5/5 [==============================] - 0s 4ms/step - loss: 40.9949 - mae: 40.9949\n",
            "Epoch 33/100\n",
            "5/5 [==============================] - 0s 3ms/step - loss: 41.0760 - mae: 41.0760\n",
            "Epoch 34/100\n",
            "5/5 [==============================] - 0s 4ms/step - loss: 41.2471 - mae: 41.2471\n",
            "Epoch 35/100\n",
            "5/5 [==============================] - 0s 3ms/step - loss: 40.6102 - mae: 40.6102\n",
            "Epoch 36/100\n",
            "5/5 [==============================] - 0s 4ms/step - loss: 41.1093 - mae: 41.1093\n",
            "Epoch 37/100\n",
            "5/5 [==============================] - 0s 4ms/step - loss: 40.8191 - mae: 40.8191\n",
            "Epoch 38/100\n",
            "5/5 [==============================] - 0s 4ms/step - loss: 40.2485 - mae: 40.2485\n",
            "Epoch 39/100\n",
            "5/5 [==============================] - 0s 4ms/step - loss: 41.0625 - mae: 41.0625\n",
            "Epoch 40/100\n",
            "5/5 [==============================] - 0s 3ms/step - loss: 40.5311 - mae: 40.5311\n",
            "Epoch 41/100\n",
            "5/5 [==============================] - 0s 3ms/step - loss: 40.5497 - mae: 40.5497\n",
            "Epoch 42/100\n",
            "5/5 [==============================] - 0s 3ms/step - loss: 40.4322 - mae: 40.4322\n",
            "Epoch 43/100\n",
            "5/5 [==============================] - 0s 5ms/step - loss: 40.5367 - mae: 40.5367\n",
            "Epoch 44/100\n",
            "5/5 [==============================] - 0s 4ms/step - loss: 40.2487 - mae: 40.2487\n",
            "Epoch 45/100\n",
            "5/5 [==============================] - 0s 4ms/step - loss: 40.5152 - mae: 40.5152\n",
            "Epoch 46/100\n",
            "5/5 [==============================] - 0s 4ms/step - loss: 40.3702 - mae: 40.3702\n",
            "Epoch 47/100\n",
            "5/5 [==============================] - 0s 4ms/step - loss: 40.4769 - mae: 40.4769\n",
            "Epoch 48/100\n",
            "5/5 [==============================] - 0s 4ms/step - loss: 40.1532 - mae: 40.1532\n",
            "Epoch 49/100\n",
            "5/5 [==============================] - 0s 3ms/step - loss: 40.7291 - mae: 40.7291\n",
            "Epoch 50/100\n",
            "5/5 [==============================] - 0s 5ms/step - loss: 40.1536 - mae: 40.1536\n",
            "Epoch 51/100\n",
            "5/5 [==============================] - 0s 3ms/step - loss: 40.2711 - mae: 40.2711\n",
            "Epoch 52/100\n",
            "5/5 [==============================] - 0s 3ms/step - loss: 40.6572 - mae: 40.6572\n",
            "Epoch 53/100\n",
            "5/5 [==============================] - 0s 3ms/step - loss: 40.6573 - mae: 40.6573\n",
            "Epoch 54/100\n",
            "5/5 [==============================] - 0s 3ms/step - loss: 40.6894 - mae: 40.6894\n",
            "Epoch 55/100\n",
            "5/5 [==============================] - 0s 3ms/step - loss: 41.2771 - mae: 41.2771\n",
            "Epoch 56/100\n",
            "5/5 [==============================] - 0s 3ms/step - loss: 41.8519 - mae: 41.8519\n",
            "Epoch 57/100\n",
            "5/5 [==============================] - 0s 4ms/step - loss: 40.7903 - mae: 40.7903\n",
            "Epoch 58/100\n",
            "5/5 [==============================] - 0s 3ms/step - loss: 40.3128 - mae: 40.3128\n",
            "Epoch 59/100\n",
            "5/5 [==============================] - 0s 3ms/step - loss: 40.7198 - mae: 40.7198\n",
            "Epoch 60/100\n",
            "5/5 [==============================] - 0s 4ms/step - loss: 40.1478 - mae: 40.1478\n",
            "Epoch 61/100\n",
            "5/5 [==============================] - 0s 3ms/step - loss: 40.1116 - mae: 40.1116\n",
            "Epoch 62/100\n",
            "5/5 [==============================] - 0s 4ms/step - loss: 40.7800 - mae: 40.7800\n",
            "Epoch 63/100\n",
            "5/5 [==============================] - 0s 3ms/step - loss: 39.7242 - mae: 39.7242\n",
            "Epoch 64/100\n",
            "5/5 [==============================] - 0s 3ms/step - loss: 40.1465 - mae: 40.1465\n",
            "Epoch 65/100\n",
            "5/5 [==============================] - 0s 3ms/step - loss: 39.6887 - mae: 39.6887\n",
            "Epoch 66/100\n",
            "5/5 [==============================] - 0s 4ms/step - loss: 40.2840 - mae: 40.2840\n",
            "Epoch 67/100\n",
            "5/5 [==============================] - 0s 3ms/step - loss: 39.5541 - mae: 39.5541\n",
            "Epoch 68/100\n",
            "5/5 [==============================] - 0s 5ms/step - loss: 39.7378 - mae: 39.7378\n",
            "Epoch 69/100\n",
            "5/5 [==============================] - 0s 4ms/step - loss: 39.9784 - mae: 39.9784\n",
            "Epoch 70/100\n",
            "5/5 [==============================] - 0s 4ms/step - loss: 40.0016 - mae: 40.0016\n",
            "Epoch 71/100\n",
            "5/5 [==============================] - 0s 3ms/step - loss: 40.0913 - mae: 40.0913\n",
            "Epoch 72/100\n",
            "5/5 [==============================] - 0s 4ms/step - loss: 39.2547 - mae: 39.2547\n",
            "Epoch 73/100\n",
            "5/5 [==============================] - 0s 6ms/step - loss: 39.6828 - mae: 39.6828\n",
            "Epoch 74/100\n",
            "5/5 [==============================] - 0s 4ms/step - loss: 39.5373 - mae: 39.5373\n",
            "Epoch 75/100\n",
            "5/5 [==============================] - 0s 4ms/step - loss: 39.6265 - mae: 39.6265\n",
            "Epoch 76/100\n",
            "5/5 [==============================] - 0s 5ms/step - loss: 39.3110 - mae: 39.3110\n",
            "Epoch 77/100\n",
            "5/5 [==============================] - 0s 3ms/step - loss: 39.1599 - mae: 39.1599\n",
            "Epoch 78/100\n",
            "5/5 [==============================] - 0s 6ms/step - loss: 39.7550 - mae: 39.7550\n",
            "Epoch 79/100\n",
            "5/5 [==============================] - 0s 3ms/step - loss: 39.2542 - mae: 39.2542\n",
            "Epoch 80/100\n",
            "5/5 [==============================] - 0s 3ms/step - loss: 38.6968 - mae: 38.6968\n",
            "Epoch 81/100\n",
            "5/5 [==============================] - 0s 3ms/step - loss: 39.5442 - mae: 39.5442\n",
            "Epoch 82/100\n",
            "5/5 [==============================] - 0s 3ms/step - loss: 39.8686 - mae: 39.8686\n",
            "Epoch 83/100\n",
            "5/5 [==============================] - 0s 4ms/step - loss: 39.1693 - mae: 39.1693\n",
            "Epoch 84/100\n",
            "5/5 [==============================] - 0s 4ms/step - loss: 38.8840 - mae: 38.8840\n",
            "Epoch 85/100\n",
            "5/5 [==============================] - 0s 3ms/step - loss: 38.8887 - mae: 38.8887\n",
            "Epoch 86/100\n",
            "5/5 [==============================] - 0s 4ms/step - loss: 38.6614 - mae: 38.6614\n",
            "Epoch 87/100\n",
            "5/5 [==============================] - 0s 4ms/step - loss: 38.8399 - mae: 38.8399\n",
            "Epoch 88/100\n",
            "5/5 [==============================] - 0s 3ms/step - loss: 38.6604 - mae: 38.6604\n",
            "Epoch 89/100\n",
            "5/5 [==============================] - 0s 3ms/step - loss: 38.7559 - mae: 38.7559\n",
            "Epoch 90/100\n",
            "5/5 [==============================] - 0s 5ms/step - loss: 38.5442 - mae: 38.5442\n",
            "Epoch 91/100\n",
            "5/5 [==============================] - 0s 4ms/step - loss: 38.3247 - mae: 38.3247\n",
            "Epoch 92/100\n",
            "5/5 [==============================] - 0s 4ms/step - loss: 38.8431 - mae: 38.8431\n",
            "Epoch 93/100\n",
            "5/5 [==============================] - 0s 3ms/step - loss: 39.1137 - mae: 39.1137\n",
            "Epoch 94/100\n",
            "5/5 [==============================] - 0s 5ms/step - loss: 38.1463 - mae: 38.1463\n",
            "Epoch 95/100\n",
            "5/5 [==============================] - 0s 4ms/step - loss: 38.3998 - mae: 38.3998\n",
            "Epoch 96/100\n",
            "5/5 [==============================] - 0s 4ms/step - loss: 38.5599 - mae: 38.5599\n",
            "Epoch 97/100\n",
            "5/5 [==============================] - 0s 4ms/step - loss: 38.1038 - mae: 38.1038\n",
            "Epoch 98/100\n",
            "5/5 [==============================] - 0s 5ms/step - loss: 39.0081 - mae: 39.0081\n",
            "Epoch 99/100\n",
            "5/5 [==============================] - 0s 5ms/step - loss: 38.3056 - mae: 38.3056\n",
            "Epoch 100/100\n",
            "5/5 [==============================] - 0s 3ms/step - loss: 37.9976 - mae: 37.9976\n"
          ]
        },
        {
          "output_type": "execute_result",
          "data": {
            "text/plain": [
              "<keras.callbacks.History at 0x7f29b96b1e10>"
            ]
          },
          "metadata": {},
          "execution_count": 24
        }
      ]
    },
    {
      "cell_type": "code",
      "source": [
        "# Plotting a model_3 \n",
        "y_reg_pred = model_3.predict(X_reg_test)\n",
        "\n",
        "plt.figure(figsize = (10,7))\n",
        "plt.scatter(X_reg_train, y_reg_train, c= \"b\", label = \"Traning Data\")\n",
        "plt.scatter(X_reg_test, y_reg_test, c= \"g\", label = \"Test Data\")\n",
        "plt.scatter(y_reg_test, tf.reshape(y_reg_pred, shape= (50)), c= \"r\", label = \"Predicted Data\")\n",
        "\n",
        "\n",
        "#y pred needs to be reshaped"
      ],
      "metadata": {
        "colab": {
          "base_uri": "https://localhost:8080/"
        },
        "id": "nFeCWLIO8W5y",
        "outputId": "fa40b7f7-1750-4383-cbc6-01b801a5d137"
      },
      "execution_count": null,
      "outputs": [
        {
          "output_type": "execute_result",
          "data": {
            "text/plain": [
              "<matplotlib.collections.PathCollection at 0x7f29b9a76e10>"
            ]
          },
          "metadata": {},
          "execution_count": 25
        },
        {
          "output_type": "display_data",
          "data": {
            "image/png": "[encoded data removed]",
            "text/plain": [
              "<Figure size 720x504 with 1 Axes>"
            ]
          },
          "metadata": {
            "needs_background": "light"
          }
        }
      ]
    },
    {
      "cell_type": "markdown",
      "source": [
        "## The missing piece: Non-linearity "
      ],
      "metadata": {
        "id": "djdpcDG-Cxeh"
      }
    },
    {
      "cell_type": "markdown",
      "source": [
        "###Activation function: linear\n"
      ],
      "metadata": {
        "id": "5c3e_bDMGrb0"
      }
    },
    {
      "cell_type": "code",
      "source": [
        "# Set the random seed\n",
        "\n",
        "tf.random.set_seed(42)\n",
        "\n",
        "#1. Create the model\n",
        "model_4 = tf.keras.Sequential([ \n",
        "                               tf.keras.layers.Dense(1, activation = tf.keras.activations.linear)\n",
        "])\n",
        "\n",
        "#2. Compile the model \n",
        "model_4.compile(loss = tf.keras.losses.BinaryCrossentropy(),\n",
        "                optimizer = tf.keras.optimizers.Adam(lr = 0.001),\n",
        "                metrics = \"accuracy\")\n",
        "#3. Fit the model\n",
        "history = model_4.fit(X,y,epochs =100)"
      ],
      "metadata": {
        "colab": {
          "base_uri": "https://localhost:8080/"
        },
        "collapsed": true,
        "id": "IbQoXH5NC6Yw",
        "outputId": "050adf8a-17b2-4c51-b00b-8f72c943ebe4"
      },
      "execution_count": null,
      "outputs": [
        {
          "output_type": "stream",
          "name": "stderr",
          "text": [
            "/usr/local/lib/python3.7/dist-packages/keras/optimizer_v2/adam.py:105: UserWarning: The `lr` argument is deprecated, use `learning_rate` instead.\n",
            "  super(Adam, self).__init__(name, **kwargs)\n"
          ]
        },
        {
          "output_type": "stream",
          "name": "stdout",
          "text": [
            "Epoch 1/100\n",
            "32/32 [==============================] - 1s 2ms/step - loss: 4.2979 - accuracy: 0.4670\n",
            "Epoch 2/100\n",
            "32/32 [==============================] - 0s 1ms/step - loss: 4.2317 - accuracy: 0.4400\n",
            "Epoch 3/100\n",
            "32/32 [==============================] - 0s 2ms/step - loss: 4.1610 - accuracy: 0.4310\n",
            "Epoch 4/100\n",
            "32/32 [==============================] - 0s 2ms/step - loss: 4.1183 - accuracy: 0.4270\n",
            "Epoch 5/100\n",
            "32/32 [==============================] - 0s 2ms/step - loss: 4.0784 - accuracy: 0.4240\n",
            "Epoch 6/100\n",
            "32/32 [==============================] - 0s 2ms/step - loss: 3.9604 - accuracy: 0.4170\n",
            "Epoch 7/100\n",
            "32/32 [==============================] - 0s 2ms/step - loss: 3.8936 - accuracy: 0.4110\n",
            "Epoch 8/100\n",
            "32/32 [==============================] - 0s 2ms/step - loss: 3.7818 - accuracy: 0.4140\n",
            "Epoch 9/100\n",
            "32/32 [==============================] - 0s 2ms/step - loss: 3.7564 - accuracy: 0.4140\n",
            "Epoch 10/100\n",
            "32/32 [==============================] - 0s 2ms/step - loss: 3.7547 - accuracy: 0.4150\n",
            "Epoch 11/100\n",
            "32/32 [==============================] - 0s 2ms/step - loss: 3.7537 - accuracy: 0.4140\n",
            "Epoch 12/100\n",
            "32/32 [==============================] - 0s 2ms/step - loss: 3.7526 - accuracy: 0.4140\n",
            "Epoch 13/100\n",
            "32/32 [==============================] - 0s 1ms/step - loss: 3.7518 - accuracy: 0.4140\n",
            "Epoch 14/100\n",
            "32/32 [==============================] - 0s 2ms/step - loss: 3.7510 - accuracy: 0.4140\n",
            "Epoch 15/100\n",
            "32/32 [==============================] - 0s 2ms/step - loss: 3.7503 - accuracy: 0.4130\n",
            "Epoch 16/100\n",
            "32/32 [==============================] - 0s 1ms/step - loss: 3.7497 - accuracy: 0.4130\n",
            "Epoch 17/100\n",
            "32/32 [==============================] - 0s 2ms/step - loss: 3.7490 - accuracy: 0.4130\n",
            "Epoch 18/100\n",
            "32/32 [==============================] - 0s 2ms/step - loss: 3.7484 - accuracy: 0.4130\n",
            "Epoch 19/100\n",
            "32/32 [==============================] - 0s 1ms/step - loss: 3.7478 - accuracy: 0.4120\n",
            "Epoch 20/100\n",
            "32/32 [==============================] - 0s 1ms/step - loss: 3.7472 - accuracy: 0.4120\n",
            "Epoch 21/100\n",
            "32/32 [==============================] - 0s 1ms/step - loss: 3.7466 - accuracy: 0.4110\n",
            "Epoch 22/100\n",
            "32/32 [==============================] - 0s 1ms/step - loss: 3.7461 - accuracy: 0.4110\n",
            "Epoch 23/100\n",
            "32/32 [==============================] - 0s 2ms/step - loss: 3.7455 - accuracy: 0.4110\n",
            "Epoch 24/100\n",
            "32/32 [==============================] - 0s 2ms/step - loss: 3.7450 - accuracy: 0.4110\n",
            "Epoch 25/100\n",
            "32/32 [==============================] - 0s 2ms/step - loss: 3.7366 - accuracy: 0.4120\n",
            "Epoch 26/100\n",
            "32/32 [==============================] - 0s 2ms/step - loss: 3.7256 - accuracy: 0.4120\n",
            "Epoch 27/100\n",
            "32/32 [==============================] - 0s 2ms/step - loss: 3.7230 - accuracy: 0.4140\n",
            "Epoch 28/100\n",
            "32/32 [==============================] - 0s 2ms/step - loss: 3.7215 - accuracy: 0.4140\n",
            "Epoch 29/100\n",
            "32/32 [==============================] - 0s 1ms/step - loss: 3.7204 - accuracy: 0.4150\n",
            "Epoch 30/100\n",
            "32/32 [==============================] - 0s 2ms/step - loss: 3.7196 - accuracy: 0.4160\n",
            "Epoch 31/100\n",
            "32/32 [==============================] - 0s 2ms/step - loss: 3.7188 - accuracy: 0.4170\n",
            "Epoch 32/100\n",
            "32/32 [==============================] - 0s 2ms/step - loss: 3.7181 - accuracy: 0.4170\n",
            "Epoch 33/100\n",
            "32/32 [==============================] - 0s 2ms/step - loss: 3.7174 - accuracy: 0.4170\n",
            "Epoch 34/100\n",
            "32/32 [==============================] - 0s 2ms/step - loss: 3.7167 - accuracy: 0.4170\n",
            "Epoch 35/100\n",
            "32/32 [==============================] - 0s 1ms/step - loss: 3.7161 - accuracy: 0.4160\n",
            "Epoch 36/100\n",
            "32/32 [==============================] - 0s 2ms/step - loss: 3.7153 - accuracy: 0.4150\n",
            "Epoch 37/100\n",
            "32/32 [==============================] - 0s 2ms/step - loss: 3.7147 - accuracy: 0.4150\n",
            "Epoch 38/100\n",
            "32/32 [==============================] - 0s 2ms/step - loss: 3.7141 - accuracy: 0.4150\n",
            "Epoch 39/100\n",
            "32/32 [==============================] - 0s 1ms/step - loss: 3.7135 - accuracy: 0.4150\n",
            "Epoch 40/100\n",
            "32/32 [==============================] - 0s 1ms/step - loss: 3.7129 - accuracy: 0.4150\n",
            "Epoch 41/100\n",
            "32/32 [==============================] - 0s 1ms/step - loss: 3.7123 - accuracy: 0.4150\n",
            "Epoch 42/100\n",
            "32/32 [==============================] - 0s 2ms/step - loss: 3.7118 - accuracy: 0.4160\n",
            "Epoch 43/100\n",
            "32/32 [==============================] - 0s 2ms/step - loss: 3.7112 - accuracy: 0.4160\n",
            "Epoch 44/100\n",
            "32/32 [==============================] - 0s 2ms/step - loss: 3.7107 - accuracy: 0.4160\n",
            "Epoch 45/100\n",
            "32/32 [==============================] - 0s 2ms/step - loss: 3.7101 - accuracy: 0.4150\n",
            "Epoch 46/100\n",
            "32/32 [==============================] - 0s 2ms/step - loss: 3.7096 - accuracy: 0.4170\n",
            "Epoch 47/100\n",
            "32/32 [==============================] - 0s 2ms/step - loss: 3.7091 - accuracy: 0.4170\n",
            "Epoch 48/100\n",
            "32/32 [==============================] - 0s 2ms/step - loss: 3.7014 - accuracy: 0.4170\n",
            "Epoch 49/100\n",
            "32/32 [==============================] - 0s 2ms/step - loss: 3.6892 - accuracy: 0.4190\n",
            "Epoch 50/100\n",
            "32/32 [==============================] - 0s 2ms/step - loss: 3.6856 - accuracy: 0.4190\n",
            "Epoch 51/100\n",
            "32/32 [==============================] - 0s 2ms/step - loss: 3.6846 - accuracy: 0.4190\n",
            "Epoch 52/100\n",
            "32/32 [==============================] - 0s 2ms/step - loss: 3.6837 - accuracy: 0.4190\n",
            "Epoch 53/100\n",
            "32/32 [==============================] - 0s 2ms/step - loss: 3.6829 - accuracy: 0.4190\n",
            "Epoch 54/100\n",
            "32/32 [==============================] - 0s 2ms/step - loss: 3.6821 - accuracy: 0.4190\n",
            "Epoch 55/100\n",
            "32/32 [==============================] - 0s 2ms/step - loss: 3.6814 - accuracy: 0.4190\n",
            "Epoch 56/100\n",
            "32/32 [==============================] - 0s 2ms/step - loss: 3.6807 - accuracy: 0.4200\n",
            "Epoch 57/100\n",
            "32/32 [==============================] - 0s 3ms/step - loss: 3.6727 - accuracy: 0.4210\n",
            "Epoch 58/100\n",
            "32/32 [==============================] - 0s 2ms/step - loss: 3.6690 - accuracy: 0.4190\n",
            "Epoch 59/100\n",
            "32/32 [==============================] - 0s 2ms/step - loss: 3.6677 - accuracy: 0.4190\n",
            "Epoch 60/100\n",
            "32/32 [==============================] - 0s 1ms/step - loss: 3.6585 - accuracy: 0.4190\n",
            "Epoch 61/100\n",
            "32/32 [==============================] - 0s 2ms/step - loss: 3.6489 - accuracy: 0.4200\n",
            "Epoch 62/100\n",
            "32/32 [==============================] - 0s 2ms/step - loss: 3.6330 - accuracy: 0.4190\n",
            "Epoch 63/100\n",
            "32/32 [==============================] - 0s 2ms/step - loss: 3.6282 - accuracy: 0.4200\n",
            "Epoch 64/100\n",
            "32/32 [==============================] - 0s 1ms/step - loss: 3.6162 - accuracy: 0.4220\n",
            "Epoch 65/100\n",
            "32/32 [==============================] - 0s 2ms/step - loss: 3.6062 - accuracy: 0.4240\n",
            "Epoch 66/100\n",
            "32/32 [==============================] - 0s 2ms/step - loss: 3.6031 - accuracy: 0.4260\n",
            "Epoch 67/100\n",
            "32/32 [==============================] - 0s 1ms/step - loss: 3.6012 - accuracy: 0.4280\n",
            "Epoch 68/100\n",
            "32/32 [==============================] - 0s 1ms/step - loss: 3.5999 - accuracy: 0.4280\n",
            "Epoch 69/100\n",
            "32/32 [==============================] - 0s 2ms/step - loss: 3.5904 - accuracy: 0.4290\n",
            "Epoch 70/100\n",
            "32/32 [==============================] - 0s 2ms/step - loss: 3.5858 - accuracy: 0.4300\n",
            "Epoch 71/100\n",
            "32/32 [==============================] - 0s 1ms/step - loss: 3.5846 - accuracy: 0.4300\n",
            "Epoch 72/100\n",
            "32/32 [==============================] - 0s 2ms/step - loss: 3.5836 - accuracy: 0.4300\n",
            "Epoch 73/100\n",
            "32/32 [==============================] - 0s 2ms/step - loss: 3.5826 - accuracy: 0.4310\n",
            "Epoch 74/100\n",
            "32/32 [==============================] - 0s 2ms/step - loss: 3.5817 - accuracy: 0.4330\n",
            "Epoch 75/100\n",
            "32/32 [==============================] - 0s 2ms/step - loss: 3.5656 - accuracy: 0.4360\n",
            "Epoch 76/100\n",
            "32/32 [==============================] - 0s 2ms/step - loss: 3.5355 - accuracy: 0.4410\n",
            "Epoch 77/100\n",
            "32/32 [==============================] - 0s 1ms/step - loss: 3.5335 - accuracy: 0.4410\n",
            "Epoch 78/100\n",
            "32/32 [==============================] - 0s 2ms/step - loss: 3.5319 - accuracy: 0.4420\n",
            "Epoch 79/100\n",
            "32/32 [==============================] - 0s 2ms/step - loss: 3.5306 - accuracy: 0.4420\n",
            "Epoch 80/100\n",
            "32/32 [==============================] - 0s 2ms/step - loss: 3.5208 - accuracy: 0.4420\n",
            "Epoch 81/100\n",
            "32/32 [==============================] - 0s 2ms/step - loss: 3.5172 - accuracy: 0.4420\n",
            "Epoch 82/100\n",
            "32/32 [==============================] - 0s 2ms/step - loss: 3.5157 - accuracy: 0.4430\n",
            "Epoch 83/100\n",
            "32/32 [==============================] - 0s 1ms/step - loss: 3.5144 - accuracy: 0.4450\n",
            "Epoch 84/100\n",
            "32/32 [==============================] - 0s 2ms/step - loss: 3.5132 - accuracy: 0.4450\n",
            "Epoch 85/100\n",
            "32/32 [==============================] - 0s 2ms/step - loss: 3.5043 - accuracy: 0.4460\n",
            "Epoch 86/100\n",
            "32/32 [==============================] - 0s 2ms/step - loss: 3.5002 - accuracy: 0.4470\n",
            "Epoch 87/100\n",
            "32/32 [==============================] - 0s 2ms/step - loss: 3.4905 - accuracy: 0.4470\n",
            "Epoch 88/100\n",
            "32/32 [==============================] - 0s 2ms/step - loss: 3.4788 - accuracy: 0.4470\n",
            "Epoch 89/100\n",
            "32/32 [==============================] - 0s 2ms/step - loss: 3.4661 - accuracy: 0.4470\n",
            "Epoch 90/100\n",
            "32/32 [==============================] - 0s 2ms/step - loss: 3.4452 - accuracy: 0.4490\n",
            "Epoch 91/100\n",
            "32/32 [==============================] - 0s 2ms/step - loss: 3.4198 - accuracy: 0.4560\n",
            "Epoch 92/100\n",
            "32/32 [==============================] - 0s 1ms/step - loss: 3.4176 - accuracy: 0.4550\n",
            "Epoch 93/100\n",
            "32/32 [==============================] - 0s 2ms/step - loss: 3.4072 - accuracy: 0.4580\n",
            "Epoch 94/100\n",
            "32/32 [==============================] - 0s 2ms/step - loss: 3.4036 - accuracy: 0.4580\n",
            "Epoch 95/100\n",
            "32/32 [==============================] - 0s 2ms/step - loss: 3.3944 - accuracy: 0.4590\n",
            "Epoch 96/100\n",
            "32/32 [==============================] - 0s 1ms/step - loss: 3.3290 - accuracy: 0.4590\n",
            "Epoch 97/100\n",
            "32/32 [==============================] - 0s 1ms/step - loss: 3.2727 - accuracy: 0.4600\n",
            "Epoch 98/100\n",
            "32/32 [==============================] - 0s 2ms/step - loss: 3.2636 - accuracy: 0.4580\n",
            "Epoch 99/100\n",
            "32/32 [==============================] - 0s 2ms/step - loss: 3.2509 - accuracy: 0.4570\n",
            "Epoch 100/100\n",
            "32/32 [==============================] - 0s 2ms/step - loss: 3.2459 - accuracy: 0.4570\n"
          ]
        }
      ]
    },
    {
      "cell_type": "code",
      "source": [
        "# Check the data \n",
        "\n",
        "plt.scatter(X[:, 0], X[:,1], c=y, cmap=plt.cm.RdYlBu)"
      ],
      "metadata": {
        "colab": {
          "base_uri": "https://localhost:8080/"
        },
        "id": "TjzOiH_JER_5",
        "outputId": "55a1aa1c-3329-49a8-9037-fc45d7e16265"
      },
      "execution_count": null,
      "outputs": [
        {
          "output_type": "execute_result",
          "data": {
            "text/plain": [
              "<matplotlib.collections.PathCollection at 0x7f29b9585e10>"
            ]
          },
          "metadata": {},
          "execution_count": 27
        },
        {
          "output_type": "display_data",
          "data": {
            "image/png": "[encoded data removed]",
            "text/plain": [
              "<Figure size 432x288 with 1 Axes>"
            ]
          },
          "metadata": {
            "needs_background": "light"
          }
        }
      ]
    },
    {
      "cell_type": "code",
      "source": [
        "plot_decision_boundry(model = model_4,\n",
        "                      X=X,\n",
        "                      y=y)"
      ],
      "metadata": {
        "colab": {
          "base_uri": "https://localhost:8080/"
        },
        "id": "QxX9m5YDFuCi",
        "outputId": "80aff3c4-eced-4c04-a795-6b76e5eca42d"
      },
      "execution_count": null,
      "outputs": [
        {
          "output_type": "stream",
          "name": "stdout",
          "text": [
            "doing binary classification\n"
          ]
        },
        {
          "output_type": "display_data",
          "data": {
            "image/png": "[encoded data removed]",
            "text/plain": [
              "<Figure size 432x288 with 1 Axes>"
            ]
          },
          "metadata": {
            "needs_background": "light"
          }
        }
      ]
    },
    {
      "cell_type": "markdown",
      "source": [
        "###Activation function: relu"
      ],
      "metadata": {
        "id": "mG9n7sztGQf6"
      }
    },
    {
      "cell_type": "code",
      "source": [
        "# Set the random seed\n",
        "\n",
        "tf.random.set_seed(42)\n",
        "\n",
        "#1. Create the model\n",
        "model_5 = tf.keras.Sequential([ \n",
        "                               tf.keras.layers.Dense(1, activation = \"relu\")\n",
        "])\n",
        "\n",
        "#2. Compile the model \n",
        "model_5.compile(loss = tf.keras.losses.BinaryCrossentropy(),\n",
        "                optimizer = tf.keras.optimizers.Adam(lr = 0.001),\n",
        "                metrics = \"accuracy\")\n",
        "#3. Fit the model\n",
        "history = model_5.fit(X,y,epochs =100)"
      ],
      "metadata": {
        "colab": {
          "base_uri": "https://localhost:8080/"
        },
        "collapsed": true,
        "id": "IxJlotO_G0Dh",
        "outputId": "61369c95-5b47-439c-9964-aeabadf90178"
      },
      "execution_count": null,
      "outputs": [
        {
          "output_type": "stream",
          "name": "stderr",
          "text": [
            "/usr/local/lib/python3.7/dist-packages/keras/optimizer_v2/adam.py:105: UserWarning: The `lr` argument is deprecated, use `learning_rate` instead.\n",
            "  super(Adam, self).__init__(name, **kwargs)\n"
          ]
        },
        {
          "output_type": "stream",
          "name": "stdout",
          "text": [
            "Epoch 1/100\n",
            "32/32 [==============================] - 1s 2ms/step - loss: 4.2979 - accuracy: 0.4670\n",
            "Epoch 2/100\n",
            "32/32 [==============================] - 0s 1ms/step - loss: 4.2317 - accuracy: 0.4400\n",
            "Epoch 3/100\n",
            "32/32 [==============================] - 0s 1ms/step - loss: 4.1610 - accuracy: 0.4310\n",
            "Epoch 4/100\n",
            "32/32 [==============================] - 0s 2ms/step - loss: 4.1183 - accuracy: 0.4270\n",
            "Epoch 5/100\n",
            "32/32 [==============================] - 0s 2ms/step - loss: 4.0784 - accuracy: 0.4240\n",
            "Epoch 6/100\n",
            "32/32 [==============================] - 0s 2ms/step - loss: 3.9604 - accuracy: 0.4170\n",
            "Epoch 7/100\n",
            "32/32 [==============================] - 0s 2ms/step - loss: 3.8936 - accuracy: 0.4110\n",
            "Epoch 8/100\n",
            "32/32 [==============================] - 0s 1ms/step - loss: 3.7818 - accuracy: 0.4140\n",
            "Epoch 9/100\n",
            "32/32 [==============================] - 0s 1ms/step - loss: 3.7564 - accuracy: 0.4140\n",
            "Epoch 10/100\n",
            "32/32 [==============================] - 0s 2ms/step - loss: 3.7547 - accuracy: 0.4150\n",
            "Epoch 11/100\n",
            "32/32 [==============================] - 0s 2ms/step - loss: 3.7537 - accuracy: 0.4140\n",
            "Epoch 12/100\n",
            "32/32 [==============================] - 0s 1ms/step - loss: 3.7526 - accuracy: 0.4140\n",
            "Epoch 13/100\n",
            "32/32 [==============================] - 0s 2ms/step - loss: 3.7518 - accuracy: 0.4140\n",
            "Epoch 14/100\n",
            "32/32 [==============================] - 0s 2ms/step - loss: 3.7510 - accuracy: 0.4140\n",
            "Epoch 15/100\n",
            "32/32 [==============================] - 0s 2ms/step - loss: 3.7503 - accuracy: 0.4130\n",
            "Epoch 16/100\n",
            "32/32 [==============================] - 0s 2ms/step - loss: 3.7497 - accuracy: 0.4130\n",
            "Epoch 17/100\n",
            "32/32 [==============================] - 0s 2ms/step - loss: 3.7490 - accuracy: 0.4130\n",
            "Epoch 18/100\n",
            "32/32 [==============================] - 0s 2ms/step - loss: 3.7484 - accuracy: 0.4130\n",
            "Epoch 19/100\n",
            "32/32 [==============================] - 0s 2ms/step - loss: 3.7478 - accuracy: 0.4120\n",
            "Epoch 20/100\n",
            "32/32 [==============================] - 0s 2ms/step - loss: 3.7472 - accuracy: 0.4120\n",
            "Epoch 21/100\n",
            "32/32 [==============================] - 0s 2ms/step - loss: 3.7466 - accuracy: 0.4110\n",
            "Epoch 22/100\n",
            "32/32 [==============================] - 0s 2ms/step - loss: 3.7461 - accuracy: 0.4110\n",
            "Epoch 23/100\n",
            "32/32 [==============================] - 0s 2ms/step - loss: 3.7455 - accuracy: 0.4110\n",
            "Epoch 24/100\n",
            "32/32 [==============================] - 0s 2ms/step - loss: 3.7450 - accuracy: 0.4110\n",
            "Epoch 25/100\n",
            "32/32 [==============================] - 0s 2ms/step - loss: 3.7366 - accuracy: 0.4120\n",
            "Epoch 26/100\n",
            "32/32 [==============================] - 0s 2ms/step - loss: 3.7256 - accuracy: 0.4120\n",
            "Epoch 27/100\n",
            "32/32 [==============================] - 0s 2ms/step - loss: 3.7230 - accuracy: 0.4140\n",
            "Epoch 28/100\n",
            "32/32 [==============================] - 0s 2ms/step - loss: 3.7215 - accuracy: 0.4140\n",
            "Epoch 29/100\n",
            "32/32 [==============================] - 0s 1ms/step - loss: 3.7204 - accuracy: 0.4150\n",
            "Epoch 30/100\n",
            "32/32 [==============================] - 0s 2ms/step - loss: 3.7196 - accuracy: 0.4160\n",
            "Epoch 31/100\n",
            "32/32 [==============================] - 0s 2ms/step - loss: 3.7188 - accuracy: 0.4170\n",
            "Epoch 32/100\n",
            "32/32 [==============================] - 0s 2ms/step - loss: 3.7181 - accuracy: 0.4170\n",
            "Epoch 33/100\n",
            "32/32 [==============================] - 0s 2ms/step - loss: 3.7174 - accuracy: 0.4170\n",
            "Epoch 34/100\n",
            "32/32 [==============================] - 0s 2ms/step - loss: 3.7167 - accuracy: 0.4170\n",
            "Epoch 35/100\n",
            "32/32 [==============================] - 0s 1ms/step - loss: 3.7161 - accuracy: 0.4160\n",
            "Epoch 36/100\n",
            "32/32 [==============================] - 0s 2ms/step - loss: 3.7153 - accuracy: 0.4150\n",
            "Epoch 37/100\n",
            "32/32 [==============================] - 0s 1ms/step - loss: 3.7147 - accuracy: 0.4150\n",
            "Epoch 38/100\n",
            "32/32 [==============================] - 0s 1ms/step - loss: 3.7141 - accuracy: 0.4150\n",
            "Epoch 39/100\n",
            "32/32 [==============================] - 0s 2ms/step - loss: 3.7135 - accuracy: 0.4150\n",
            "Epoch 40/100\n",
            "32/32 [==============================] - 0s 1ms/step - loss: 3.7129 - accuracy: 0.4150\n",
            "Epoch 41/100\n",
            "32/32 [==============================] - 0s 1ms/step - loss: 3.7123 - accuracy: 0.4150\n",
            "Epoch 42/100\n",
            "32/32 [==============================] - 0s 2ms/step - loss: 3.7118 - accuracy: 0.4160\n",
            "Epoch 43/100\n",
            "32/32 [==============================] - 0s 1ms/step - loss: 3.7112 - accuracy: 0.4160\n",
            "Epoch 44/100\n",
            "32/32 [==============================] - 0s 1ms/step - loss: 3.7107 - accuracy: 0.4160\n",
            "Epoch 45/100\n",
            "32/32 [==============================] - 0s 2ms/step - loss: 3.7101 - accuracy: 0.4150\n",
            "Epoch 46/100\n",
            "32/32 [==============================] - 0s 2ms/step - loss: 3.7096 - accuracy: 0.4170\n",
            "Epoch 47/100\n",
            "32/32 [==============================] - 0s 2ms/step - loss: 3.7091 - accuracy: 0.4170\n",
            "Epoch 48/100\n",
            "32/32 [==============================] - 0s 2ms/step - loss: 3.7014 - accuracy: 0.4170\n",
            "Epoch 49/100\n",
            "32/32 [==============================] - 0s 2ms/step - loss: 3.6892 - accuracy: 0.4190\n",
            "Epoch 50/100\n",
            "32/32 [==============================] - 0s 1ms/step - loss: 3.6856 - accuracy: 0.4190\n",
            "Epoch 51/100\n",
            "32/32 [==============================] - 0s 2ms/step - loss: 3.6846 - accuracy: 0.4190\n",
            "Epoch 52/100\n",
            "32/32 [==============================] - 0s 2ms/step - loss: 3.6837 - accuracy: 0.4190\n",
            "Epoch 53/100\n",
            "32/32 [==============================] - 0s 2ms/step - loss: 3.6829 - accuracy: 0.4190\n",
            "Epoch 54/100\n",
            "32/32 [==============================] - 0s 2ms/step - loss: 3.6821 - accuracy: 0.4190\n",
            "Epoch 55/100\n",
            "32/32 [==============================] - 0s 1ms/step - loss: 3.6814 - accuracy: 0.4190\n",
            "Epoch 56/100\n",
            "32/32 [==============================] - 0s 2ms/step - loss: 3.6807 - accuracy: 0.4200\n",
            "Epoch 57/100\n",
            "32/32 [==============================] - 0s 2ms/step - loss: 3.6727 - accuracy: 0.4210\n",
            "Epoch 58/100\n",
            "32/32 [==============================] - 0s 2ms/step - loss: 3.6690 - accuracy: 0.4190\n",
            "Epoch 59/100\n",
            "32/32 [==============================] - 0s 2ms/step - loss: 3.6677 - accuracy: 0.4190\n",
            "Epoch 60/100\n",
            "32/32 [==============================] - 0s 2ms/step - loss: 3.6585 - accuracy: 0.4190\n",
            "Epoch 61/100\n",
            "32/32 [==============================] - 0s 2ms/step - loss: 3.6489 - accuracy: 0.4200\n",
            "Epoch 62/100\n",
            "32/32 [==============================] - 0s 1ms/step - loss: 3.6330 - accuracy: 0.4190\n",
            "Epoch 63/100\n",
            "32/32 [==============================] - 0s 2ms/step - loss: 3.6282 - accuracy: 0.4200\n",
            "Epoch 64/100\n",
            "32/32 [==============================] - 0s 2ms/step - loss: 3.6162 - accuracy: 0.4220\n",
            "Epoch 65/100\n",
            "32/32 [==============================] - 0s 2ms/step - loss: 3.6062 - accuracy: 0.4240\n",
            "Epoch 66/100\n",
            "32/32 [==============================] - 0s 2ms/step - loss: 3.6031 - accuracy: 0.4260\n",
            "Epoch 67/100\n",
            "32/32 [==============================] - 0s 1ms/step - loss: 3.6012 - accuracy: 0.4280\n",
            "Epoch 68/100\n",
            "32/32 [==============================] - 0s 2ms/step - loss: 3.5999 - accuracy: 0.4280\n",
            "Epoch 69/100\n",
            "32/32 [==============================] - 0s 2ms/step - loss: 3.5904 - accuracy: 0.4290\n",
            "Epoch 70/100\n",
            "32/32 [==============================] - 0s 1ms/step - loss: 3.5858 - accuracy: 0.4300\n",
            "Epoch 71/100\n",
            "32/32 [==============================] - 0s 2ms/step - loss: 3.5846 - accuracy: 0.4300\n",
            "Epoch 72/100\n",
            "32/32 [==============================] - 0s 1ms/step - loss: 3.5836 - accuracy: 0.4300\n",
            "Epoch 73/100\n",
            "32/32 [==============================] - 0s 1ms/step - loss: 3.5826 - accuracy: 0.4310\n",
            "Epoch 74/100\n",
            "32/32 [==============================] - 0s 2ms/step - loss: 3.5817 - accuracy: 0.4330\n",
            "Epoch 75/100\n",
            "32/32 [==============================] - 0s 2ms/step - loss: 3.5656 - accuracy: 0.4360\n",
            "Epoch 76/100\n",
            "32/32 [==============================] - 0s 1ms/step - loss: 3.5355 - accuracy: 0.4410\n",
            "Epoch 77/100\n",
            "32/32 [==============================] - 0s 1ms/step - loss: 3.5335 - accuracy: 0.4410\n",
            "Epoch 78/100\n",
            "32/32 [==============================] - 0s 2ms/step - loss: 3.5319 - accuracy: 0.4420\n",
            "Epoch 79/100\n",
            "32/32 [==============================] - 0s 2ms/step - loss: 3.5306 - accuracy: 0.4420\n",
            "Epoch 80/100\n",
            "32/32 [==============================] - 0s 1ms/step - loss: 3.5208 - accuracy: 0.4420\n",
            "Epoch 81/100\n",
            "32/32 [==============================] - 0s 2ms/step - loss: 3.5172 - accuracy: 0.4420\n",
            "Epoch 82/100\n",
            "32/32 [==============================] - 0s 2ms/step - loss: 3.5157 - accuracy: 0.4430\n",
            "Epoch 83/100\n",
            "32/32 [==============================] - 0s 2ms/step - loss: 3.5144 - accuracy: 0.4450\n",
            "Epoch 84/100\n",
            "32/32 [==============================] - 0s 1ms/step - loss: 3.5132 - accuracy: 0.4450\n",
            "Epoch 85/100\n",
            "32/32 [==============================] - 0s 2ms/step - loss: 3.5043 - accuracy: 0.4460\n",
            "Epoch 86/100\n",
            "32/32 [==============================] - 0s 2ms/step - loss: 3.5002 - accuracy: 0.4470\n",
            "Epoch 87/100\n",
            "32/32 [==============================] - 0s 1ms/step - loss: 3.4905 - accuracy: 0.4470\n",
            "Epoch 88/100\n",
            "32/32 [==============================] - 0s 2ms/step - loss: 3.4788 - accuracy: 0.4470\n",
            "Epoch 89/100\n",
            "32/32 [==============================] - 0s 2ms/step - loss: 3.4661 - accuracy: 0.4470\n",
            "Epoch 90/100\n",
            "32/32 [==============================] - 0s 1ms/step - loss: 3.4452 - accuracy: 0.4490\n",
            "Epoch 91/100\n",
            "32/32 [==============================] - 0s 1ms/step - loss: 3.4198 - accuracy: 0.4560\n",
            "Epoch 92/100\n",
            "32/32 [==============================] - 0s 1ms/step - loss: 3.4176 - accuracy: 0.4550\n",
            "Epoch 93/100\n",
            "32/32 [==============================] - 0s 2ms/step - loss: 3.4072 - accuracy: 0.4580\n",
            "Epoch 94/100\n",
            "32/32 [==============================] - 0s 2ms/step - loss: 3.4036 - accuracy: 0.4580\n",
            "Epoch 95/100\n",
            "32/32 [==============================] - 0s 2ms/step - loss: 3.3944 - accuracy: 0.4590\n",
            "Epoch 96/100\n",
            "32/32 [==============================] - 0s 2ms/step - loss: 3.3290 - accuracy: 0.4590\n",
            "Epoch 97/100\n",
            "32/32 [==============================] - 0s 1ms/step - loss: 3.2727 - accuracy: 0.4600\n",
            "Epoch 98/100\n",
            "32/32 [==============================] - 0s 2ms/step - loss: 3.2636 - accuracy: 0.4580\n",
            "Epoch 99/100\n",
            "32/32 [==============================] - 0s 2ms/step - loss: 3.2509 - accuracy: 0.4570\n",
            "Epoch 100/100\n",
            "32/32 [==============================] - 0s 1ms/step - loss: 3.2459 - accuracy: 0.4570\n"
          ]
        }
      ]
    },
    {
      "cell_type": "code",
      "source": [
        "#Set the Seed\n",
        "tf.random.set_seed(42)\n",
        "\n",
        "# 1. Create the model \n",
        "model_6 = tf.keras.Sequential([\n",
        "                               tf.keras.layers.Dense(4, activation = \"relu\"),\n",
        "                               tf.keras.layers.Dense(4, activation = \"relu\"),\n",
        "                               tf.keras.layers.Dense(1)\n",
        "])\n",
        "\n",
        "# 2. Compile the model\n",
        "model_6.compile(loss = tf.keras.losses.BinaryCrossentropy(),\n",
        "                optimizer = tf.keras.optimizers.Adam(lr = 0.001),\n",
        "                metrics = [\"accuracy\"])\n",
        "\n",
        "# 3. Fit the model \n",
        "model_6.fit(X,y,epochs = 250)"
      ],
      "metadata": {
        "colab": {
          "base_uri": "https://localhost:8080/"
        },
        "collapsed": true,
        "id": "UYvDOUdZSAzg",
        "outputId": "13223a68-e8cf-4576-b49f-4fa92170e9a4"
      },
      "execution_count": null,
      "outputs": [
        {
          "output_type": "stream",
          "name": "stderr",
          "text": [
            "/usr/local/lib/python3.7/dist-packages/keras/optimizer_v2/adam.py:105: UserWarning: The `lr` argument is deprecated, use `learning_rate` instead.\n",
            "  super(Adam, self).__init__(name, **kwargs)\n"
          ]
        },
        {
          "output_type": "stream",
          "name": "stdout",
          "text": [
            "Epoch 1/250\n",
            "32/32 [==============================] - 1s 2ms/step - loss: 7.7125 - accuracy: 0.5000\n",
            "Epoch 2/250\n",
            "32/32 [==============================] - 0s 2ms/step - loss: 7.7125 - accuracy: 0.5000\n",
            "Epoch 3/250\n",
            "32/32 [==============================] - 0s 2ms/step - loss: 7.7125 - accuracy: 0.5000\n",
            "Epoch 4/250\n",
            "32/32 [==============================] - 0s 2ms/step - loss: 7.7125 - accuracy: 0.5000\n",
            "Epoch 5/250\n",
            "32/32 [==============================] - 0s 2ms/step - loss: 7.7125 - accuracy: 0.5000\n",
            "Epoch 6/250\n",
            "32/32 [==============================] - 0s 2ms/step - loss: 7.7125 - accuracy: 0.5000\n",
            "Epoch 7/250\n",
            "32/32 [==============================] - 0s 2ms/step - loss: 7.7125 - accuracy: 0.5000\n",
            "Epoch 8/250\n",
            "32/32 [==============================] - 0s 2ms/step - loss: 7.7125 - accuracy: 0.5000\n",
            "Epoch 9/250\n",
            "32/32 [==============================] - 0s 2ms/step - loss: 7.7125 - accuracy: 0.5000\n",
            "Epoch 10/250\n",
            "32/32 [==============================] - 0s 2ms/step - loss: 7.7125 - accuracy: 0.5000\n",
            "Epoch 11/250\n",
            "32/32 [==============================] - 0s 2ms/step - loss: 7.7125 - accuracy: 0.5000\n",
            "Epoch 12/250\n",
            "32/32 [==============================] - 0s 2ms/step - loss: 7.7125 - accuracy: 0.5000\n",
            "Epoch 13/250\n",
            "32/32 [==============================] - 0s 2ms/step - loss: 7.7125 - accuracy: 0.5000\n",
            "Epoch 14/250\n",
            "32/32 [==============================] - 0s 2ms/step - loss: 7.7125 - accuracy: 0.5000\n",
            "Epoch 15/250\n",
            "32/32 [==============================] - 0s 2ms/step - loss: 7.7125 - accuracy: 0.5000\n",
            "Epoch 16/250\n",
            "32/32 [==============================] - 0s 2ms/step - loss: 7.7125 - accuracy: 0.5000\n",
            "Epoch 17/250\n",
            "32/32 [==============================] - 0s 2ms/step - loss: 7.7125 - accuracy: 0.5000\n",
            "Epoch 18/250\n",
            "32/32 [==============================] - 0s 2ms/step - loss: 7.7125 - accuracy: 0.5000\n",
            "Epoch 19/250\n",
            "32/32 [==============================] - 0s 2ms/step - loss: 7.7125 - accuracy: 0.5000\n",
            "Epoch 20/250\n",
            "32/32 [==============================] - 0s 2ms/step - loss: 7.7125 - accuracy: 0.5000\n",
            "Epoch 21/250\n",
            "32/32 [==============================] - 0s 2ms/step - loss: 7.7125 - accuracy: 0.5000\n",
            "Epoch 22/250\n",
            "32/32 [==============================] - 0s 2ms/step - loss: 7.7125 - accuracy: 0.5000\n",
            "Epoch 23/250\n",
            "32/32 [==============================] - 0s 2ms/step - loss: 7.7125 - accuracy: 0.5000\n",
            "Epoch 24/250\n",
            "32/32 [==============================] - 0s 2ms/step - loss: 7.7125 - accuracy: 0.5000\n",
            "Epoch 25/250\n",
            "32/32 [==============================] - 0s 2ms/step - loss: 7.7125 - accuracy: 0.5000\n",
            "Epoch 26/250\n",
            "32/32 [==============================] - 0s 2ms/step - loss: 7.7125 - accuracy: 0.5000\n",
            "Epoch 27/250\n",
            "32/32 [==============================] - 0s 2ms/step - loss: 7.7125 - accuracy: 0.5000\n",
            "Epoch 28/250\n",
            "32/32 [==============================] - 0s 2ms/step - loss: 7.7125 - accuracy: 0.5000\n",
            "Epoch 29/250\n",
            "32/32 [==============================] - 0s 2ms/step - loss: 7.7125 - accuracy: 0.5000\n",
            "Epoch 30/250\n",
            "32/32 [==============================] - 0s 2ms/step - loss: 7.7125 - accuracy: 0.5000\n",
            "Epoch 31/250\n",
            "32/32 [==============================] - 0s 2ms/step - loss: 7.7125 - accuracy: 0.5000\n",
            "Epoch 32/250\n",
            "32/32 [==============================] - 0s 2ms/step - loss: 7.7125 - accuracy: 0.5000\n",
            "Epoch 33/250\n",
            "32/32 [==============================] - 0s 2ms/step - loss: 7.7125 - accuracy: 0.5000\n",
            "Epoch 34/250\n",
            "32/32 [==============================] - 0s 2ms/step - loss: 7.7125 - accuracy: 0.5000\n",
            "Epoch 35/250\n",
            "32/32 [==============================] - 0s 2ms/step - loss: 7.7125 - accuracy: 0.5000\n",
            "Epoch 36/250\n",
            "32/32 [==============================] - 0s 2ms/step - loss: 7.7125 - accuracy: 0.5000\n",
            "Epoch 37/250\n",
            "32/32 [==============================] - 0s 2ms/step - loss: 7.7125 - accuracy: 0.5000\n",
            "Epoch 38/250\n",
            "32/32 [==============================] - 0s 2ms/step - loss: 7.7125 - accuracy: 0.5000\n",
            "Epoch 39/250\n",
            "32/32 [==============================] - 0s 2ms/step - loss: 7.7125 - accuracy: 0.5000\n",
            "Epoch 40/250\n",
            "32/32 [==============================] - 0s 2ms/step - loss: 7.7125 - accuracy: 0.5000\n",
            "Epoch 41/250\n",
            "32/32 [==============================] - 0s 2ms/step - loss: 7.7125 - accuracy: 0.5000\n",
            "Epoch 42/250\n",
            "32/32 [==============================] - 0s 2ms/step - loss: 7.7125 - accuracy: 0.5000\n",
            "Epoch 43/250\n",
            "32/32 [==============================] - 0s 2ms/step - loss: 7.7125 - accuracy: 0.5000\n",
            "Epoch 44/250\n",
            "32/32 [==============================] - 0s 2ms/step - loss: 7.7125 - accuracy: 0.5000\n",
            "Epoch 45/250\n",
            "32/32 [==============================] - 0s 2ms/step - loss: 7.7125 - accuracy: 0.5000\n",
            "Epoch 46/250\n",
            "32/32 [==============================] - 0s 2ms/step - loss: 7.7125 - accuracy: 0.5000\n",
            "Epoch 47/250\n",
            "32/32 [==============================] - 0s 2ms/step - loss: 7.7125 - accuracy: 0.5000\n",
            "Epoch 48/250\n",
            "32/32 [==============================] - 0s 2ms/step - loss: 7.7125 - accuracy: 0.5000\n",
            "Epoch 49/250\n",
            "32/32 [==============================] - 0s 2ms/step - loss: 7.7125 - accuracy: 0.5000\n",
            "Epoch 50/250\n",
            "32/32 [==============================] - 0s 2ms/step - loss: 7.7125 - accuracy: 0.5000\n",
            "Epoch 51/250\n",
            "32/32 [==============================] - 0s 2ms/step - loss: 7.7125 - accuracy: 0.5000\n",
            "Epoch 52/250\n",
            "32/32 [==============================] - 0s 2ms/step - loss: 7.7125 - accuracy: 0.5000\n",
            "Epoch 53/250\n",
            "32/32 [==============================] - 0s 3ms/step - loss: 7.7125 - accuracy: 0.5000\n",
            "Epoch 54/250\n",
            "32/32 [==============================] - 0s 2ms/step - loss: 7.7125 - accuracy: 0.5000\n",
            "Epoch 55/250\n",
            "32/32 [==============================] - 0s 2ms/step - loss: 7.7125 - accuracy: 0.5000\n",
            "Epoch 56/250\n",
            "32/32 [==============================] - 0s 2ms/step - loss: 7.7125 - accuracy: 0.5000\n",
            "Epoch 57/250\n",
            "32/32 [==============================] - 0s 2ms/step - loss: 7.7125 - accuracy: 0.5000\n",
            "Epoch 58/250\n",
            "32/32 [==============================] - 0s 2ms/step - loss: 7.7125 - accuracy: 0.5000\n",
            "Epoch 59/250\n",
            "32/32 [==============================] - 0s 2ms/step - loss: 7.7125 - accuracy: 0.5000\n",
            "Epoch 60/250\n",
            "32/32 [==============================] - 0s 2ms/step - loss: 7.7125 - accuracy: 0.5000\n",
            "Epoch 61/250\n",
            "32/32 [==============================] - 0s 2ms/step - loss: 7.7125 - accuracy: 0.5000\n",
            "Epoch 62/250\n",
            "32/32 [==============================] - 0s 2ms/step - loss: 7.7125 - accuracy: 0.5000\n",
            "Epoch 63/250\n",
            "32/32 [==============================] - 0s 2ms/step - loss: 7.7125 - accuracy: 0.5000\n",
            "Epoch 64/250\n",
            "32/32 [==============================] - 0s 2ms/step - loss: 7.7125 - accuracy: 0.5000\n",
            "Epoch 65/250\n",
            "32/32 [==============================] - 0s 2ms/step - loss: 7.7125 - accuracy: 0.5000\n",
            "Epoch 66/250\n",
            "32/32 [==============================] - 0s 3ms/step - loss: 7.7125 - accuracy: 0.5000\n",
            "Epoch 67/250\n",
            "32/32 [==============================] - 0s 2ms/step - loss: 7.7125 - accuracy: 0.5000\n",
            "Epoch 68/250\n",
            "32/32 [==============================] - 0s 2ms/step - loss: 7.7125 - accuracy: 0.5000\n",
            "Epoch 69/250\n",
            "32/32 [==============================] - 0s 2ms/step - loss: 7.7125 - accuracy: 0.5000\n",
            "Epoch 70/250\n",
            "32/32 [==============================] - 0s 2ms/step - loss: 7.7125 - accuracy: 0.5000\n",
            "Epoch 71/250\n",
            "32/32 [==============================] - 0s 2ms/step - loss: 7.7125 - accuracy: 0.5000\n",
            "Epoch 72/250\n",
            "32/32 [==============================] - 0s 2ms/step - loss: 7.7125 - accuracy: 0.5000\n",
            "Epoch 73/250\n",
            "32/32 [==============================] - 0s 2ms/step - loss: 7.7125 - accuracy: 0.5000\n",
            "Epoch 74/250\n",
            "32/32 [==============================] - 0s 2ms/step - loss: 7.7125 - accuracy: 0.5000\n",
            "Epoch 75/250\n",
            "32/32 [==============================] - 0s 2ms/step - loss: 7.7125 - accuracy: 0.5000\n",
            "Epoch 76/250\n",
            "32/32 [==============================] - 0s 2ms/step - loss: 7.7125 - accuracy: 0.5000\n",
            "Epoch 77/250\n",
            "32/32 [==============================] - 0s 2ms/step - loss: 7.7125 - accuracy: 0.5000\n",
            "Epoch 78/250\n",
            "32/32 [==============================] - 0s 2ms/step - loss: 7.7125 - accuracy: 0.5000\n",
            "Epoch 79/250\n",
            "32/32 [==============================] - 0s 2ms/step - loss: 7.7125 - accuracy: 0.5000\n",
            "Epoch 80/250\n",
            "32/32 [==============================] - 0s 2ms/step - loss: 7.7125 - accuracy: 0.5000\n",
            "Epoch 81/250\n",
            "32/32 [==============================] - 0s 2ms/step - loss: 7.7125 - accuracy: 0.5000\n",
            "Epoch 82/250\n",
            "32/32 [==============================] - 0s 2ms/step - loss: 7.7125 - accuracy: 0.5000\n",
            "Epoch 83/250\n",
            "32/32 [==============================] - 0s 2ms/step - loss: 7.7125 - accuracy: 0.5000\n",
            "Epoch 84/250\n",
            "32/32 [==============================] - 0s 2ms/step - loss: 7.7125 - accuracy: 0.5000\n",
            "Epoch 85/250\n",
            "32/32 [==============================] - 0s 2ms/step - loss: 7.7125 - accuracy: 0.5000\n",
            "Epoch 86/250\n",
            "32/32 [==============================] - 0s 2ms/step - loss: 7.7125 - accuracy: 0.5000\n",
            "Epoch 87/250\n",
            "32/32 [==============================] - 0s 2ms/step - loss: 7.7125 - accuracy: 0.5000\n",
            "Epoch 88/250\n",
            "32/32 [==============================] - 0s 2ms/step - loss: 7.7125 - accuracy: 0.5000\n",
            "Epoch 89/250\n",
            "32/32 [==============================] - 0s 2ms/step - loss: 7.7125 - accuracy: 0.5000\n",
            "Epoch 90/250\n",
            "32/32 [==============================] - 0s 2ms/step - loss: 7.7125 - accuracy: 0.5000\n",
            "Epoch 91/250\n",
            "32/32 [==============================] - 0s 2ms/step - loss: 7.7125 - accuracy: 0.5000\n",
            "Epoch 92/250\n",
            "32/32 [==============================] - 0s 2ms/step - loss: 7.7125 - accuracy: 0.5000\n",
            "Epoch 93/250\n",
            "32/32 [==============================] - 0s 2ms/step - loss: 7.7125 - accuracy: 0.5000\n",
            "Epoch 94/250\n",
            "32/32 [==============================] - 0s 2ms/step - loss: 7.7125 - accuracy: 0.5000\n",
            "Epoch 95/250\n",
            "32/32 [==============================] - 0s 2ms/step - loss: 7.7125 - accuracy: 0.5000\n",
            "Epoch 96/250\n",
            "32/32 [==============================] - 0s 2ms/step - loss: 7.7125 - accuracy: 0.5000\n",
            "Epoch 97/250\n",
            "32/32 [==============================] - 0s 2ms/step - loss: 7.7125 - accuracy: 0.5000\n",
            "Epoch 98/250\n",
            "32/32 [==============================] - 0s 2ms/step - loss: 7.7125 - accuracy: 0.5000\n",
            "Epoch 99/250\n",
            "32/32 [==============================] - 0s 2ms/step - loss: 7.7125 - accuracy: 0.5000\n",
            "Epoch 100/250\n",
            "32/32 [==============================] - 0s 2ms/step - loss: 7.7125 - accuracy: 0.5000\n",
            "Epoch 101/250\n",
            "32/32 [==============================] - 0s 2ms/step - loss: 7.7125 - accuracy: 0.5000\n",
            "Epoch 102/250\n",
            "32/32 [==============================] - 0s 2ms/step - loss: 7.7125 - accuracy: 0.5000\n",
            "Epoch 103/250\n",
            "32/32 [==============================] - 0s 2ms/step - loss: 7.7125 - accuracy: 0.5000\n",
            "Epoch 104/250\n",
            "32/32 [==============================] - 0s 2ms/step - loss: 7.7125 - accuracy: 0.5000\n",
            "Epoch 105/250\n",
            "32/32 [==============================] - 0s 2ms/step - loss: 7.7125 - accuracy: 0.5000\n",
            "Epoch 106/250\n",
            "32/32 [==============================] - 0s 2ms/step - loss: 7.7125 - accuracy: 0.5000\n",
            "Epoch 107/250\n",
            "32/32 [==============================] - 0s 2ms/step - loss: 7.7125 - accuracy: 0.5000\n",
            "Epoch 108/250\n",
            "32/32 [==============================] - 0s 2ms/step - loss: 7.7125 - accuracy: 0.5000\n",
            "Epoch 109/250\n",
            "32/32 [==============================] - 0s 2ms/step - loss: 7.7125 - accuracy: 0.5000\n",
            "Epoch 110/250\n",
            "32/32 [==============================] - 0s 2ms/step - loss: 7.7125 - accuracy: 0.5000\n",
            "Epoch 111/250\n",
            "32/32 [==============================] - 0s 2ms/step - loss: 7.7125 - accuracy: 0.5000\n",
            "Epoch 112/250\n",
            "32/32 [==============================] - 0s 2ms/step - loss: 7.7125 - accuracy: 0.5000\n",
            "Epoch 113/250\n",
            "32/32 [==============================] - 0s 2ms/step - loss: 7.7125 - accuracy: 0.5000\n",
            "Epoch 114/250\n",
            "32/32 [==============================] - 0s 2ms/step - loss: 7.7125 - accuracy: 0.5000\n",
            "Epoch 115/250\n",
            "32/32 [==============================] - 0s 2ms/step - loss: 7.7125 - accuracy: 0.5000\n",
            "Epoch 116/250\n",
            "32/32 [==============================] - 0s 2ms/step - loss: 7.7125 - accuracy: 0.5000\n",
            "Epoch 117/250\n",
            "32/32 [==============================] - 0s 2ms/step - loss: 7.7125 - accuracy: 0.5000\n",
            "Epoch 118/250\n",
            "32/32 [==============================] - 0s 2ms/step - loss: 7.7125 - accuracy: 0.5000\n",
            "Epoch 119/250\n",
            "32/32 [==============================] - 0s 2ms/step - loss: 7.7125 - accuracy: 0.5000\n",
            "Epoch 120/250\n",
            "32/32 [==============================] - 0s 2ms/step - loss: 7.7125 - accuracy: 0.5000\n",
            "Epoch 121/250\n",
            "32/32 [==============================] - 0s 2ms/step - loss: 7.7125 - accuracy: 0.5000\n",
            "Epoch 122/250\n",
            "32/32 [==============================] - 0s 2ms/step - loss: 7.7125 - accuracy: 0.5000\n",
            "Epoch 123/250\n",
            "32/32 [==============================] - 0s 2ms/step - loss: 7.7125 - accuracy: 0.5000\n",
            "Epoch 124/250\n",
            "32/32 [==============================] - 0s 2ms/step - loss: 7.7125 - accuracy: 0.5000\n",
            "Epoch 125/250\n",
            "32/32 [==============================] - 0s 2ms/step - loss: 7.7125 - accuracy: 0.5000\n",
            "Epoch 126/250\n",
            "32/32 [==============================] - 0s 2ms/step - loss: 7.7125 - accuracy: 0.5000\n",
            "Epoch 127/250\n",
            "32/32 [==============================] - 0s 2ms/step - loss: 7.7125 - accuracy: 0.5000\n",
            "Epoch 128/250\n",
            "32/32 [==============================] - 0s 2ms/step - loss: 7.7125 - accuracy: 0.5000\n",
            "Epoch 129/250\n",
            "32/32 [==============================] - 0s 2ms/step - loss: 7.7125 - accuracy: 0.5000\n",
            "Epoch 130/250\n",
            "32/32 [==============================] - 0s 2ms/step - loss: 7.7125 - accuracy: 0.5000\n",
            "Epoch 131/250\n",
            "32/32 [==============================] - 0s 2ms/step - loss: 7.7125 - accuracy: 0.5000\n",
            "Epoch 132/250\n",
            "32/32 [==============================] - 0s 2ms/step - loss: 7.7125 - accuracy: 0.5000\n",
            "Epoch 133/250\n",
            "32/32 [==============================] - 0s 2ms/step - loss: 7.7125 - accuracy: 0.5000\n",
            "Epoch 134/250\n",
            "32/32 [==============================] - 0s 2ms/step - loss: 7.7125 - accuracy: 0.5000\n",
            "Epoch 135/250\n",
            "32/32 [==============================] - 0s 2ms/step - loss: 7.7125 - accuracy: 0.5000\n",
            "Epoch 136/250\n",
            "32/32 [==============================] - 0s 2ms/step - loss: 7.7125 - accuracy: 0.5000\n",
            "Epoch 137/250\n",
            "32/32 [==============================] - 0s 2ms/step - loss: 7.7125 - accuracy: 0.5000\n",
            "Epoch 138/250\n",
            "32/32 [==============================] - 0s 2ms/step - loss: 7.7125 - accuracy: 0.5000\n",
            "Epoch 139/250\n",
            "32/32 [==============================] - 0s 2ms/step - loss: 7.7125 - accuracy: 0.5000\n",
            "Epoch 140/250\n",
            "32/32 [==============================] - 0s 2ms/step - loss: 7.7125 - accuracy: 0.5000\n",
            "Epoch 141/250\n",
            "32/32 [==============================] - 0s 2ms/step - loss: 7.7125 - accuracy: 0.5000\n",
            "Epoch 142/250\n",
            "32/32 [==============================] - 0s 2ms/step - loss: 7.7125 - accuracy: 0.5000\n",
            "Epoch 143/250\n",
            "32/32 [==============================] - 0s 2ms/step - loss: 7.7125 - accuracy: 0.5000\n",
            "Epoch 144/250\n",
            "32/32 [==============================] - 0s 2ms/step - loss: 7.7125 - accuracy: 0.5000\n",
            "Epoch 145/250\n",
            "32/32 [==============================] - 0s 2ms/step - loss: 7.7125 - accuracy: 0.5000\n",
            "Epoch 146/250\n",
            "32/32 [==============================] - 0s 2ms/step - loss: 7.7125 - accuracy: 0.5000\n",
            "Epoch 147/250\n",
            "32/32 [==============================] - 0s 2ms/step - loss: 7.7125 - accuracy: 0.5000\n",
            "Epoch 148/250\n",
            "32/32 [==============================] - 0s 2ms/step - loss: 7.7125 - accuracy: 0.5000\n",
            "Epoch 149/250\n",
            "32/32 [==============================] - 0s 2ms/step - loss: 7.7125 - accuracy: 0.5000\n",
            "Epoch 150/250\n",
            "32/32 [==============================] - 0s 2ms/step - loss: 7.7125 - accuracy: 0.5000\n",
            "Epoch 151/250\n",
            "32/32 [==============================] - 0s 2ms/step - loss: 7.7125 - accuracy: 0.5000\n",
            "Epoch 152/250\n",
            "32/32 [==============================] - 0s 2ms/step - loss: 7.7125 - accuracy: 0.5000\n",
            "Epoch 153/250\n",
            "32/32 [==============================] - 0s 2ms/step - loss: 7.7125 - accuracy: 0.5000\n",
            "Epoch 154/250\n",
            "32/32 [==============================] - 0s 2ms/step - loss: 7.7125 - accuracy: 0.5000\n",
            "Epoch 155/250\n",
            "32/32 [==============================] - 0s 2ms/step - loss: 7.7125 - accuracy: 0.5000\n",
            "Epoch 156/250\n",
            "32/32 [==============================] - 0s 2ms/step - loss: 7.7125 - accuracy: 0.5000\n",
            "Epoch 157/250\n",
            "32/32 [==============================] - 0s 2ms/step - loss: 7.7125 - accuracy: 0.5000\n",
            "Epoch 158/250\n",
            "32/32 [==============================] - 0s 2ms/step - loss: 7.7125 - accuracy: 0.5000\n",
            "Epoch 159/250\n",
            "32/32 [==============================] - 0s 2ms/step - loss: 7.7125 - accuracy: 0.5000\n",
            "Epoch 160/250\n",
            "32/32 [==============================] - 0s 2ms/step - loss: 7.7125 - accuracy: 0.5000\n",
            "Epoch 161/250\n",
            "32/32 [==============================] - 0s 2ms/step - loss: 7.7125 - accuracy: 0.5000\n",
            "Epoch 162/250\n",
            "32/32 [==============================] - 0s 2ms/step - loss: 7.7125 - accuracy: 0.5000\n",
            "Epoch 163/250\n",
            "32/32 [==============================] - 0s 2ms/step - loss: 7.7125 - accuracy: 0.5000\n",
            "Epoch 164/250\n",
            "32/32 [==============================] - 0s 2ms/step - loss: 7.7125 - accuracy: 0.5000\n",
            "Epoch 165/250\n",
            "32/32 [==============================] - 0s 2ms/step - loss: 7.7125 - accuracy: 0.5000\n",
            "Epoch 166/250\n",
            "32/32 [==============================] - 0s 2ms/step - loss: 7.7125 - accuracy: 0.5000\n",
            "Epoch 167/250\n",
            "32/32 [==============================] - 0s 2ms/step - loss: 7.7125 - accuracy: 0.5000\n",
            "Epoch 168/250\n",
            "32/32 [==============================] - 0s 2ms/step - loss: 7.7125 - accuracy: 0.5000\n",
            "Epoch 169/250\n",
            "32/32 [==============================] - 0s 2ms/step - loss: 7.7125 - accuracy: 0.5000\n",
            "Epoch 170/250\n",
            "32/32 [==============================] - 0s 2ms/step - loss: 7.7125 - accuracy: 0.5000\n",
            "Epoch 171/250\n",
            "32/32 [==============================] - 0s 2ms/step - loss: 7.7125 - accuracy: 0.5000\n",
            "Epoch 172/250\n",
            "32/32 [==============================] - 0s 2ms/step - loss: 7.7125 - accuracy: 0.5000\n",
            "Epoch 173/250\n",
            "32/32 [==============================] - 0s 2ms/step - loss: 7.7125 - accuracy: 0.5000\n",
            "Epoch 174/250\n",
            "32/32 [==============================] - 0s 2ms/step - loss: 7.7125 - accuracy: 0.5000\n",
            "Epoch 175/250\n",
            "32/32 [==============================] - 0s 2ms/step - loss: 7.7125 - accuracy: 0.5000\n",
            "Epoch 176/250\n",
            "32/32 [==============================] - 0s 2ms/step - loss: 7.7125 - accuracy: 0.5000\n",
            "Epoch 177/250\n",
            "32/32 [==============================] - 0s 2ms/step - loss: 7.7125 - accuracy: 0.5000\n",
            "Epoch 178/250\n",
            "32/32 [==============================] - 0s 2ms/step - loss: 7.7125 - accuracy: 0.5000\n",
            "Epoch 179/250\n",
            "32/32 [==============================] - 0s 2ms/step - loss: 7.7125 - accuracy: 0.5000\n",
            "Epoch 180/250\n",
            "32/32 [==============================] - 0s 2ms/step - loss: 7.7125 - accuracy: 0.5000\n",
            "Epoch 181/250\n",
            "32/32 [==============================] - 0s 2ms/step - loss: 7.7125 - accuracy: 0.5000\n",
            "Epoch 182/250\n",
            "32/32 [==============================] - 0s 2ms/step - loss: 7.7125 - accuracy: 0.5000\n",
            "Epoch 183/250\n",
            "32/32 [==============================] - 0s 2ms/step - loss: 7.7125 - accuracy: 0.5000\n",
            "Epoch 184/250\n",
            "32/32 [==============================] - 0s 2ms/step - loss: 7.7125 - accuracy: 0.5000\n",
            "Epoch 185/250\n",
            "32/32 [==============================] - 0s 3ms/step - loss: 7.7125 - accuracy: 0.5000\n",
            "Epoch 186/250\n",
            "32/32 [==============================] - 0s 2ms/step - loss: 7.7125 - accuracy: 0.5000\n",
            "Epoch 187/250\n",
            "32/32 [==============================] - 0s 2ms/step - loss: 7.7125 - accuracy: 0.5000\n",
            "Epoch 188/250\n",
            "32/32 [==============================] - 0s 2ms/step - loss: 7.7125 - accuracy: 0.5000\n",
            "Epoch 189/250\n",
            "32/32 [==============================] - 0s 2ms/step - loss: 7.7125 - accuracy: 0.5000\n",
            "Epoch 190/250\n",
            "32/32 [==============================] - 0s 2ms/step - loss: 7.7125 - accuracy: 0.5000\n",
            "Epoch 191/250\n",
            "32/32 [==============================] - 0s 2ms/step - loss: 7.7125 - accuracy: 0.5000\n",
            "Epoch 192/250\n",
            "32/32 [==============================] - 0s 2ms/step - loss: 7.7125 - accuracy: 0.5000\n",
            "Epoch 193/250\n",
            "32/32 [==============================] - 0s 2ms/step - loss: 7.7125 - accuracy: 0.5000\n",
            "Epoch 194/250\n",
            "32/32 [==============================] - 0s 2ms/step - loss: 7.7125 - accuracy: 0.5000\n",
            "Epoch 195/250\n",
            "32/32 [==============================] - 0s 2ms/step - loss: 7.7125 - accuracy: 0.5000\n",
            "Epoch 196/250\n",
            "32/32 [==============================] - 0s 2ms/step - loss: 7.7125 - accuracy: 0.5000\n",
            "Epoch 197/250\n",
            "32/32 [==============================] - 0s 2ms/step - loss: 7.7125 - accuracy: 0.5000\n",
            "Epoch 198/250\n",
            "32/32 [==============================] - 0s 2ms/step - loss: 7.7125 - accuracy: 0.5000\n",
            "Epoch 199/250\n",
            "32/32 [==============================] - 0s 2ms/step - loss: 7.7125 - accuracy: 0.5000\n",
            "Epoch 200/250\n",
            "32/32 [==============================] - 0s 2ms/step - loss: 7.7125 - accuracy: 0.5000\n",
            "Epoch 201/250\n",
            "32/32 [==============================] - 0s 3ms/step - loss: 7.7125 - accuracy: 0.5000\n",
            "Epoch 202/250\n",
            "32/32 [==============================] - 0s 2ms/step - loss: 7.7125 - accuracy: 0.5000\n",
            "Epoch 203/250\n",
            "32/32 [==============================] - 0s 2ms/step - loss: 7.7125 - accuracy: 0.5000\n",
            "Epoch 204/250\n",
            "32/32 [==============================] - 0s 2ms/step - loss: 7.7125 - accuracy: 0.5000\n",
            "Epoch 205/250\n",
            "32/32 [==============================] - 0s 2ms/step - loss: 7.7125 - accuracy: 0.5000\n",
            "Epoch 206/250\n",
            "32/32 [==============================] - 0s 2ms/step - loss: 7.7125 - accuracy: 0.5000\n",
            "Epoch 207/250\n",
            "32/32 [==============================] - 0s 3ms/step - loss: 7.7125 - accuracy: 0.5000\n",
            "Epoch 208/250\n",
            "32/32 [==============================] - 0s 2ms/step - loss: 7.7125 - accuracy: 0.5000\n",
            "Epoch 209/250\n",
            "32/32 [==============================] - 0s 2ms/step - loss: 7.7125 - accuracy: 0.5000\n",
            "Epoch 210/250\n",
            "32/32 [==============================] - 0s 2ms/step - loss: 7.7125 - accuracy: 0.5000\n",
            "Epoch 211/250\n",
            "32/32 [==============================] - 0s 2ms/step - loss: 7.7125 - accuracy: 0.5000\n",
            "Epoch 212/250\n",
            "32/32 [==============================] - 0s 2ms/step - loss: 7.7125 - accuracy: 0.5000\n",
            "Epoch 213/250\n",
            "32/32 [==============================] - 0s 2ms/step - loss: 7.7125 - accuracy: 0.5000\n",
            "Epoch 214/250\n",
            "32/32 [==============================] - 0s 2ms/step - loss: 7.7125 - accuracy: 0.5000\n",
            "Epoch 215/250\n",
            "32/32 [==============================] - 0s 2ms/step - loss: 7.7125 - accuracy: 0.5000\n",
            "Epoch 216/250\n",
            "32/32 [==============================] - 0s 2ms/step - loss: 7.7125 - accuracy: 0.5000\n",
            "Epoch 217/250\n",
            "32/32 [==============================] - 0s 2ms/step - loss: 7.7125 - accuracy: 0.5000\n",
            "Epoch 218/250\n",
            "32/32 [==============================] - 0s 2ms/step - loss: 7.7125 - accuracy: 0.5000\n",
            "Epoch 219/250\n",
            "32/32 [==============================] - 0s 2ms/step - loss: 7.7125 - accuracy: 0.5000\n",
            "Epoch 220/250\n",
            "32/32 [==============================] - 0s 2ms/step - loss: 7.7125 - accuracy: 0.5000\n",
            "Epoch 221/250\n",
            "32/32 [==============================] - 0s 2ms/step - loss: 7.7125 - accuracy: 0.5000\n",
            "Epoch 222/250\n",
            "32/32 [==============================] - 0s 2ms/step - loss: 7.7125 - accuracy: 0.5000\n",
            "Epoch 223/250\n",
            "32/32 [==============================] - 0s 2ms/step - loss: 7.7125 - accuracy: 0.5000\n",
            "Epoch 224/250\n",
            "32/32 [==============================] - 0s 2ms/step - loss: 7.7125 - accuracy: 0.5000\n",
            "Epoch 225/250\n",
            "32/32 [==============================] - 0s 2ms/step - loss: 7.7125 - accuracy: 0.5000\n",
            "Epoch 226/250\n",
            "32/32 [==============================] - 0s 2ms/step - loss: 7.7125 - accuracy: 0.5000\n",
            "Epoch 227/250\n",
            "32/32 [==============================] - 0s 2ms/step - loss: 7.7125 - accuracy: 0.5000\n",
            "Epoch 228/250\n",
            "32/32 [==============================] - 0s 2ms/step - loss: 7.7125 - accuracy: 0.5000\n",
            "Epoch 229/250\n",
            "32/32 [==============================] - 0s 3ms/step - loss: 7.7125 - accuracy: 0.5000\n",
            "Epoch 230/250\n",
            "32/32 [==============================] - 0s 2ms/step - loss: 7.7125 - accuracy: 0.5000\n",
            "Epoch 231/250\n",
            "32/32 [==============================] - 0s 2ms/step - loss: 7.7125 - accuracy: 0.5000\n",
            "Epoch 232/250\n",
            "32/32 [==============================] - 0s 2ms/step - loss: 7.7125 - accuracy: 0.5000\n",
            "Epoch 233/250\n",
            "32/32 [==============================] - 0s 2ms/step - loss: 7.7125 - accuracy: 0.5000\n",
            "Epoch 234/250\n",
            "32/32 [==============================] - 0s 2ms/step - loss: 7.7125 - accuracy: 0.5000\n",
            "Epoch 235/250\n",
            "32/32 [==============================] - 0s 2ms/step - loss: 7.7125 - accuracy: 0.5000\n",
            "Epoch 236/250\n",
            "32/32 [==============================] - 0s 2ms/step - loss: 7.7125 - accuracy: 0.5000\n",
            "Epoch 237/250\n",
            "32/32 [==============================] - 0s 2ms/step - loss: 7.7125 - accuracy: 0.5000\n",
            "Epoch 238/250\n",
            "32/32 [==============================] - 0s 2ms/step - loss: 7.7125 - accuracy: 0.5000\n",
            "Epoch 239/250\n",
            "32/32 [==============================] - 0s 2ms/step - loss: 7.7125 - accuracy: 0.5000\n",
            "Epoch 240/250\n",
            "32/32 [==============================] - 0s 2ms/step - loss: 7.7125 - accuracy: 0.5000\n",
            "Epoch 241/250\n",
            "32/32 [==============================] - 0s 2ms/step - loss: 7.7125 - accuracy: 0.5000\n",
            "Epoch 242/250\n",
            "32/32 [==============================] - 0s 2ms/step - loss: 7.7125 - accuracy: 0.5000\n",
            "Epoch 243/250\n",
            "32/32 [==============================] - 0s 2ms/step - loss: 7.7125 - accuracy: 0.5000\n",
            "Epoch 244/250\n",
            "32/32 [==============================] - 0s 2ms/step - loss: 7.7125 - accuracy: 0.5000\n",
            "Epoch 245/250\n",
            "32/32 [==============================] - 0s 2ms/step - loss: 7.7125 - accuracy: 0.5000\n",
            "Epoch 246/250\n",
            "32/32 [==============================] - 0s 2ms/step - loss: 7.7125 - accuracy: 0.5000\n",
            "Epoch 247/250\n",
            "32/32 [==============================] - 0s 2ms/step - loss: 7.7125 - accuracy: 0.5000\n",
            "Epoch 248/250\n",
            "32/32 [==============================] - 0s 2ms/step - loss: 7.7125 - accuracy: 0.5000\n",
            "Epoch 249/250\n",
            "32/32 [==============================] - 0s 2ms/step - loss: 7.7125 - accuracy: 0.5000\n",
            "Epoch 250/250\n",
            "32/32 [==============================] - 0s 2ms/step - loss: 7.7125 - accuracy: 0.5000\n"
          ]
        },
        {
          "output_type": "execute_result",
          "data": {
            "text/plain": [
              "<keras.callbacks.History at 0x7f29b957e290>"
            ]
          },
          "metadata": {},
          "execution_count": 30
        }
      ]
    },
    {
      "cell_type": "code",
      "source": [
        "# Evaluate the model\n",
        "model_6.evaluate(X,y)"
      ],
      "metadata": {
        "colab": {
          "base_uri": "https://localhost:8080/"
        },
        "collapsed": true,
        "id": "YI65DcGkUqpu",
        "outputId": "8269dacb-7f27-4bc1-de3e-0ecd37e81135"
      },
      "execution_count": null,
      "outputs": [
        {
          "output_type": "stream",
          "name": "stdout",
          "text": [
            "32/32 [==============================] - 0s 1ms/step - loss: 7.7125 - accuracy: 0.5000\n"
          ]
        },
        {
          "output_type": "execute_result",
          "data": {
            "text/plain": [
              "[7.712474346160889, 0.5]"
            ]
          },
          "metadata": {},
          "execution_count": 31
        }
      ]
    },
    {
      "cell_type": "code",
      "source": [
        "# Lets visualise the model\n",
        "\n",
        "plot_decision_boundry(model = model_6,\n",
        "                      X=X,\n",
        "                      y=y)"
      ],
      "metadata": {
        "colab": {
          "base_uri": "https://localhost:8080/"
        },
        "id": "PxlwdB8_YpQF",
        "outputId": "1c4ad8e9-e52a-4a75-edff-0d9c5f7864f5"
      },
      "execution_count": null,
      "outputs": [
        {
          "output_type": "stream",
          "name": "stdout",
          "text": [
            "doing binary classification\n"
          ]
        },
        {
          "output_type": "display_data",
          "data": {
            "image/png": "[encoded data removed]",
            "text/plain": [
              "<Figure size 432x288 with 1 Axes>"
            ]
          },
          "metadata": {
            "needs_background": "light"
          }
        }
      ]
    },
    {
      "cell_type": "code",
      "source": [
        "# Set the random seed\n",
        "\n",
        "tf.random.set_seed(42)\n",
        "\n",
        "# 1. Create the model \n",
        "\n",
        "model_7 = tf.keras.Sequential([\n",
        "                               tf.keras.layers.Dense(4, activation = \"relu\"),\n",
        "                               tf.keras.layers.Dense(4, activation = \"relu\"),\n",
        "                               tf.keras.layers.Dense(1, activation = \"sigmoid\")\n",
        "])\n",
        "# 2. Compule the model\n",
        "model_7.compile(optimizer = tf.keras.optimizers.Adam(lr = 0.01),\n",
        "                loss = tf.keras.losses.BinaryCrossentropy(),\n",
        "                metrics = [\"accuracy\"])\n",
        "\n",
        "#3. Fit the model \n",
        "model_7.fit(X,y, epochs = 250)"
      ],
      "metadata": {
        "colab": {
          "base_uri": "https://localhost:8080/"
        },
        "collapsed": true,
        "id": "Y4PteXBCY3fd",
        "outputId": "955dede7-7ec8-4162-8a03-1939b52ceb07"
      },
      "execution_count": null,
      "outputs": [
        {
          "output_type": "stream",
          "name": "stderr",
          "text": [
            "/usr/local/lib/python3.7/dist-packages/keras/optimizer_v2/adam.py:105: UserWarning: The `lr` argument is deprecated, use `learning_rate` instead.\n",
            "  super(Adam, self).__init__(name, **kwargs)\n"
          ]
        },
        {
          "output_type": "stream",
          "name": "stdout",
          "text": [
            "Epoch 1/250\n",
            "32/32 [==============================] - 1s 2ms/step - loss: 0.6834 - accuracy: 0.5550\n",
            "Epoch 2/250\n",
            "32/32 [==============================] - 0s 2ms/step - loss: 0.6761 - accuracy: 0.5630\n",
            "Epoch 3/250\n",
            "32/32 [==============================] - 0s 2ms/step - loss: 0.6700 - accuracy: 0.5600\n",
            "Epoch 4/250\n",
            "32/32 [==============================] - 0s 2ms/step - loss: 0.6615 - accuracy: 0.5960\n",
            "Epoch 5/250\n",
            "32/32 [==============================] - 0s 2ms/step - loss: 0.6553 - accuracy: 0.5850\n",
            "Epoch 6/250\n",
            "32/32 [==============================] - 0s 2ms/step - loss: 0.6386 - accuracy: 0.6360\n",
            "Epoch 7/250\n",
            "32/32 [==============================] - 0s 2ms/step - loss: 0.6150 - accuracy: 0.6890\n",
            "Epoch 8/250\n",
            "32/32 [==============================] - 0s 2ms/step - loss: 0.5641 - accuracy: 0.7480\n",
            "Epoch 9/250\n",
            "32/32 [==============================] - 0s 2ms/step - loss: 0.5101 - accuracy: 0.8090\n",
            "Epoch 10/250\n",
            "32/32 [==============================] - 0s 2ms/step - loss: 0.4451 - accuracy: 0.8550\n",
            "Epoch 11/250\n",
            "32/32 [==============================] - 0s 2ms/step - loss: 0.4107 - accuracy: 0.8250\n",
            "Epoch 12/250\n",
            "32/32 [==============================] - 0s 2ms/step - loss: 0.3722 - accuracy: 0.8770\n",
            "Epoch 13/250\n",
            "32/32 [==============================] - 0s 2ms/step - loss: 0.3106 - accuracy: 0.9400\n",
            "Epoch 14/250\n",
            "32/32 [==============================] - 0s 2ms/step - loss: 0.2762 - accuracy: 0.9500\n",
            "Epoch 15/250\n",
            "32/32 [==============================] - 0s 2ms/step - loss: 0.2421 - accuracy: 0.9670\n",
            "Epoch 16/250\n",
            "32/32 [==============================] - 0s 2ms/step - loss: 0.2116 - accuracy: 0.9800\n",
            "Epoch 17/250\n",
            "32/32 [==============================] - 0s 2ms/step - loss: 0.1926 - accuracy: 0.9780\n",
            "Epoch 18/250\n",
            "32/32 [==============================] - 0s 2ms/step - loss: 0.1718 - accuracy: 0.9830\n",
            "Epoch 19/250\n",
            "32/32 [==============================] - 0s 2ms/step - loss: 0.1599 - accuracy: 0.9760\n",
            "Epoch 20/250\n",
            "32/32 [==============================] - 0s 2ms/step - loss: 0.1419 - accuracy: 0.9820\n",
            "Epoch 21/250\n",
            "32/32 [==============================] - 0s 2ms/step - loss: 0.1375 - accuracy: 0.9830\n",
            "Epoch 22/250\n",
            "32/32 [==============================] - 0s 2ms/step - loss: 0.1300 - accuracy: 0.9820\n",
            "Epoch 23/250\n",
            "32/32 [==============================] - 0s 2ms/step - loss: 0.1219 - accuracy: 0.9840\n",
            "Epoch 24/250\n",
            "32/32 [==============================] - 0s 2ms/step - loss: 0.1102 - accuracy: 0.9820\n",
            "Epoch 25/250\n",
            "32/32 [==============================] - 0s 2ms/step - loss: 0.1073 - accuracy: 0.9830\n",
            "Epoch 26/250\n",
            "32/32 [==============================] - 0s 2ms/step - loss: 0.1005 - accuracy: 0.9830\n",
            "Epoch 27/250\n",
            "32/32 [==============================] - 0s 2ms/step - loss: 0.0901 - accuracy: 0.9900\n",
            "Epoch 28/250\n",
            "32/32 [==============================] - 0s 2ms/step - loss: 0.0911 - accuracy: 0.9830\n",
            "Epoch 29/250\n",
            "32/32 [==============================] - 0s 2ms/step - loss: 0.0942 - accuracy: 0.9780\n",
            "Epoch 30/250\n",
            "32/32 [==============================] - 0s 2ms/step - loss: 0.0816 - accuracy: 0.9820\n",
            "Epoch 31/250\n",
            "32/32 [==============================] - 0s 2ms/step - loss: 0.0743 - accuracy: 0.9880\n",
            "Epoch 32/250\n",
            "32/32 [==============================] - 0s 2ms/step - loss: 0.0772 - accuracy: 0.9830\n",
            "Epoch 33/250\n",
            "32/32 [==============================] - 0s 2ms/step - loss: 0.0827 - accuracy: 0.9850\n",
            "Epoch 34/250\n",
            "32/32 [==============================] - 0s 2ms/step - loss: 0.0696 - accuracy: 0.9910\n",
            "Epoch 35/250\n",
            "32/32 [==============================] - 0s 2ms/step - loss: 0.0643 - accuracy: 0.9910\n",
            "Epoch 36/250\n",
            "32/32 [==============================] - 0s 2ms/step - loss: 0.0696 - accuracy: 0.9840\n",
            "Epoch 37/250\n",
            "32/32 [==============================] - 0s 2ms/step - loss: 0.0650 - accuracy: 0.9880\n",
            "Epoch 38/250\n",
            "32/32 [==============================] - 0s 2ms/step - loss: 0.0587 - accuracy: 0.9880\n",
            "Epoch 39/250\n",
            "32/32 [==============================] - 0s 2ms/step - loss: 0.0682 - accuracy: 0.9820\n",
            "Epoch 40/250\n",
            "32/32 [==============================] - 0s 2ms/step - loss: 0.0544 - accuracy: 0.9920\n",
            "Epoch 41/250\n",
            "32/32 [==============================] - 0s 2ms/step - loss: 0.0605 - accuracy: 0.9870\n",
            "Epoch 42/250\n",
            "32/32 [==============================] - 0s 2ms/step - loss: 0.0571 - accuracy: 0.9860\n",
            "Epoch 43/250\n",
            "32/32 [==============================] - 0s 2ms/step - loss: 0.0590 - accuracy: 0.9850\n",
            "Epoch 44/250\n",
            "32/32 [==============================] - 0s 2ms/step - loss: 0.0545 - accuracy: 0.9870\n",
            "Epoch 45/250\n",
            "32/32 [==============================] - 0s 2ms/step - loss: 0.0522 - accuracy: 0.9910\n",
            "Epoch 46/250\n",
            "32/32 [==============================] - 0s 2ms/step - loss: 0.0524 - accuracy: 0.9880\n",
            "Epoch 47/250\n",
            "32/32 [==============================] - 0s 2ms/step - loss: 0.0492 - accuracy: 0.9920\n",
            "Epoch 48/250\n",
            "32/32 [==============================] - 0s 2ms/step - loss: 0.0514 - accuracy: 0.9890\n",
            "Epoch 49/250\n",
            "32/32 [==============================] - 0s 2ms/step - loss: 0.0509 - accuracy: 0.9900\n",
            "Epoch 50/250\n",
            "32/32 [==============================] - 0s 2ms/step - loss: 0.0658 - accuracy: 0.9770\n",
            "Epoch 51/250\n",
            "32/32 [==============================] - 0s 2ms/step - loss: 0.0502 - accuracy: 0.9880\n",
            "Epoch 52/250\n",
            "32/32 [==============================] - 0s 2ms/step - loss: 0.0431 - accuracy: 0.9900\n",
            "Epoch 53/250\n",
            "32/32 [==============================] - 0s 2ms/step - loss: 0.0476 - accuracy: 0.9850\n",
            "Epoch 54/250\n",
            "32/32 [==============================] - 0s 2ms/step - loss: 0.0469 - accuracy: 0.9900\n",
            "Epoch 55/250\n",
            "32/32 [==============================] - 0s 2ms/step - loss: 0.0437 - accuracy: 0.9900\n",
            "Epoch 56/250\n",
            "32/32 [==============================] - 0s 2ms/step - loss: 0.0453 - accuracy: 0.9920\n",
            "Epoch 57/250\n",
            "32/32 [==============================] - 0s 2ms/step - loss: 0.0442 - accuracy: 0.9860\n",
            "Epoch 58/250\n",
            "32/32 [==============================] - 0s 2ms/step - loss: 0.0430 - accuracy: 0.9910\n",
            "Epoch 59/250\n",
            "32/32 [==============================] - 0s 2ms/step - loss: 0.0455 - accuracy: 0.9890\n",
            "Epoch 60/250\n",
            "32/32 [==============================] - 0s 2ms/step - loss: 0.0397 - accuracy: 0.9910\n",
            "Epoch 61/250\n",
            "32/32 [==============================] - 0s 2ms/step - loss: 0.0569 - accuracy: 0.9830\n",
            "Epoch 62/250\n",
            "32/32 [==============================] - 0s 2ms/step - loss: 0.0460 - accuracy: 0.9860\n",
            "Epoch 63/250\n",
            "32/32 [==============================] - 0s 2ms/step - loss: 0.0366 - accuracy: 0.9920\n",
            "Epoch 64/250\n",
            "32/32 [==============================] - 0s 2ms/step - loss: 0.0398 - accuracy: 0.9910\n",
            "Epoch 65/250\n",
            "32/32 [==============================] - 0s 2ms/step - loss: 0.0453 - accuracy: 0.9880\n",
            "Epoch 66/250\n",
            "32/32 [==============================] - 0s 2ms/step - loss: 0.0481 - accuracy: 0.9830\n",
            "Epoch 67/250\n",
            "32/32 [==============================] - 0s 2ms/step - loss: 0.0374 - accuracy: 0.9910\n",
            "Epoch 68/250\n",
            "32/32 [==============================] - 0s 2ms/step - loss: 0.0337 - accuracy: 0.9920\n",
            "Epoch 69/250\n",
            "32/32 [==============================] - 0s 2ms/step - loss: 0.0353 - accuracy: 0.9930\n",
            "Epoch 70/250\n",
            "32/32 [==============================] - 0s 2ms/step - loss: 0.0561 - accuracy: 0.9830\n",
            "Epoch 71/250\n",
            "32/32 [==============================] - 0s 2ms/step - loss: 0.0363 - accuracy: 0.9920\n",
            "Epoch 72/250\n",
            "32/32 [==============================] - 0s 2ms/step - loss: 0.0380 - accuracy: 0.9900\n",
            "Epoch 73/250\n",
            "32/32 [==============================] - 0s 2ms/step - loss: 0.0382 - accuracy: 0.9860\n",
            "Epoch 74/250\n",
            "32/32 [==============================] - 0s 2ms/step - loss: 0.0334 - accuracy: 0.9910\n",
            "Epoch 75/250\n",
            "32/32 [==============================] - 0s 2ms/step - loss: 0.0340 - accuracy: 0.9910\n",
            "Epoch 76/250\n",
            "32/32 [==============================] - 0s 2ms/step - loss: 0.0419 - accuracy: 0.9890\n",
            "Epoch 77/250\n",
            "32/32 [==============================] - 0s 2ms/step - loss: 0.0345 - accuracy: 0.9920\n",
            "Epoch 78/250\n",
            "32/32 [==============================] - 0s 2ms/step - loss: 0.0430 - accuracy: 0.9870\n",
            "Epoch 79/250\n",
            "32/32 [==============================] - 0s 2ms/step - loss: 0.0412 - accuracy: 0.9890\n",
            "Epoch 80/250\n",
            "32/32 [==============================] - 0s 2ms/step - loss: 0.0369 - accuracy: 0.9880\n",
            "Epoch 81/250\n",
            "32/32 [==============================] - 0s 2ms/step - loss: 0.0342 - accuracy: 0.9910\n",
            "Epoch 82/250\n",
            "32/32 [==============================] - 0s 2ms/step - loss: 0.0317 - accuracy: 0.9910\n",
            "Epoch 83/250\n",
            "32/32 [==============================] - 0s 2ms/step - loss: 0.0534 - accuracy: 0.9790\n",
            "Epoch 84/250\n",
            "32/32 [==============================] - 0s 2ms/step - loss: 0.0293 - accuracy: 0.9940\n",
            "Epoch 85/250\n",
            "32/32 [==============================] - 0s 2ms/step - loss: 0.0328 - accuracy: 0.9930\n",
            "Epoch 86/250\n",
            "32/32 [==============================] - 0s 2ms/step - loss: 0.0325 - accuracy: 0.9890\n",
            "Epoch 87/250\n",
            "32/32 [==============================] - 0s 2ms/step - loss: 0.0378 - accuracy: 0.9880\n",
            "Epoch 88/250\n",
            "32/32 [==============================] - 0s 2ms/step - loss: 0.0337 - accuracy: 0.9890\n",
            "Epoch 89/250\n",
            "32/32 [==============================] - 0s 2ms/step - loss: 0.0379 - accuracy: 0.9860\n",
            "Epoch 90/250\n",
            "32/32 [==============================] - 0s 2ms/step - loss: 0.0338 - accuracy: 0.9930\n",
            "Epoch 91/250\n",
            "32/32 [==============================] - 0s 2ms/step - loss: 0.0360 - accuracy: 0.9820\n",
            "Epoch 92/250\n",
            "32/32 [==============================] - 0s 2ms/step - loss: 0.0392 - accuracy: 0.9850\n",
            "Epoch 93/250\n",
            "32/32 [==============================] - 0s 2ms/step - loss: 0.0287 - accuracy: 0.9920\n",
            "Epoch 94/250\n",
            "32/32 [==============================] - 0s 2ms/step - loss: 0.0302 - accuracy: 0.9930\n",
            "Epoch 95/250\n",
            "32/32 [==============================] - 0s 2ms/step - loss: 0.0336 - accuracy: 0.9900\n",
            "Epoch 96/250\n",
            "32/32 [==============================] - 0s 2ms/step - loss: 0.0319 - accuracy: 0.9910\n",
            "Epoch 97/250\n",
            "32/32 [==============================] - 0s 2ms/step - loss: 0.0631 - accuracy: 0.9780\n",
            "Epoch 98/250\n",
            "32/32 [==============================] - 0s 2ms/step - loss: 0.0449 - accuracy: 0.9830\n",
            "Epoch 99/250\n",
            "32/32 [==============================] - 0s 2ms/step - loss: 0.0319 - accuracy: 0.9900\n",
            "Epoch 100/250\n",
            "32/32 [==============================] - 0s 2ms/step - loss: 0.0321 - accuracy: 0.9860\n",
            "Epoch 101/250\n",
            "32/32 [==============================] - 0s 2ms/step - loss: 0.0298 - accuracy: 0.9900\n",
            "Epoch 102/250\n",
            "32/32 [==============================] - 0s 2ms/step - loss: 0.0296 - accuracy: 0.9880\n",
            "Epoch 103/250\n",
            "32/32 [==============================] - 0s 2ms/step - loss: 0.0265 - accuracy: 0.9910\n",
            "Epoch 104/250\n",
            "32/32 [==============================] - 0s 2ms/step - loss: 0.0281 - accuracy: 0.9880\n",
            "Epoch 105/250\n",
            "32/32 [==============================] - 0s 2ms/step - loss: 0.0272 - accuracy: 0.9910\n",
            "Epoch 106/250\n",
            "32/32 [==============================] - 0s 2ms/step - loss: 0.0288 - accuracy: 0.9920\n",
            "Epoch 107/250\n",
            "32/32 [==============================] - 0s 2ms/step - loss: 0.0293 - accuracy: 0.9900\n",
            "Epoch 108/250\n",
            "32/32 [==============================] - 0s 2ms/step - loss: 0.0326 - accuracy: 0.9910\n",
            "Epoch 109/250\n",
            "32/32 [==============================] - 0s 2ms/step - loss: 0.0316 - accuracy: 0.9880\n",
            "Epoch 110/250\n",
            "32/32 [==============================] - 0s 2ms/step - loss: 0.0316 - accuracy: 0.9910\n",
            "Epoch 111/250\n",
            "32/32 [==============================] - 0s 2ms/step - loss: 0.0251 - accuracy: 0.9930\n",
            "Epoch 112/250\n",
            "32/32 [==============================] - 0s 2ms/step - loss: 0.0349 - accuracy: 0.9880\n",
            "Epoch 113/250\n",
            "32/32 [==============================] - 0s 2ms/step - loss: 0.0346 - accuracy: 0.9890\n",
            "Epoch 114/250\n",
            "32/32 [==============================] - 0s 2ms/step - loss: 0.0352 - accuracy: 0.9880\n",
            "Epoch 115/250\n",
            "32/32 [==============================] - 0s 2ms/step - loss: 0.0422 - accuracy: 0.9780\n",
            "Epoch 116/250\n",
            "32/32 [==============================] - 0s 2ms/step - loss: 0.0303 - accuracy: 0.9910\n",
            "Epoch 117/250\n",
            "32/32 [==============================] - 0s 2ms/step - loss: 0.0254 - accuracy: 0.9930\n",
            "Epoch 118/250\n",
            "32/32 [==============================] - 0s 2ms/step - loss: 0.0257 - accuracy: 0.9920\n",
            "Epoch 119/250\n",
            "32/32 [==============================] - 0s 2ms/step - loss: 0.0313 - accuracy: 0.9900\n",
            "Epoch 120/250\n",
            "32/32 [==============================] - 0s 2ms/step - loss: 0.0331 - accuracy: 0.9860\n",
            "Epoch 121/250\n",
            "32/32 [==============================] - 0s 2ms/step - loss: 0.0245 - accuracy: 0.9950\n",
            "Epoch 122/250\n",
            "32/32 [==============================] - 0s 2ms/step - loss: 0.0357 - accuracy: 0.9860\n",
            "Epoch 123/250\n",
            "32/32 [==============================] - 0s 2ms/step - loss: 0.0325 - accuracy: 0.9880\n",
            "Epoch 124/250\n",
            "32/32 [==============================] - 0s 2ms/step - loss: 0.0298 - accuracy: 0.9920\n",
            "Epoch 125/250\n",
            "32/32 [==============================] - 0s 2ms/step - loss: 0.0275 - accuracy: 0.9920\n",
            "Epoch 126/250\n",
            "32/32 [==============================] - 0s 2ms/step - loss: 0.0290 - accuracy: 0.9900\n",
            "Epoch 127/250\n",
            "32/32 [==============================] - 0s 2ms/step - loss: 0.0248 - accuracy: 0.9960\n",
            "Epoch 128/250\n",
            "32/32 [==============================] - 0s 2ms/step - loss: 0.0263 - accuracy: 0.9940\n",
            "Epoch 129/250\n",
            "32/32 [==============================] - 0s 2ms/step - loss: 0.0270 - accuracy: 0.9890\n",
            "Epoch 130/250\n",
            "32/32 [==============================] - 0s 2ms/step - loss: 0.0274 - accuracy: 0.9950\n",
            "Epoch 131/250\n",
            "32/32 [==============================] - 0s 2ms/step - loss: 0.0322 - accuracy: 0.9880\n",
            "Epoch 132/250\n",
            "32/32 [==============================] - 0s 2ms/step - loss: 0.0471 - accuracy: 0.9820\n",
            "Epoch 133/250\n",
            "32/32 [==============================] - 0s 2ms/step - loss: 0.0271 - accuracy: 0.9890\n",
            "Epoch 134/250\n",
            "32/32 [==============================] - 0s 2ms/step - loss: 0.0324 - accuracy: 0.9880\n",
            "Epoch 135/250\n",
            "32/32 [==============================] - 0s 2ms/step - loss: 0.0285 - accuracy: 0.9880\n",
            "Epoch 136/250\n",
            "32/32 [==============================] - 0s 2ms/step - loss: 0.0274 - accuracy: 0.9870\n",
            "Epoch 137/250\n",
            "32/32 [==============================] - 0s 2ms/step - loss: 0.0260 - accuracy: 0.9900\n",
            "Epoch 138/250\n",
            "32/32 [==============================] - 0s 2ms/step - loss: 0.0292 - accuracy: 0.9890\n",
            "Epoch 139/250\n",
            "32/32 [==============================] - 0s 2ms/step - loss: 0.0252 - accuracy: 0.9910\n",
            "Epoch 140/250\n",
            "32/32 [==============================] - 0s 2ms/step - loss: 0.0304 - accuracy: 0.9890\n",
            "Epoch 141/250\n",
            "32/32 [==============================] - 0s 2ms/step - loss: 0.0326 - accuracy: 0.9880\n",
            "Epoch 142/250\n",
            "32/32 [==============================] - 0s 2ms/step - loss: 0.0301 - accuracy: 0.9880\n",
            "Epoch 143/250\n",
            "32/32 [==============================] - 0s 2ms/step - loss: 0.0298 - accuracy: 0.9870\n",
            "Epoch 144/250\n",
            "32/32 [==============================] - 0s 2ms/step - loss: 0.0225 - accuracy: 0.9930\n",
            "Epoch 145/250\n",
            "32/32 [==============================] - 0s 2ms/step - loss: 0.0231 - accuracy: 0.9900\n",
            "Epoch 146/250\n",
            "32/32 [==============================] - 0s 2ms/step - loss: 0.0240 - accuracy: 0.9920\n",
            "Epoch 147/250\n",
            "32/32 [==============================] - 0s 2ms/step - loss: 0.0264 - accuracy: 0.9900\n",
            "Epoch 148/250\n",
            "32/32 [==============================] - 0s 2ms/step - loss: 0.0288 - accuracy: 0.9920\n",
            "Epoch 149/250\n",
            "32/32 [==============================] - 0s 2ms/step - loss: 0.0218 - accuracy: 0.9960\n",
            "Epoch 150/250\n",
            "32/32 [==============================] - 0s 2ms/step - loss: 0.0360 - accuracy: 0.9860\n",
            "Epoch 151/250\n",
            "32/32 [==============================] - 0s 2ms/step - loss: 0.0300 - accuracy: 0.9880\n",
            "Epoch 152/250\n",
            "32/32 [==============================] - 0s 2ms/step - loss: 0.0426 - accuracy: 0.9820\n",
            "Epoch 153/250\n",
            "32/32 [==============================] - 0s 2ms/step - loss: 0.0339 - accuracy: 0.9860\n",
            "Epoch 154/250\n",
            "32/32 [==============================] - 0s 2ms/step - loss: 0.0231 - accuracy: 0.9900\n",
            "Epoch 155/250\n",
            "32/32 [==============================] - 0s 2ms/step - loss: 0.0333 - accuracy: 0.9870\n",
            "Epoch 156/250\n",
            "32/32 [==============================] - 0s 2ms/step - loss: 0.0280 - accuracy: 0.9880\n",
            "Epoch 157/250\n",
            "32/32 [==============================] - 0s 2ms/step - loss: 0.0268 - accuracy: 0.9910\n",
            "Epoch 158/250\n",
            "32/32 [==============================] - 0s 2ms/step - loss: 0.0282 - accuracy: 0.9920\n",
            "Epoch 159/250\n",
            "32/32 [==============================] - 0s 2ms/step - loss: 0.0288 - accuracy: 0.9890\n",
            "Epoch 160/250\n",
            "32/32 [==============================] - 0s 3ms/step - loss: 0.0334 - accuracy: 0.9870\n",
            "Epoch 161/250\n",
            "32/32 [==============================] - 0s 2ms/step - loss: 0.0408 - accuracy: 0.9810\n",
            "Epoch 162/250\n",
            "32/32 [==============================] - 0s 2ms/step - loss: 0.0277 - accuracy: 0.9880\n",
            "Epoch 163/250\n",
            "32/32 [==============================] - 0s 2ms/step - loss: 0.0327 - accuracy: 0.9880\n",
            "Epoch 164/250\n",
            "32/32 [==============================] - 0s 2ms/step - loss: 0.0265 - accuracy: 0.9920\n",
            "Epoch 165/250\n",
            "32/32 [==============================] - 0s 2ms/step - loss: 0.0281 - accuracy: 0.9890\n",
            "Epoch 166/250\n",
            "32/32 [==============================] - 0s 2ms/step - loss: 0.0298 - accuracy: 0.9910\n",
            "Epoch 167/250\n",
            "32/32 [==============================] - 0s 2ms/step - loss: 0.0218 - accuracy: 0.9940\n",
            "Epoch 168/250\n",
            "32/32 [==============================] - 0s 2ms/step - loss: 0.0237 - accuracy: 0.9940\n",
            "Epoch 169/250\n",
            "32/32 [==============================] - 0s 2ms/step - loss: 0.0259 - accuracy: 0.9940\n",
            "Epoch 170/250\n",
            "32/32 [==============================] - 0s 2ms/step - loss: 0.0272 - accuracy: 0.9890\n",
            "Epoch 171/250\n",
            "32/32 [==============================] - 0s 2ms/step - loss: 0.0267 - accuracy: 0.9870\n",
            "Epoch 172/250\n",
            "32/32 [==============================] - 0s 2ms/step - loss: 0.0295 - accuracy: 0.9870\n",
            "Epoch 173/250\n",
            "32/32 [==============================] - 0s 2ms/step - loss: 0.0354 - accuracy: 0.9880\n",
            "Epoch 174/250\n",
            "32/32 [==============================] - 0s 2ms/step - loss: 0.0220 - accuracy: 0.9910\n",
            "Epoch 175/250\n",
            "32/32 [==============================] - 0s 2ms/step - loss: 0.0276 - accuracy: 0.9890\n",
            "Epoch 176/250\n",
            "32/32 [==============================] - 0s 2ms/step - loss: 0.0253 - accuracy: 0.9900\n",
            "Epoch 177/250\n",
            "32/32 [==============================] - 0s 2ms/step - loss: 0.0258 - accuracy: 0.9880\n",
            "Epoch 178/250\n",
            "32/32 [==============================] - 0s 2ms/step - loss: 0.0240 - accuracy: 0.9910\n",
            "Epoch 179/250\n",
            "32/32 [==============================] - 0s 2ms/step - loss: 0.0346 - accuracy: 0.9890\n",
            "Epoch 180/250\n",
            "32/32 [==============================] - 0s 3ms/step - loss: 0.0327 - accuracy: 0.9870\n",
            "Epoch 181/250\n",
            "32/32 [==============================] - 0s 2ms/step - loss: 0.0277 - accuracy: 0.9870\n",
            "Epoch 182/250\n",
            "32/32 [==============================] - 0s 2ms/step - loss: 0.0302 - accuracy: 0.9890\n",
            "Epoch 183/250\n",
            "32/32 [==============================] - 0s 2ms/step - loss: 0.0348 - accuracy: 0.9840\n",
            "Epoch 184/250\n",
            "32/32 [==============================] - 0s 2ms/step - loss: 0.0288 - accuracy: 0.9920\n",
            "Epoch 185/250\n",
            "32/32 [==============================] - 0s 2ms/step - loss: 0.0284 - accuracy: 0.9890\n",
            "Epoch 186/250\n",
            "32/32 [==============================] - 0s 2ms/step - loss: 0.0249 - accuracy: 0.9890\n",
            "Epoch 187/250\n",
            "32/32 [==============================] - 0s 2ms/step - loss: 0.0306 - accuracy: 0.9900\n",
            "Epoch 188/250\n",
            "32/32 [==============================] - 0s 2ms/step - loss: 0.0436 - accuracy: 0.9840\n",
            "Epoch 189/250\n",
            "32/32 [==============================] - 0s 2ms/step - loss: 0.0532 - accuracy: 0.9820\n",
            "Epoch 190/250\n",
            "32/32 [==============================] - 0s 2ms/step - loss: 0.0496 - accuracy: 0.9800\n",
            "Epoch 191/250\n",
            "32/32 [==============================] - 0s 2ms/step - loss: 0.0275 - accuracy: 0.9920\n",
            "Epoch 192/250\n",
            "32/32 [==============================] - 0s 2ms/step - loss: 0.0246 - accuracy: 0.9890\n",
            "Epoch 193/250\n",
            "32/32 [==============================] - 0s 2ms/step - loss: 0.0224 - accuracy: 0.9920\n",
            "Epoch 194/250\n",
            "32/32 [==============================] - 0s 3ms/step - loss: 0.0332 - accuracy: 0.9890\n",
            "Epoch 195/250\n",
            "32/32 [==============================] - 0s 2ms/step - loss: 0.0265 - accuracy: 0.9880\n",
            "Epoch 196/250\n",
            "32/32 [==============================] - 0s 2ms/step - loss: 0.0306 - accuracy: 0.9910\n",
            "Epoch 197/250\n",
            "32/32 [==============================] - 0s 2ms/step - loss: 0.0297 - accuracy: 0.9870\n",
            "Epoch 198/250\n",
            "32/32 [==============================] - 0s 2ms/step - loss: 0.0324 - accuracy: 0.9870\n",
            "Epoch 199/250\n",
            "32/32 [==============================] - 0s 2ms/step - loss: 0.0275 - accuracy: 0.9900\n",
            "Epoch 200/250\n",
            "32/32 [==============================] - 0s 2ms/step - loss: 0.0264 - accuracy: 0.9910\n",
            "Epoch 201/250\n",
            "32/32 [==============================] - 0s 2ms/step - loss: 0.0341 - accuracy: 0.9850\n",
            "Epoch 202/250\n",
            "32/32 [==============================] - 0s 3ms/step - loss: 0.0274 - accuracy: 0.9940\n",
            "Epoch 203/250\n",
            "32/32 [==============================] - 0s 2ms/step - loss: 0.0195 - accuracy: 0.9940\n",
            "Epoch 204/250\n",
            "32/32 [==============================] - 0s 2ms/step - loss: 0.0350 - accuracy: 0.9870\n",
            "Epoch 205/250\n",
            "32/32 [==============================] - 0s 2ms/step - loss: 0.0374 - accuracy: 0.9870\n",
            "Epoch 206/250\n",
            "32/32 [==============================] - 0s 2ms/step - loss: 0.0450 - accuracy: 0.9840\n",
            "Epoch 207/250\n",
            "32/32 [==============================] - 0s 2ms/step - loss: 0.0299 - accuracy: 0.9870\n",
            "Epoch 208/250\n",
            "32/32 [==============================] - 0s 2ms/step - loss: 0.0339 - accuracy: 0.9890\n",
            "Epoch 209/250\n",
            "32/32 [==============================] - 0s 2ms/step - loss: 0.0265 - accuracy: 0.9900\n",
            "Epoch 210/250\n",
            "32/32 [==============================] - 0s 2ms/step - loss: 0.0259 - accuracy: 0.9910\n",
            "Epoch 211/250\n",
            "32/32 [==============================] - 0s 2ms/step - loss: 0.0285 - accuracy: 0.9900\n",
            "Epoch 212/250\n",
            "32/32 [==============================] - 0s 2ms/step - loss: 0.0511 - accuracy: 0.9780\n",
            "Epoch 213/250\n",
            "32/32 [==============================] - 0s 2ms/step - loss: 0.0418 - accuracy: 0.9860\n",
            "Epoch 214/250\n",
            "32/32 [==============================] - 0s 2ms/step - loss: 0.0241 - accuracy: 0.9890\n",
            "Epoch 215/250\n",
            "32/32 [==============================] - 0s 2ms/step - loss: 0.0232 - accuracy: 0.9900\n",
            "Epoch 216/250\n",
            "32/32 [==============================] - 0s 2ms/step - loss: 0.0249 - accuracy: 0.9890\n",
            "Epoch 217/250\n",
            "32/32 [==============================] - 0s 2ms/step - loss: 0.0252 - accuracy: 0.9910\n",
            "Epoch 218/250\n",
            "32/32 [==============================] - 0s 2ms/step - loss: 0.0230 - accuracy: 0.9920\n",
            "Epoch 219/250\n",
            "32/32 [==============================] - 0s 2ms/step - loss: 0.0295 - accuracy: 0.9850\n",
            "Epoch 220/250\n",
            "32/32 [==============================] - 0s 2ms/step - loss: 0.0370 - accuracy: 0.9840\n",
            "Epoch 221/250\n",
            "32/32 [==============================] - 0s 2ms/step - loss: 0.0313 - accuracy: 0.9890\n",
            "Epoch 222/250\n",
            "32/32 [==============================] - 0s 2ms/step - loss: 0.0235 - accuracy: 0.9900\n",
            "Epoch 223/250\n",
            "32/32 [==============================] - 0s 2ms/step - loss: 0.0222 - accuracy: 0.9920\n",
            "Epoch 224/250\n",
            "32/32 [==============================] - 0s 2ms/step - loss: 0.0257 - accuracy: 0.9870\n",
            "Epoch 225/250\n",
            "32/32 [==============================] - 0s 2ms/step - loss: 0.0257 - accuracy: 0.9920\n",
            "Epoch 226/250\n",
            "32/32 [==============================] - 0s 2ms/step - loss: 0.0205 - accuracy: 0.9950\n",
            "Epoch 227/250\n",
            "32/32 [==============================] - 0s 2ms/step - loss: 0.0233 - accuracy: 0.9890\n",
            "Epoch 228/250\n",
            "32/32 [==============================] - 0s 2ms/step - loss: 0.0255 - accuracy: 0.9900\n",
            "Epoch 229/250\n",
            "32/32 [==============================] - 0s 2ms/step - loss: 0.0241 - accuracy: 0.9860\n",
            "Epoch 230/250\n",
            "32/32 [==============================] - 0s 2ms/step - loss: 0.0216 - accuracy: 0.9920\n",
            "Epoch 231/250\n",
            "32/32 [==============================] - 0s 2ms/step - loss: 0.0272 - accuracy: 0.9890\n",
            "Epoch 232/250\n",
            "32/32 [==============================] - 0s 2ms/step - loss: 0.0256 - accuracy: 0.9880\n",
            "Epoch 233/250\n",
            "32/32 [==============================] - 0s 2ms/step - loss: 0.0213 - accuracy: 0.9920\n",
            "Epoch 234/250\n",
            "32/32 [==============================] - 0s 2ms/step - loss: 0.0318 - accuracy: 0.9870\n",
            "Epoch 235/250\n",
            "32/32 [==============================] - 0s 2ms/step - loss: 0.0354 - accuracy: 0.9900\n",
            "Epoch 236/250\n",
            "32/32 [==============================] - 0s 2ms/step - loss: 0.0332 - accuracy: 0.9890\n",
            "Epoch 237/250\n",
            "32/32 [==============================] - 0s 2ms/step - loss: 0.0244 - accuracy: 0.9900\n",
            "Epoch 238/250\n",
            "32/32 [==============================] - 0s 2ms/step - loss: 0.0251 - accuracy: 0.9880\n",
            "Epoch 239/250\n",
            "32/32 [==============================] - 0s 2ms/step - loss: 0.0389 - accuracy: 0.9850\n",
            "Epoch 240/250\n",
            "32/32 [==============================] - 0s 2ms/step - loss: 0.0316 - accuracy: 0.9840\n",
            "Epoch 241/250\n",
            "32/32 [==============================] - 0s 2ms/step - loss: 0.0351 - accuracy: 0.9880\n",
            "Epoch 242/250\n",
            "32/32 [==============================] - 0s 2ms/step - loss: 0.0246 - accuracy: 0.9930\n",
            "Epoch 243/250\n",
            "32/32 [==============================] - 0s 2ms/step - loss: 0.0479 - accuracy: 0.9790\n",
            "Epoch 244/250\n",
            "32/32 [==============================] - 0s 2ms/step - loss: 0.0397 - accuracy: 0.9850\n",
            "Epoch 245/250\n",
            "32/32 [==============================] - 0s 2ms/step - loss: 0.0346 - accuracy: 0.9860\n",
            "Epoch 246/250\n",
            "32/32 [==============================] - 0s 2ms/step - loss: 0.0276 - accuracy: 0.9890\n",
            "Epoch 247/250\n",
            "32/32 [==============================] - 0s 2ms/step - loss: 0.0214 - accuracy: 0.9920\n",
            "Epoch 248/250\n",
            "32/32 [==============================] - 0s 2ms/step - loss: 0.0182 - accuracy: 0.9940\n",
            "Epoch 249/250\n",
            "32/32 [==============================] - 0s 2ms/step - loss: 0.0186 - accuracy: 0.9970\n",
            "Epoch 250/250\n",
            "32/32 [==============================] - 0s 2ms/step - loss: 0.0281 - accuracy: 0.9880\n"
          ]
        },
        {
          "output_type": "execute_result",
          "data": {
            "text/plain": [
              "<keras.callbacks.History at 0x7f29b8be0390>"
            ]
          },
          "metadata": {},
          "execution_count": 33
        }
      ]
    },
    {
      "cell_type": "code",
      "source": [
        "model_7.evaluate(X,y)"
      ],
      "metadata": {
        "colab": {
          "base_uri": "https://localhost:8080/"
        },
        "collapsed": true,
        "id": "b54qtbIcakUM",
        "outputId": "3433f9b1-982b-4014-9b0c-6f966c9bc80a"
      },
      "execution_count": null,
      "outputs": [
        {
          "output_type": "stream",
          "name": "stdout",
          "text": [
            "32/32 [==============================] - 0s 1ms/step - loss: 0.0189 - accuracy: 0.9950\n"
          ]
        },
        {
          "output_type": "execute_result",
          "data": {
            "text/plain": [
              "[0.018935203552246094, 0.9950000047683716]"
            ]
          },
          "metadata": {},
          "execution_count": 34
        }
      ]
    },
    {
      "cell_type": "code",
      "source": [
        "plot_decision_boundry(model = model_7, \n",
        "                      X=X,\n",
        "                      y=y)"
      ],
      "metadata": {
        "colab": {
          "base_uri": "https://localhost:8080/"
        },
        "id": "4dI5Tbqqamie",
        "outputId": "48e8e338-f00c-499b-f154-248e844b2c20"
      },
      "execution_count": null,
      "outputs": [
        {
          "output_type": "stream",
          "name": "stdout",
          "text": [
            "doing binary classification\n"
          ]
        },
        {
          "output_type": "display_data",
          "data": {
            "image/png": "[encoded data removed]",
            "text/plain": [
              "<Figure size 432x288 with 1 Axes>"
            ]
          },
          "metadata": {
            "needs_background": "light"
          }
        }
      ]
    },
    {
      "cell_type": "markdown",
      "source": [
        "The combination of linear and non-linear is one of the key fundementals of neural networks "
      ],
      "metadata": {
        "id": "3nNQqxGAbIt0"
      }
    },
    {
      "cell_type": "code",
      "source": [
        "# Create a toy tensor (similar to the data we pass into our model)\n",
        "\n",
        "A = tf.cast(tf.range(-10,10), tf.float32)\n",
        "A"
      ],
      "metadata": {
        "colab": {
          "base_uri": "https://localhost:8080/"
        },
        "collapsed": true,
        "id": "zfAQKj2cbbYF",
        "outputId": "9cb6776a-0e7b-4afc-d17e-b82b3c549bee"
      },
      "execution_count": null,
      "outputs": [
        {
          "output_type": "execute_result",
          "data": {
            "text/plain": [
              "<tf.Tensor: shape=(20,), dtype=float32, numpy=\n",
              "array([-10.,  -9.,  -8.,  -7.,  -6.,  -5.,  -4.,  -3.,  -2.,  -1.,   0.,\n",
              "         1.,   2.,   3.,   4.,   5.,   6.,   7.,   8.,   9.],\n",
              "      dtype=float32)>"
            ]
          },
          "metadata": {},
          "execution_count": 36
        }
      ]
    },
    {
      "cell_type": "code",
      "source": [
        "plt.plot(A)"
      ],
      "metadata": {
        "colab": {
          "base_uri": "https://localhost:8080/"
        },
        "id": "yRyaEtPpcJ9d",
        "outputId": "b13c368d-9b53-4698-e4dc-19b51154d5d2"
      },
      "execution_count": null,
      "outputs": [
        {
          "output_type": "execute_result",
          "data": {
            "text/plain": [
              "[<matplotlib.lines.Line2D at 0x7f29b8994750>]"
            ]
          },
          "metadata": {},
          "execution_count": 37
        },
        {
          "output_type": "display_data",
          "data": {
            "image/png": "[encoded data removed]",
            "text/plain": [
              "<Figure size 432x288 with 1 Axes>"
            ]
          },
          "metadata": {
            "needs_background": "light"
          }
        }
      ]
    },
    {
      "cell_type": "markdown",
      "source": [
        "###Sigmoid"
      ],
      "metadata": {
        "id": "9URa3as6eAj_"
      }
    },
    {
      "cell_type": "code",
      "source": [
        "# Lets start by replicating sigmoid\n",
        "\n",
        "def sigmoid(x):\n",
        "  return (1/(1+tf.exp(-x)))\n",
        "\n",
        "\n",
        "# Use the function on the toy tensor \n",
        "\n",
        "sigmoid(A)"
      ],
      "metadata": {
        "colab": {
          "base_uri": "https://localhost:8080/"
        },
        "collapsed": true,
        "id": "JKcC6QthcRf1",
        "outputId": "67944b8c-c89f-4ea8-d596-e71996734ff5"
      },
      "execution_count": null,
      "outputs": [
        {
          "output_type": "execute_result",
          "data": {
            "text/plain": [
              "<tf.Tensor: shape=(20,), dtype=float32, numpy=\n",
              "array([4.5397872e-05, 1.2339458e-04, 3.3535014e-04, 9.1105117e-04,\n",
              "       2.4726233e-03, 6.6928510e-03, 1.7986210e-02, 4.7425874e-02,\n",
              "       1.1920292e-01, 2.6894143e-01, 5.0000000e-01, 7.3105860e-01,\n",
              "       8.8079703e-01, 9.5257413e-01, 9.8201376e-01, 9.9330717e-01,\n",
              "       9.9752742e-01, 9.9908900e-01, 9.9966466e-01, 9.9987662e-01],\n",
              "      dtype=float32)>"
            ]
          },
          "metadata": {},
          "execution_count": 38
        }
      ]
    },
    {
      "cell_type": "code",
      "source": [
        "plt.plot(sigmoid(A))"
      ],
      "metadata": {
        "colab": {
          "base_uri": "https://localhost:8080/"
        },
        "id": "AkByOMnRc040",
        "outputId": "de6d4464-38e4-4cf0-fffa-cac67f39213c"
      },
      "execution_count": null,
      "outputs": [
        {
          "output_type": "execute_result",
          "data": {
            "text/plain": [
              "[<matplotlib.lines.Line2D at 0x7f29b89eabd0>]"
            ]
          },
          "metadata": {},
          "execution_count": 39
        },
        {
          "output_type": "display_data",
          "data": {
            "image/png": "[encoded data removed]",
            "text/plain": [
              "<Figure size 432x288 with 1 Axes>"
            ]
          },
          "metadata": {
            "needs_background": "light"
          }
        }
      ]
    },
    {
      "cell_type": "markdown",
      "source": [
        "###Relu"
      ],
      "metadata": {
        "id": "6tLgP97jd8KD"
      }
    },
    {
      "cell_type": "code",
      "source": [
        "def relu(x):\n",
        "  return (tf.maximum(0,x))"
      ],
      "metadata": {
        "id": "OBmzq-QidDZF"
      },
      "execution_count": null,
      "outputs": []
    },
    {
      "cell_type": "code",
      "source": [
        "relu(A)"
      ],
      "metadata": {
        "colab": {
          "base_uri": "https://localhost:8080/"
        },
        "collapsed": true,
        "id": "WpDhV-tTdTjE",
        "outputId": "16d32652-9a4c-40af-ace9-c5ae98366411"
      },
      "execution_count": null,
      "outputs": [
        {
          "output_type": "execute_result",
          "data": {
            "text/plain": [
              "<tf.Tensor: shape=(20,), dtype=float32, numpy=\n",
              "array([0., 0., 0., 0., 0., 0., 0., 0., 0., 0., 0., 1., 2., 3., 4., 5., 6.,\n",
              "       7., 8., 9.], dtype=float32)>"
            ]
          },
          "metadata": {},
          "execution_count": 41
        }
      ]
    },
    {
      "cell_type": "code",
      "source": [
        "plt.plot(relu(A))"
      ],
      "metadata": {
        "colab": {
          "base_uri": "https://localhost:8080/"
        },
        "id": "BWHW6FDvdjI9",
        "outputId": "9027599c-3c87-44b7-aa99-327187239d2e"
      },
      "execution_count": null,
      "outputs": [
        {
          "output_type": "execute_result",
          "data": {
            "text/plain": [
              "[<matplotlib.lines.Line2D at 0x7f29b87d3e50>]"
            ]
          },
          "metadata": {},
          "execution_count": 42
        },
        {
          "output_type": "display_data",
          "data": {
            "image/png": "[encoded data removed]",
            "text/plain": [
              "<Figure size 432x288 with 1 Axes>"
            ]
          },
          "metadata": {
            "needs_background": "light"
          }
        }
      ]
    },
    {
      "cell_type": "markdown",
      "source": [
        "### Linear Activation function "
      ],
      "metadata": {
        "id": "2THjCqT6eEMs"
      }
    },
    {
      "cell_type": "code",
      "source": [
        "tf.keras.activations.linear(A)"
      ],
      "metadata": {
        "colab": {
          "base_uri": "https://localhost:8080/"
        },
        "collapsed": true,
        "id": "d6ZnSfGneKat",
        "outputId": "63563ec5-d3c4-48e6-a379-7297fd176d33"
      },
      "execution_count": null,
      "outputs": [
        {
          "output_type": "execute_result",
          "data": {
            "text/plain": [
              "<tf.Tensor: shape=(20,), dtype=float32, numpy=\n",
              "array([-10.,  -9.,  -8.,  -7.,  -6.,  -5.,  -4.,  -3.,  -2.,  -1.,   0.,\n",
              "         1.,   2.,   3.,   4.,   5.,   6.,   7.,   8.,   9.],\n",
              "      dtype=float32)>"
            ]
          },
          "metadata": {},
          "execution_count": 43
        }
      ]
    },
    {
      "cell_type": "code",
      "source": [
        "plt.plot(tf.keras.activations.linear(A))"
      ],
      "metadata": {
        "colab": {
          "base_uri": "https://localhost:8080/"
        },
        "collapsed": true,
        "id": "UrFGJBqyeUjM",
        "outputId": "4eee7934-a331-4553-bc00-c64efd1e8c7c"
      },
      "execution_count": null,
      "outputs": [
        {
          "output_type": "execute_result",
          "data": {
            "text/plain": [
              "[<matplotlib.lines.Line2D at 0x7f29b8742510>]"
            ]
          },
          "metadata": {},
          "execution_count": 44
        },
        {
          "output_type": "display_data",
          "data": {
            "image/png": "[encoded data removed]",
            "text/plain": [
              "<Figure size 432x288 with 1 Axes>"
            ]
          },
          "metadata": {
            "needs_background": "light"
          }
        }
      ]
    },
    {
      "cell_type": "code",
      "source": [
        "# The input doesnt change the value \n",
        "\n",
        "A == tf.keras.activations.linear(A)"
      ],
      "metadata": {
        "id": "nLDDgdTVehYk",
        "colab": {
          "base_uri": "https://localhost:8080/"
        },
        "outputId": "0c2cf5f1-aa24-4312-8f13-bef402def61c"
      },
      "execution_count": null,
      "outputs": [
        {
          "output_type": "execute_result",
          "data": {
            "text/plain": [
              "<tf.Tensor: shape=(20,), dtype=bool, numpy=\n",
              "array([ True,  True,  True,  True,  True,  True,  True,  True,  True,\n",
              "        True,  True,  True,  True,  True,  True,  True,  True,  True,\n",
              "        True,  True])>"
            ]
          },
          "metadata": {},
          "execution_count": 45
        }
      ]
    },
    {
      "cell_type": "markdown",
      "source": [
        "##Evaluating and improving our classificationion\n",
        "\n",
        "In machine Learning its a sin to use the same dataset to train as well as test \n",
        "\n",
        "So lets create a test sets"
      ],
      "metadata": {
        "id": "sGfxm_s2fIzM"
      }
    },
    {
      "cell_type": "code",
      "source": [
        "#Split into train and test sets\n",
        "\n",
        "X_train, y_train = X[:800], y[:800]\n",
        "X_test, y_test = X[800:], y[800:]\n",
        "\n",
        "X_train.shape, X_test.shape, y_train.shape, y_test.shape"
      ],
      "metadata": {
        "colab": {
          "base_uri": "https://localhost:8080/"
        },
        "id": "DyykTNu-18ol",
        "outputId": "0a6e2832-6891-4368-a88b-12c6881872ab"
      },
      "execution_count": null,
      "outputs": [
        {
          "output_type": "execute_result",
          "data": {
            "text/plain": [
              "((800, 2), (200, 2), (800,), (200,))"
            ]
          },
          "metadata": {},
          "execution_count": 46
        }
      ]
    },
    {
      "cell_type": "code",
      "source": [
        "# Lets recreate the model to fit on the training data and evaluate using the test data \n",
        "\n",
        "# Set random seed\n",
        "tf.random.set_seed(42)\n",
        "\n",
        "#1. Create the model\n",
        "model_8 = tf.keras.Sequential([\n",
        "                               tf.keras.layers.Dense(4, activation = \"relu\"),\n",
        "                               tf.keras.layers.Dense(4, activation = \"relu\"),\n",
        "                               tf.keras.layers.Dense(1, activation = \"sigmoid\")\n",
        "])\n",
        "\n",
        "#2. Compile the model\n",
        "model_8.compile(loss = tf.keras.losses.BinaryCrossentropy(),\n",
        "                optimizer = tf.keras.optimizers.Adam(lr = 0.01),\n",
        "                metrics = [\"accuracy\"])\n",
        "\n",
        "history = model_8.fit(X_train,y_train, epochs = 25)"
      ],
      "metadata": {
        "colab": {
          "base_uri": "https://localhost:8080/"
        },
        "id": "A468IMXO31xz",
        "outputId": "79218bc8-7aea-4960-d698-742bfeaaf39a"
      },
      "execution_count": null,
      "outputs": [
        {
          "output_type": "stream",
          "name": "stderr",
          "text": [
            "/usr/local/lib/python3.7/dist-packages/keras/optimizer_v2/adam.py:105: UserWarning: The `lr` argument is deprecated, use `learning_rate` instead.\n",
            "  super(Adam, self).__init__(name, **kwargs)\n"
          ]
        },
        {
          "output_type": "stream",
          "name": "stdout",
          "text": [
            "Epoch 1/25\n",
            "25/25 [==============================] - 1s 2ms/step - loss: 0.6847 - accuracy: 0.5425\n",
            "Epoch 2/25\n",
            "25/25 [==============================] - 0s 2ms/step - loss: 0.6777 - accuracy: 0.5525\n",
            "Epoch 3/25\n",
            "25/25 [==============================] - 0s 2ms/step - loss: 0.6736 - accuracy: 0.5512\n",
            "Epoch 4/25\n",
            "25/25 [==============================] - 0s 2ms/step - loss: 0.6681 - accuracy: 0.5775\n",
            "Epoch 5/25\n",
            "25/25 [==============================] - 0s 2ms/step - loss: 0.6633 - accuracy: 0.5850\n",
            "Epoch 6/25\n",
            "25/25 [==============================] - 0s 2ms/step - loss: 0.6546 - accuracy: 0.5838\n",
            "Epoch 7/25\n",
            "25/25 [==============================] - 0s 2ms/step - loss: 0.6413 - accuracy: 0.6750\n",
            "Epoch 8/25\n",
            "25/25 [==============================] - 0s 2ms/step - loss: 0.6264 - accuracy: 0.7013\n",
            "Epoch 9/25\n",
            "25/25 [==============================] - 0s 2ms/step - loss: 0.6038 - accuracy: 0.7487\n",
            "Epoch 10/25\n",
            "25/25 [==============================] - 0s 2ms/step - loss: 0.5714 - accuracy: 0.7738\n",
            "Epoch 11/25\n",
            "25/25 [==============================] - 0s 2ms/step - loss: 0.5404 - accuracy: 0.7650\n",
            "Epoch 12/25\n",
            "25/25 [==============================] - 0s 2ms/step - loss: 0.5015 - accuracy: 0.7837\n",
            "Epoch 13/25\n",
            "25/25 [==============================] - 0s 2ms/step - loss: 0.4683 - accuracy: 0.7975\n",
            "Epoch 14/25\n",
            "25/25 [==============================] - 0s 2ms/step - loss: 0.4113 - accuracy: 0.8450\n",
            "Epoch 15/25\n",
            "25/25 [==============================] - 0s 2ms/step - loss: 0.3625 - accuracy: 0.9125\n",
            "Epoch 16/25\n",
            "25/25 [==============================] - 0s 2ms/step - loss: 0.3209 - accuracy: 0.9312\n",
            "Epoch 17/25\n",
            "25/25 [==============================] - 0s 2ms/step - loss: 0.2847 - accuracy: 0.9488\n",
            "Epoch 18/25\n",
            "25/25 [==============================] - 0s 2ms/step - loss: 0.2597 - accuracy: 0.9525\n",
            "Epoch 19/25\n",
            "25/25 [==============================] - 0s 2ms/step - loss: 0.2375 - accuracy: 0.9563\n",
            "Epoch 20/25\n",
            "25/25 [==============================] - 0s 2ms/step - loss: 0.2135 - accuracy: 0.9663\n",
            "Epoch 21/25\n",
            "25/25 [==============================] - 0s 2ms/step - loss: 0.1938 - accuracy: 0.9775\n",
            "Epoch 22/25\n",
            "25/25 [==============================] - 0s 2ms/step - loss: 0.1752 - accuracy: 0.9737\n",
            "Epoch 23/25\n",
            "25/25 [==============================] - 0s 2ms/step - loss: 0.1619 - accuracy: 0.9787\n",
            "Epoch 24/25\n",
            "25/25 [==============================] - 0s 2ms/step - loss: 0.1550 - accuracy: 0.9775\n",
            "Epoch 25/25\n",
            "25/25 [==============================] - 0s 3ms/step - loss: 0.1490 - accuracy: 0.9762\n"
          ]
        }
      ]
    },
    {
      "cell_type": "code",
      "source": [
        "model_8.evaluate(X_test, y_test)"
      ],
      "metadata": {
        "colab": {
          "base_uri": "https://localhost:8080/"
        },
        "id": "7UukllPp5lf5",
        "outputId": "9239eccc-ed5f-4eae-f3f4-3b3ce7e5326c"
      },
      "execution_count": null,
      "outputs": [
        {
          "output_type": "stream",
          "name": "stdout",
          "text": [
            "7/7 [==============================] - 0s 2ms/step - loss: 0.1247 - accuracy: 1.0000\n"
          ]
        },
        {
          "output_type": "execute_result",
          "data": {
            "text/plain": [
              "[0.1246885135769844, 1.0]"
            ]
          },
          "metadata": {},
          "execution_count": 48
        }
      ]
    },
    {
      "cell_type": "code",
      "source": [
        "plt.figure(figsize = (12,6))\n",
        "plt.subplot(1,2,1)\n",
        "plt.title(\"Train\" )\n",
        "plot_decision_boundry(model = model_8,\n",
        "                      X= X_train,\n",
        "                      y=y_train)\n",
        "\n",
        "plt.subplot(1,2,2)\n",
        "plt.title(\"Test Accuracy: \" + str(model_8.evaluate(X_test, y_test)[1]))\n",
        "plot_decision_boundry(model = model_8,\n",
        "                      X= X_test,\n",
        "                      y=y_test)\n",
        "plt.show()"
      ],
      "metadata": {
        "colab": {
          "base_uri": "https://localhost:8080/"
        },
        "id": "8mdpIabj5Pup",
        "outputId": "d57caae4-39e9-49a2-8cb2-9e60cb0e09d1"
      },
      "execution_count": null,
      "outputs": [
        {
          "output_type": "stream",
          "name": "stdout",
          "text": [
            "doing binary classification\n",
            "7/7 [==============================] - 0s 2ms/step - loss: 0.1247 - accuracy: 1.0000\n",
            "doing binary classification\n"
          ]
        },
        {
          "output_type": "display_data",
          "data": {
            "image/png": "[encoded data removed]",
            "text/plain": [
              "<Figure size 864x432 with 2 Axes>"
            ]
          },
          "metadata": {
            "needs_background": "light"
          }
        }
      ]
    },
    {
      "cell_type": "markdown",
      "source": [
        "## Plot the Loss (or training) curves ~(history.history)"
      ],
      "metadata": {
        "id": "yyRQOoa97MrC"
      }
    },
    {
      "cell_type": "code",
      "source": [
        "pd.DataFrame(history.history)"
      ],
      "metadata": {
        "colab": {
          "base_uri": "https://localhost:8080/"
        },
        "id": "XyZr7qkN7eJ5",
        "outputId": "a5f4419f-3a97-4847-8499-8b5954f42c3a"
      },
      "execution_count": null,
      "outputs": [
        {
          "output_type": "execute_result",
          "data": {
            "text/html": [
              "\n",
              "  <div id=\"df-b09cafe0-3c3b-40c0-bc1f-6959887d4071\">\n",
              "    <div class=\"colab-df-container\">\n",
              "      <div>\n",
              "<style scoped>\n",
              "    .dataframe tbody tr th:only-of-type {\n",
              "        vertical-align: middle;\n",
              "    }\n",
              "\n",
              "    .dataframe tbody tr th {\n",
              "        vertical-align: top;\n",
              "    }\n",
              "\n",
              "    .dataframe thead th {\n",
              "        text-align: right;\n",
              "    }\n",
              "</style>\n",
              "<table border=\"1\" class=\"dataframe\">\n",
              "  <thead>\n",
              "    <tr style=\"text-align: right;\">\n",
              "      <th></th>\n",
              "      <th>loss</th>\n",
              "      <th>accuracy</th>\n",
              "    </tr>\n",
              "  </thead>\n",
              "  <tbody>\n",
              "    <tr>\n",
              "      <th>0</th>\n",
              "      <td>0.684651</td>\n",
              "      <td>0.54250</td>\n",
              "    </tr>\n",
              "    <tr>\n",
              "      <th>1</th>\n",
              "      <td>0.677721</td>\n",
              "      <td>0.55250</td>\n",
              "    </tr>\n",
              "    <tr>\n",
              "      <th>2</th>\n",
              "      <td>0.673595</td>\n",
              "      <td>0.55125</td>\n",
              "    </tr>\n",
              "    <tr>\n",
              "      <th>3</th>\n",
              "      <td>0.668149</td>\n",
              "      <td>0.57750</td>\n",
              "    </tr>\n",
              "    <tr>\n",
              "      <th>4</th>\n",
              "      <td>0.663269</td>\n",
              "      <td>0.58500</td>\n",
              "    </tr>\n",
              "    <tr>\n",
              "      <th>5</th>\n",
              "      <td>0.654567</td>\n",
              "      <td>0.58375</td>\n",
              "    </tr>\n",
              "    <tr>\n",
              "      <th>6</th>\n",
              "      <td>0.641258</td>\n",
              "      <td>0.67500</td>\n",
              "    </tr>\n",
              "    <tr>\n",
              "      <th>7</th>\n",
              "      <td>0.626428</td>\n",
              "      <td>0.70125</td>\n",
              "    </tr>\n",
              "    <tr>\n",
              "      <th>8</th>\n",
              "      <td>0.603831</td>\n",
              "      <td>0.74875</td>\n",
              "    </tr>\n",
              "    <tr>\n",
              "      <th>9</th>\n",
              "      <td>0.571404</td>\n",
              "      <td>0.77375</td>\n",
              "    </tr>\n",
              "    <tr>\n",
              "      <th>10</th>\n",
              "      <td>0.540443</td>\n",
              "      <td>0.76500</td>\n",
              "    </tr>\n",
              "    <tr>\n",
              "      <th>11</th>\n",
              "      <td>0.501504</td>\n",
              "      <td>0.78375</td>\n",
              "    </tr>\n",
              "    <tr>\n",
              "      <th>12</th>\n",
              "      <td>0.468332</td>\n",
              "      <td>0.79750</td>\n",
              "    </tr>\n",
              "    <tr>\n",
              "      <th>13</th>\n",
              "      <td>0.411302</td>\n",
              "      <td>0.84500</td>\n",
              "    </tr>\n",
              "    <tr>\n",
              "      <th>14</th>\n",
              "      <td>0.362506</td>\n",
              "      <td>0.91250</td>\n",
              "    </tr>\n",
              "    <tr>\n",
              "      <th>15</th>\n",
              "      <td>0.320904</td>\n",
              "      <td>0.93125</td>\n",
              "    </tr>\n",
              "    <tr>\n",
              "      <th>16</th>\n",
              "      <td>0.284708</td>\n",
              "      <td>0.94875</td>\n",
              "    </tr>\n",
              "    <tr>\n",
              "      <th>17</th>\n",
              "      <td>0.259720</td>\n",
              "      <td>0.95250</td>\n",
              "    </tr>\n",
              "    <tr>\n",
              "      <th>18</th>\n",
              "      <td>0.237469</td>\n",
              "      <td>0.95625</td>\n",
              "    </tr>\n",
              "    <tr>\n",
              "      <th>19</th>\n",
              "      <td>0.213520</td>\n",
              "      <td>0.96625</td>\n",
              "    </tr>\n",
              "    <tr>\n",
              "      <th>20</th>\n",
              "      <td>0.193820</td>\n",
              "      <td>0.97750</td>\n",
              "    </tr>\n",
              "    <tr>\n",
              "      <th>21</th>\n",
              "      <td>0.175244</td>\n",
              "      <td>0.97375</td>\n",
              "    </tr>\n",
              "    <tr>\n",
              "      <th>22</th>\n",
              "      <td>0.161893</td>\n",
              "      <td>0.97875</td>\n",
              "    </tr>\n",
              "    <tr>\n",
              "      <th>23</th>\n",
              "      <td>0.154989</td>\n",
              "      <td>0.97750</td>\n",
              "    </tr>\n",
              "    <tr>\n",
              "      <th>24</th>\n",
              "      <td>0.148973</td>\n",
              "      <td>0.97625</td>\n",
              "    </tr>\n",
              "  </tbody>\n",
              "</table>\n",
              "</div>\n",
              "      <button class=\"colab-df-convert\" onclick=\"convertToInteractive('df-b09cafe0-3c3b-40c0-bc1f-6959887d4071')\"\n",
              "              title=\"Convert this dataframe to an interactive table.\"\n",
              "              style=\"display:none;\">\n",
              "        \n",
              "  <svg xmlns=\"http://www.w3.org/2000/svg\" height=\"24px\"viewBox=\"0 0 24 24\"\n",
              "       width=\"24px\">\n",
              "    <path d=\"M0 0h24v24H0V0z\" fill=\"none\"/>\n",
              "    <path d=\"M18.56 5.44l.94 2.06.94-2.06 2.06-.94-2.06-.94-.94-2.06-.94 2.06-2.06.94zm-11 1L8.5 8.5l.94-2.06 2.06-.94-2.06-.94L8.5 2.5l-.94 2.06-2.06.94zm10 10l.94 2.06.94-2.06 2.06-.94-2.06-.94-.94-2.06-.94 2.06-2.06.94z\"/><path d=\"M17.41 7.96l-1.37-1.37c-.4-.4-.92-.59-1.43-.59-.52 0-1.04.2-1.43.59L10.3 9.45l-7.72 7.72c-.78.78-.78 2.05 0 2.83L4 21.41c.39.39.9.59 1.41.59.51 0 1.02-.2 1.41-.59l7.78-7.78 2.81-2.81c.8-.78.8-2.07 0-2.86zM5.41 20L4 18.59l7.72-7.72 1.47 1.35L5.41 20z\"/>\n",
              "  </svg>\n",
              "      </button>\n",
              "      \n",
              "  <style>\n",
              "    .colab-df-container {\n",
              "      display:flex;\n",
              "      flex-wrap:wrap;\n",
              "      gap: 12px;\n",
              "    }\n",
              "\n",
              "    .colab-df-convert {\n",
              "      background-color: #E8F0FE;\n",
              "      border: none;\n",
              "      border-radius: 50%;\n",
              "      cursor: pointer;\n",
              "      display: none;\n",
              "      fill: #1967D2;\n",
              "      height: 32px;\n",
              "      padding: 0 0 0 0;\n",
              "      width: 32px;\n",
              "    }\n",
              "\n",
              "    .colab-df-convert:hover {\n",
              "      background-color: #E2EBFA;\n",
              "      box-shadow: 0px 1px 2px rgba(60, 64, 67, 0.3), 0px 1px 3px 1px rgba(60, 64, 67, 0.15);\n",
              "      fill: #174EA6;\n",
              "    }\n",
              "\n",
              "    [theme=dark] .colab-df-convert {\n",
              "      background-color: #3B4455;\n",
              "      fill: #D2E3FC;\n",
              "    }\n",
              "\n",
              "    [theme=dark] .colab-df-convert:hover {\n",
              "      background-color: #434B5C;\n",
              "      box-shadow: 0px 1px 3px 1px rgba(0, 0, 0, 0.15);\n",
              "      filter: drop-shadow(0px 1px 2px rgba(0, 0, 0, 0.3));\n",
              "      fill: #FFFFFF;\n",
              "    }\n",
              "  </style>\n",
              "\n",
              "      <script>\n",
              "        const buttonEl =\n",
              "          document.querySelector('#df-b09cafe0-3c3b-40c0-bc1f-6959887d4071 button.colab-df-convert');\n",
              "        buttonEl.style.display =\n",
              "          google.colab.kernel.accessAllowed ? 'block' : 'none';\n",
              "\n",
              "        async function convertToInteractive(key) {\n",
              "          const element = document.querySelector('#df-b09cafe0-3c3b-40c0-bc1f-6959887d4071');\n",
              "          const dataTable =\n",
              "            await google.colab.kernel.invokeFunction('convertToInteractive',\n",
              "                                                     [key], {});\n",
              "          if (!dataTable) return;\n",
              "\n",
              "          const docLinkHtml = 'Like what you see? Visit the ' +\n",
              "            '<a target=\"_blank\" href=https://colab.research.google.com/notebooks/data_table.ipynb>data table notebook</a>'\n",
              "            + ' to learn more about interactive tables.';\n",
              "          element.innerHTML = '';\n",
              "          dataTable['output_type'] = 'display_data';\n",
              "          await google.colab.output.renderOutput(dataTable, element);\n",
              "          const docLink = document.createElement('div');\n",
              "          docLink.innerHTML = docLinkHtml;\n",
              "          element.appendChild(docLink);\n",
              "        }\n",
              "      </script>\n",
              "    </div>\n",
              "  </div>\n",
              "  "
            ],
            "text/plain": [
              "        loss  accuracy\n",
              "0   0.684651   0.54250\n",
              "1   0.677721   0.55250\n",
              "2   0.673595   0.55125\n",
              "3   0.668149   0.57750\n",
              "4   0.663269   0.58500\n",
              "5   0.654567   0.58375\n",
              "6   0.641258   0.67500\n",
              "7   0.626428   0.70125\n",
              "8   0.603831   0.74875\n",
              "9   0.571404   0.77375\n",
              "10  0.540443   0.76500\n",
              "11  0.501504   0.78375\n",
              "12  0.468332   0.79750\n",
              "13  0.411302   0.84500\n",
              "14  0.362506   0.91250\n",
              "15  0.320904   0.93125\n",
              "16  0.284708   0.94875\n",
              "17  0.259720   0.95250\n",
              "18  0.237469   0.95625\n",
              "19  0.213520   0.96625\n",
              "20  0.193820   0.97750\n",
              "21  0.175244   0.97375\n",
              "22  0.161893   0.97875\n",
              "23  0.154989   0.97750\n",
              "24  0.148973   0.97625"
            ]
          },
          "metadata": {},
          "execution_count": 50
        }
      ]
    },
    {
      "cell_type": "code",
      "source": [
        "pd.DataFrame(history.history).plot()\n",
        "plt.title(\"Model_8 Loss cureves\")"
      ],
      "metadata": {
        "colab": {
          "base_uri": "https://localhost:8080/"
        },
        "id": "gL-OsvOn8OXU",
        "outputId": "25e03158-a487-4b11-c500-4bdb9d4c0fe2"
      },
      "execution_count": null,
      "outputs": [
        {
          "output_type": "execute_result",
          "data": {
            "text/plain": [
              "Text(0.5, 1.0, 'Model_8 Loss cureves')"
            ]
          },
          "metadata": {},
          "execution_count": 51
        },
        {
          "output_type": "display_data",
          "data": {
            "image/png": "[encoded data removed]",
            "text/plain": [
              "<Figure size 432x288 with 1 Axes>"
            ]
          },
          "metadata": {
            "needs_background": "light"
          }
        }
      ]
    },
    {
      "cell_type": "markdown",
      "source": [
        "The loss function going down mean the model is improving!! "
      ],
      "metadata": {
        "id": "fSSMIX7Q8l2W"
      }
    },
    {
      "cell_type": "markdown",
      "source": [
        "## Finding the best learning rate\n",
        "\n",
        "To find the ideal learning rate (Learnin rate where the loss decreases the most during training) we're going to use the following steps: \n",
        "\n",
        "* A learning rate **calback** - you can think of a callback as an extra peice of functionality, you can add to the model *while* its training \n",
        "* Another model (we could use the same one as above, but we're practicing building models here) \n",
        "* A modified loss curve plot."
      ],
      "metadata": {
        "id": "AdcwQPXB8sWS"
      }
    },
    {
      "cell_type": "code",
      "source": [
        "# Set up a random seed\n",
        "tf.random.set_seed(42)\n",
        "\n",
        "# 1. Create a model (same as model 8)\n",
        "model_9 = tf.keras.Sequential([\n",
        "                               tf.keras.layers.Dense(4, activation = \"relu\"),\n",
        "                               tf.keras.layers.Dense(4, activation = \"relu\"),\n",
        "                               tf.keras.layers.Dense(1, activation = \"sigmoid\"),\n",
        "])\n",
        "\n",
        "# 2. Compile the mdel \n",
        "model_9.compile(loss = \"binary_crossentropy\", \n",
        "                optimizer = \"Adam\",\n",
        "                metrics = [\"accuracy\"])\n",
        "\n",
        "# 3. Fit the model\n",
        "lr_scheduler = tf.keras.callbacks.LearningRateScheduler(lambda epoch: 1e-4 * 10**(epoch/20))\n",
        "\n",
        "history_9 = model_9.fit(X_train,\n",
        "                    y_train,\n",
        "                    epochs =100,\n",
        "                    callbacks = [lr_scheduler])\n"
      ],
      "metadata": {
        "colab": {
          "base_uri": "https://localhost:8080/"
        },
        "id": "-xn_QpDy98zx",
        "outputId": "cfc1c4f4-70a2-4f7e-e0d4-f5c68c229c76"
      },
      "execution_count": null,
      "outputs": [
        {
          "output_type": "stream",
          "name": "stdout",
          "text": [
            "Epoch 1/100\n",
            "25/25 [==============================] - 1s 2ms/step - loss: 0.6945 - accuracy: 0.4988 - lr: 1.0000e-04\n",
            "Epoch 2/100\n",
            "25/25 [==============================] - 0s 2ms/step - loss: 0.6938 - accuracy: 0.4975 - lr: 1.1220e-04\n",
            "Epoch 3/100\n",
            "25/25 [==============================] - 0s 2ms/step - loss: 0.6930 - accuracy: 0.4963 - lr: 1.2589e-04\n",
            "Epoch 4/100\n",
            "25/25 [==============================] - 0s 2ms/step - loss: 0.6922 - accuracy: 0.4975 - lr: 1.4125e-04\n",
            "Epoch 5/100\n",
            "25/25 [==============================] - 0s 3ms/step - loss: 0.6914 - accuracy: 0.5063 - lr: 1.5849e-04\n",
            "Epoch 6/100\n",
            "25/25 [==============================] - 0s 2ms/step - loss: 0.6906 - accuracy: 0.5013 - lr: 1.7783e-04\n",
            "Epoch 7/100\n",
            "25/25 [==============================] - 0s 2ms/step - loss: 0.6898 - accuracy: 0.4950 - lr: 1.9953e-04\n",
            "Epoch 8/100\n",
            "25/25 [==============================] - 0s 2ms/step - loss: 0.6889 - accuracy: 0.5038 - lr: 2.2387e-04\n",
            "Epoch 9/100\n",
            "25/25 [==============================] - 0s 2ms/step - loss: 0.6880 - accuracy: 0.5013 - lr: 2.5119e-04\n",
            "Epoch 10/100\n",
            "25/25 [==============================] - 0s 2ms/step - loss: 0.6871 - accuracy: 0.5050 - lr: 2.8184e-04\n",
            "Epoch 11/100\n",
            "25/25 [==============================] - 0s 2ms/step - loss: 0.6863 - accuracy: 0.5200 - lr: 3.1623e-04\n",
            "Epoch 12/100\n",
            "25/25 [==============================] - 0s 2ms/step - loss: 0.6856 - accuracy: 0.5163 - lr: 3.5481e-04\n",
            "Epoch 13/100\n",
            "25/25 [==============================] - 0s 2ms/step - loss: 0.6847 - accuracy: 0.5175 - lr: 3.9811e-04\n",
            "Epoch 14/100\n",
            "25/25 [==============================] - 0s 2ms/step - loss: 0.6842 - accuracy: 0.5200 - lr: 4.4668e-04\n",
            "Epoch 15/100\n",
            "25/25 [==============================] - 0s 2ms/step - loss: 0.6835 - accuracy: 0.5213 - lr: 5.0119e-04\n",
            "Epoch 16/100\n",
            "25/25 [==============================] - 0s 2ms/step - loss: 0.6829 - accuracy: 0.5213 - lr: 5.6234e-04\n",
            "Epoch 17/100\n",
            "25/25 [==============================] - 0s 2ms/step - loss: 0.6826 - accuracy: 0.5225 - lr: 6.3096e-04\n",
            "Epoch 18/100\n",
            "25/25 [==============================] - 0s 2ms/step - loss: 0.6819 - accuracy: 0.5300 - lr: 7.0795e-04\n",
            "Epoch 19/100\n",
            "25/25 [==============================] - 0s 2ms/step - loss: 0.6816 - accuracy: 0.5312 - lr: 7.9433e-04\n",
            "Epoch 20/100\n",
            "25/25 [==============================] - 0s 2ms/step - loss: 0.6811 - accuracy: 0.5387 - lr: 8.9125e-04\n",
            "Epoch 21/100\n",
            "25/25 [==============================] - 0s 2ms/step - loss: 0.6806 - accuracy: 0.5400 - lr: 0.0010\n",
            "Epoch 22/100\n",
            "25/25 [==============================] - 0s 2ms/step - loss: 0.6801 - accuracy: 0.5412 - lr: 0.0011\n",
            "Epoch 23/100\n",
            "25/25 [==============================] - 0s 2ms/step - loss: 0.6796 - accuracy: 0.5400 - lr: 0.0013\n",
            "Epoch 24/100\n",
            "25/25 [==============================] - 0s 3ms/step - loss: 0.6790 - accuracy: 0.5425 - lr: 0.0014\n",
            "Epoch 25/100\n",
            "25/25 [==============================] - 0s 2ms/step - loss: 0.6784 - accuracy: 0.5450 - lr: 0.0016\n",
            "Epoch 26/100\n",
            "25/25 [==============================] - 0s 2ms/step - loss: 0.6778 - accuracy: 0.5387 - lr: 0.0018\n",
            "Epoch 27/100\n",
            "25/25 [==============================] - 0s 2ms/step - loss: 0.6770 - accuracy: 0.5425 - lr: 0.0020\n",
            "Epoch 28/100\n",
            "25/25 [==============================] - 0s 2ms/step - loss: 0.6760 - accuracy: 0.5537 - lr: 0.0022\n",
            "Epoch 29/100\n",
            "25/25 [==============================] - 0s 2ms/step - loss: 0.6754 - accuracy: 0.5512 - lr: 0.0025\n",
            "Epoch 30/100\n",
            "25/25 [==============================] - 0s 2ms/step - loss: 0.6739 - accuracy: 0.5575 - lr: 0.0028\n",
            "Epoch 31/100\n",
            "25/25 [==============================] - 0s 2ms/step - loss: 0.6726 - accuracy: 0.5500 - lr: 0.0032\n",
            "Epoch 32/100\n",
            "25/25 [==============================] - 0s 2ms/step - loss: 0.6711 - accuracy: 0.5512 - lr: 0.0035\n",
            "Epoch 33/100\n",
            "25/25 [==============================] - 0s 2ms/step - loss: 0.6688 - accuracy: 0.5562 - lr: 0.0040\n",
            "Epoch 34/100\n",
            "25/25 [==============================] - 0s 2ms/step - loss: 0.6672 - accuracy: 0.5612 - lr: 0.0045\n",
            "Epoch 35/100\n",
            "25/25 [==============================] - 0s 2ms/step - loss: 0.6660 - accuracy: 0.5888 - lr: 0.0050\n",
            "Epoch 36/100\n",
            "25/25 [==============================] - 0s 2ms/step - loss: 0.6625 - accuracy: 0.5625 - lr: 0.0056\n",
            "Epoch 37/100\n",
            "25/25 [==============================] - 0s 2ms/step - loss: 0.6560 - accuracy: 0.5813 - lr: 0.0063\n",
            "Epoch 38/100\n",
            "25/25 [==============================] - 0s 2ms/step - loss: 0.6521 - accuracy: 0.6025 - lr: 0.0071\n",
            "Epoch 39/100\n",
            "25/25 [==============================] - 0s 2ms/step - loss: 0.6415 - accuracy: 0.7088 - lr: 0.0079\n",
            "Epoch 40/100\n",
            "25/25 [==============================] - 0s 2ms/step - loss: 0.6210 - accuracy: 0.7113 - lr: 0.0089\n",
            "Epoch 41/100\n",
            "25/25 [==============================] - 0s 2ms/step - loss: 0.5904 - accuracy: 0.7487 - lr: 0.0100\n",
            "Epoch 42/100\n",
            "25/25 [==============================] - 0s 2ms/step - loss: 0.5688 - accuracy: 0.7312 - lr: 0.0112\n",
            "Epoch 43/100\n",
            "25/25 [==============================] - 0s 2ms/step - loss: 0.5346 - accuracy: 0.7563 - lr: 0.0126\n",
            "Epoch 44/100\n",
            "25/25 [==============================] - 0s 2ms/step - loss: 0.4533 - accuracy: 0.8150 - lr: 0.0141\n",
            "Epoch 45/100\n",
            "25/25 [==============================] - 0s 2ms/step - loss: 0.3455 - accuracy: 0.9112 - lr: 0.0158\n",
            "Epoch 46/100\n",
            "25/25 [==============================] - 0s 2ms/step - loss: 0.2570 - accuracy: 0.9463 - lr: 0.0178\n",
            "Epoch 47/100\n",
            "25/25 [==============================] - 0s 2ms/step - loss: 0.1968 - accuracy: 0.9575 - lr: 0.0200\n",
            "Epoch 48/100\n",
            "25/25 [==============================] - 0s 2ms/step - loss: 0.1336 - accuracy: 0.9700 - lr: 0.0224\n",
            "Epoch 49/100\n",
            "25/25 [==============================] - 0s 2ms/step - loss: 0.1310 - accuracy: 0.9613 - lr: 0.0251\n",
            "Epoch 50/100\n",
            "25/25 [==============================] - 0s 2ms/step - loss: 0.1002 - accuracy: 0.9700 - lr: 0.0282\n",
            "Epoch 51/100\n",
            "25/25 [==============================] - 0s 2ms/step - loss: 0.1166 - accuracy: 0.9638 - lr: 0.0316\n",
            "Epoch 52/100\n",
            "25/25 [==============================] - 0s 2ms/step - loss: 0.1368 - accuracy: 0.9513 - lr: 0.0355\n",
            "Epoch 53/100\n",
            "25/25 [==============================] - 0s 2ms/step - loss: 0.0879 - accuracy: 0.9787 - lr: 0.0398\n",
            "Epoch 54/100\n",
            "25/25 [==============================] - 0s 2ms/step - loss: 0.1187 - accuracy: 0.9588 - lr: 0.0447\n",
            "Epoch 55/100\n",
            "25/25 [==============================] - 0s 2ms/step - loss: 0.0733 - accuracy: 0.9712 - lr: 0.0501\n",
            "Epoch 56/100\n",
            "25/25 [==============================] - 0s 2ms/step - loss: 0.1132 - accuracy: 0.9550 - lr: 0.0562\n",
            "Epoch 57/100\n",
            "25/25 [==============================] - 0s 2ms/step - loss: 0.1057 - accuracy: 0.9613 - lr: 0.0631\n",
            "Epoch 58/100\n",
            "25/25 [==============================] - 0s 2ms/step - loss: 0.0664 - accuracy: 0.9750 - lr: 0.0708\n",
            "Epoch 59/100\n",
            "25/25 [==============================] - 0s 2ms/step - loss: 0.1898 - accuracy: 0.9275 - lr: 0.0794\n",
            "Epoch 60/100\n",
            "25/25 [==============================] - 0s 2ms/step - loss: 0.1895 - accuracy: 0.9312 - lr: 0.0891\n",
            "Epoch 61/100\n",
            "25/25 [==============================] - 0s 2ms/step - loss: 0.4131 - accuracy: 0.8612 - lr: 0.1000\n",
            "Epoch 62/100\n",
            "25/25 [==============================] - 0s 2ms/step - loss: 0.1707 - accuracy: 0.9725 - lr: 0.1122\n",
            "Epoch 63/100\n",
            "25/25 [==============================] - 0s 2ms/step - loss: 0.0569 - accuracy: 0.9937 - lr: 0.1259\n",
            "Epoch 64/100\n",
            "25/25 [==============================] - 0s 2ms/step - loss: 0.1007 - accuracy: 0.9638 - lr: 0.1413\n",
            "Epoch 65/100\n",
            "25/25 [==============================] - 0s 2ms/step - loss: 0.1323 - accuracy: 0.9488 - lr: 0.1585\n",
            "Epoch 66/100\n",
            "25/25 [==============================] - 0s 2ms/step - loss: 0.1819 - accuracy: 0.9375 - lr: 0.1778\n",
            "Epoch 67/100\n",
            "25/25 [==============================] - 0s 2ms/step - loss: 0.6672 - accuracy: 0.7613 - lr: 0.1995\n",
            "Epoch 68/100\n",
            "25/25 [==============================] - 0s 2ms/step - loss: 0.5301 - accuracy: 0.6687 - lr: 0.2239\n",
            "Epoch 69/100\n",
            "25/25 [==============================] - 0s 2ms/step - loss: 0.4140 - accuracy: 0.7925 - lr: 0.2512\n",
            "Epoch 70/100\n",
            "25/25 [==============================] - 0s 2ms/step - loss: 0.4574 - accuracy: 0.7412 - lr: 0.2818\n",
            "Epoch 71/100\n",
            "25/25 [==============================] - 0s 2ms/step - loss: 0.4759 - accuracy: 0.7262 - lr: 0.3162\n",
            "Epoch 72/100\n",
            "25/25 [==============================] - 0s 2ms/step - loss: 0.3748 - accuracy: 0.8112 - lr: 0.3548\n",
            "Epoch 73/100\n",
            "25/25 [==============================] - 0s 2ms/step - loss: 0.4710 - accuracy: 0.8150 - lr: 0.3981\n",
            "Epoch 74/100\n",
            "25/25 [==============================] - 0s 2ms/step - loss: 0.4143 - accuracy: 0.8087 - lr: 0.4467\n",
            "Epoch 75/100\n",
            "25/25 [==============================] - 0s 2ms/step - loss: 0.5961 - accuracy: 0.7412 - lr: 0.5012\n",
            "Epoch 76/100\n",
            "25/25 [==============================] - 0s 2ms/step - loss: 0.4787 - accuracy: 0.7713 - lr: 0.5623\n",
            "Epoch 77/100\n",
            "25/25 [==============================] - 0s 2ms/step - loss: 0.4720 - accuracy: 0.7113 - lr: 0.6310\n",
            "Epoch 78/100\n",
            "25/25 [==============================] - 0s 2ms/step - loss: 0.2565 - accuracy: 0.8675 - lr: 0.7079\n",
            "Epoch 79/100\n",
            "25/25 [==============================] - 0s 2ms/step - loss: 1.1824 - accuracy: 0.6275 - lr: 0.7943\n",
            "Epoch 80/100\n",
            "25/25 [==============================] - 0s 2ms/step - loss: 0.6873 - accuracy: 0.5425 - lr: 0.8913\n",
            "Epoch 81/100\n",
            "25/25 [==============================] - 0s 2ms/step - loss: 0.7068 - accuracy: 0.5575 - lr: 1.0000\n",
            "Epoch 82/100\n",
            "25/25 [==============================] - 0s 2ms/step - loss: 0.6879 - accuracy: 0.5838 - lr: 1.1220\n",
            "Epoch 83/100\n",
            "25/25 [==============================] - 0s 3ms/step - loss: 0.6996 - accuracy: 0.5700 - lr: 1.2589\n",
            "Epoch 84/100\n",
            "25/25 [==============================] - 0s 2ms/step - loss: 0.6471 - accuracy: 0.5863 - lr: 1.4125\n",
            "Epoch 85/100\n",
            "25/25 [==============================] - 0s 2ms/step - loss: 0.7457 - accuracy: 0.5312 - lr: 1.5849\n",
            "Epoch 86/100\n",
            "25/25 [==============================] - 0s 2ms/step - loss: 0.7546 - accuracy: 0.5038 - lr: 1.7783\n",
            "Epoch 87/100\n",
            "25/25 [==============================] - 0s 2ms/step - loss: 0.7681 - accuracy: 0.5063 - lr: 1.9953\n",
            "Epoch 88/100\n",
            "25/25 [==============================] - 0s 2ms/step - loss: 0.7596 - accuracy: 0.4963 - lr: 2.2387\n",
            "Epoch 89/100\n",
            "25/25 [==============================] - 0s 2ms/step - loss: 0.7778 - accuracy: 0.5063 - lr: 2.5119\n",
            "Epoch 90/100\n",
            "25/25 [==============================] - 0s 2ms/step - loss: 0.7741 - accuracy: 0.4787 - lr: 2.8184\n",
            "Epoch 91/100\n",
            "25/25 [==============================] - 0s 2ms/step - loss: 0.7851 - accuracy: 0.5163 - lr: 3.1623\n",
            "Epoch 92/100\n",
            "25/25 [==============================] - 0s 2ms/step - loss: 0.7441 - accuracy: 0.4888 - lr: 3.5481\n",
            "Epoch 93/100\n",
            "25/25 [==============================] - 0s 2ms/step - loss: 0.7354 - accuracy: 0.5163 - lr: 3.9811\n",
            "Epoch 94/100\n",
            "25/25 [==============================] - 0s 2ms/step - loss: 0.7548 - accuracy: 0.4938 - lr: 4.4668\n",
            "Epoch 95/100\n",
            "25/25 [==============================] - 0s 2ms/step - loss: 0.8087 - accuracy: 0.4863 - lr: 5.0119\n",
            "Epoch 96/100\n",
            "25/25 [==============================] - 0s 2ms/step - loss: 0.7714 - accuracy: 0.4638 - lr: 5.6234\n",
            "Epoch 97/100\n",
            "25/25 [==============================] - 0s 2ms/step - loss: 0.8001 - accuracy: 0.5013 - lr: 6.3096\n",
            "Epoch 98/100\n",
            "25/25 [==============================] - 0s 2ms/step - loss: 0.9554 - accuracy: 0.4963 - lr: 7.0795\n",
            "Epoch 99/100\n",
            "25/25 [==============================] - 0s 2ms/step - loss: 0.9268 - accuracy: 0.4913 - lr: 7.9433\n",
            "Epoch 100/100\n",
            "25/25 [==============================] - 0s 6ms/step - loss: 0.8563 - accuracy: 0.4663 - lr: 8.9125\n"
          ]
        }
      ]
    },
    {
      "cell_type": "code",
      "source": [
        "pd.DataFrame(history_9.history).plot(figsize = (10,7), xlabel = \"epochs\")"
      ],
      "metadata": {
        "colab": {
          "base_uri": "https://localhost:8080/"
        },
        "id": "_mcJqICqEiBJ",
        "outputId": "380d0052-464c-4d36-f415-338ededfc254"
      },
      "execution_count": null,
      "outputs": [
        {
          "output_type": "execute_result",
          "data": {
            "text/plain": [
              "<matplotlib.axes._subplots.AxesSubplot at 0x7f29b9c170d0>"
            ]
          },
          "metadata": {},
          "execution_count": 53
        },
        {
          "output_type": "display_data",
          "data": {
            "image/png": "[encoded data removed]",
            "text/plain": [
              "<Figure size 720x504 with 1 Axes>"
            ]
          },
          "metadata": {
            "needs_background": "light"
          }
        }
      ]
    },
    {
      "cell_type": "code",
      "source": [
        "# Plot the learning rate vs the loss \n",
        "\n",
        "lrs = 1e-4 * (10**(tf.range(100)/20))\n",
        "plt.figure(figsize = (10,7))\n",
        "plt.semilogx(lrs, history_9.history[\"loss\"])\n",
        "plt.xlabel(\"Learning Rate\")\n",
        "plt.ylabel(\"Loss Rate\")\n",
        "plt.title(\"Learning rate vs loss\")"
      ],
      "metadata": {
        "colab": {
          "base_uri": "https://localhost:8080/"
        },
        "id": "VahLmUITFFYP",
        "outputId": "7e0901ed-52f9-4a20-a03e-afef0ed11cb1"
      },
      "execution_count": null,
      "outputs": [
        {
          "output_type": "execute_result",
          "data": {
            "text/plain": [
              "Text(0.5, 1.0, 'Learning rate vs loss')"
            ]
          },
          "metadata": {},
          "execution_count": 54
        },
        {
          "output_type": "display_data",
          "data": {
            "image/png": "[encoded data removed]",
            "text/plain": [
              "<Figure size 720x504 with 1 Axes>"
            ]
          },
          "metadata": {
            "needs_background": "light"
          }
        }
      ]
    },
    {
      "cell_type": "code",
      "source": [
        "# Example of other typical learning rates \n",
        "\n",
        "rates = [10**0, 10**-1, 10**-2, 10**-3, 10**-4]\n",
        "rates"
      ],
      "metadata": {
        "colab": {
          "base_uri": "https://localhost:8080/"
        },
        "id": "N-2R2U7JFlJH",
        "outputId": "e40514cf-6e90-47e1-e126-b8f4503c426c"
      },
      "execution_count": null,
      "outputs": [
        {
          "output_type": "execute_result",
          "data": {
            "text/plain": [
              "[1, 0.1, 0.01, 0.001, 0.0001]"
            ]
          },
          "metadata": {},
          "execution_count": 55
        }
      ]
    },
    {
      "cell_type": "code",
      "source": [
        "# After identifying a ideal learning rate, we can use it on the model again \n",
        "\n",
        "# Set the random seed \n",
        "tf.random.set_seed(42)\n",
        "\n",
        "#1. Create the model \n",
        "model_10 = tf.keras.Sequential([\n",
        "                     tf.keras.layers.Dense(4, activation = \"relu\"),\n",
        "                     tf.keras.layers.Dense(4, activation = \"relu\"),\n",
        "                     tf.keras.layers.Dense(1, activation = \"sigmoid\")\n",
        "])\n",
        "\n",
        "# 2. Compile the model\n",
        "model_10.compile(optimizer = tf.keras.optimizers.Adam(lr = 0.02),\n",
        "                 loss = tf.keras.losses.BinaryCrossentropy(),\n",
        "                 metrics = [\"accuracy\"])\n",
        "\n",
        "# 3. Fit the model\n",
        "history_10 = model_10.fit(X_train, y_train, epochs = 20)"
      ],
      "metadata": {
        "colab": {
          "base_uri": "https://localhost:8080/"
        },
        "id": "ANVsDTWyJw92",
        "outputId": "a9d653c2-c98e-472e-ac79-388633f63a3d"
      },
      "execution_count": null,
      "outputs": [
        {
          "output_type": "stream",
          "name": "stderr",
          "text": [
            "/usr/local/lib/python3.7/dist-packages/keras/optimizer_v2/adam.py:105: UserWarning: The `lr` argument is deprecated, use `learning_rate` instead.\n",
            "  super(Adam, self).__init__(name, **kwargs)\n"
          ]
        },
        {
          "output_type": "stream",
          "name": "stdout",
          "text": [
            "Epoch 1/20\n",
            "25/25 [==============================] - 1s 2ms/step - loss: 0.6837 - accuracy: 0.5600\n",
            "Epoch 2/20\n",
            "25/25 [==============================] - 0s 2ms/step - loss: 0.6744 - accuracy: 0.5750\n",
            "Epoch 3/20\n",
            "25/25 [==============================] - 0s 2ms/step - loss: 0.6626 - accuracy: 0.5875\n",
            "Epoch 4/20\n",
            "25/25 [==============================] - 0s 2ms/step - loss: 0.6332 - accuracy: 0.6388\n",
            "Epoch 5/20\n",
            "25/25 [==============================] - 0s 2ms/step - loss: 0.5830 - accuracy: 0.7563\n",
            "Epoch 6/20\n",
            "25/25 [==============================] - 0s 2ms/step - loss: 0.4907 - accuracy: 0.8313\n",
            "Epoch 7/20\n",
            "25/25 [==============================] - 0s 2ms/step - loss: 0.4251 - accuracy: 0.8450\n",
            "Epoch 8/20\n",
            "25/25 [==============================] - 0s 2ms/step - loss: 0.3596 - accuracy: 0.8875\n",
            "Epoch 9/20\n",
            "25/25 [==============================] - 0s 2ms/step - loss: 0.3152 - accuracy: 0.9100\n",
            "Epoch 10/20\n",
            "25/25 [==============================] - 0s 2ms/step - loss: 0.2512 - accuracy: 0.9500\n",
            "Epoch 11/20\n",
            "25/25 [==============================] - 0s 2ms/step - loss: 0.2152 - accuracy: 0.9500\n",
            "Epoch 12/20\n",
            "25/25 [==============================] - 0s 2ms/step - loss: 0.1721 - accuracy: 0.9750\n",
            "Epoch 13/20\n",
            "25/25 [==============================] - 0s 3ms/step - loss: 0.1443 - accuracy: 0.9837\n",
            "Epoch 14/20\n",
            "25/25 [==============================] - 0s 2ms/step - loss: 0.1232 - accuracy: 0.9862\n",
            "Epoch 15/20\n",
            "25/25 [==============================] - 0s 2ms/step - loss: 0.1085 - accuracy: 0.9850\n",
            "Epoch 16/20\n",
            "25/25 [==============================] - 0s 2ms/step - loss: 0.0940 - accuracy: 0.9937\n",
            "Epoch 17/20\n",
            "25/25 [==============================] - 0s 2ms/step - loss: 0.0827 - accuracy: 0.9962\n",
            "Epoch 18/20\n",
            "25/25 [==============================] - 0s 2ms/step - loss: 0.0798 - accuracy: 0.9937\n",
            "Epoch 19/20\n",
            "25/25 [==============================] - 0s 2ms/step - loss: 0.0845 - accuracy: 0.9875\n",
            "Epoch 20/20\n",
            "25/25 [==============================] - 0s 2ms/step - loss: 0.0790 - accuracy: 0.9887\n"
          ]
        }
      ]
    },
    {
      "cell_type": "code",
      "source": [
        "# Evaluate model 10 on the test dataset\n",
        "model_10.evaluate(X_test,y_test)"
      ],
      "metadata": {
        "colab": {
          "base_uri": "https://localhost:8080/"
        },
        "id": "LVc9KoLzLmol",
        "outputId": "25363d2b-05a3-463c-e39f-314c178d8c84"
      },
      "execution_count": null,
      "outputs": [
        {
          "output_type": "stream",
          "name": "stdout",
          "text": [
            "7/7 [==============================] - 0s 2ms/step - loss: 0.0574 - accuracy: 0.9900\n"
          ]
        },
        {
          "output_type": "execute_result",
          "data": {
            "text/plain": [
              "[0.05740184709429741, 0.9900000095367432]"
            ]
          },
          "metadata": {},
          "execution_count": 57
        }
      ]
    },
    {
      "cell_type": "code",
      "source": [
        "model_8.evaluate(X_test,y_test)"
      ],
      "metadata": {
        "colab": {
          "base_uri": "https://localhost:8080/"
        },
        "id": "zKf6f1t_Luod",
        "outputId": "7b992e53-78c7-4097-b16a-b63a99f2d6d8"
      },
      "execution_count": null,
      "outputs": [
        {
          "output_type": "stream",
          "name": "stdout",
          "text": [
            "7/7 [==============================] - 0s 3ms/step - loss: 0.1247 - accuracy: 1.0000\n"
          ]
        },
        {
          "output_type": "execute_result",
          "data": {
            "text/plain": [
              "[0.1246885135769844, 1.0]"
            ]
          },
          "metadata": {},
          "execution_count": 58
        }
      ]
    },
    {
      "cell_type": "code",
      "source": [
        "# Plot the decision boundries for training and test sets \n",
        "plt.figure(figsize = (12,6))\n",
        "plt.subplot(1,2,1) #row,column,section\n",
        "plt.title(\"Train\")\n",
        "plot_decision_boundry(model_10, X = X_train, y = y_train)\n",
        "plt.subplot(1,2,2) #row,column,section\n",
        "plt.title(\"Test\")\n",
        "plot_decision_boundry(model_10, X = X_test, y = y_test)\n",
        "plt.show()"
      ],
      "metadata": {
        "colab": {
          "base_uri": "https://localhost:8080/"
        },
        "id": "Ayl6chQnL7HF",
        "outputId": "39e387f7-1bdd-4786-f693-47dbd741c708"
      },
      "execution_count": null,
      "outputs": [
        {
          "output_type": "stream",
          "name": "stdout",
          "text": [
            "doing binary classification\n",
            "doing binary classification\n"
          ]
        },
        {
          "output_type": "display_data",
          "data": {
            "image/png": "[encoded data removed]",
            "text/plain": [
              "<Figure size 864x432 with 2 Axes>"
            ]
          },
          "metadata": {
            "needs_background": "light"
          }
        }
      ]
    },
    {
      "cell_type": "markdown",
      "source": [
        "## More classificaton evaluation methods \n",
        "\n",
        "Alongside visualising our models as much as posible, there are a handfull of other evaluation methods and metrics you should be familiar with:\n",
        "* Accuracy\n",
        "* Precision \n",
        "* Recall \n",
        "* F1-Score \n",
        "* Confusion metrix\n",
        "* Classification matrix (from scikit-learn) - https://scikit-learn.org/stable/modules/generated/sklearn.metrics.confusion_matrix.html "
      ],
      "metadata": {
        "id": "6dc-ptJKNBOd"
      }
    },
    {
      "cell_type": "code",
      "source": [
        "# Check the accracy of the mode \n",
        "\n",
        "loss, accuracy = model_10.evaluate(X_test, y_test)\n",
        "\n",
        "print(f\"Model loss on the test set: {loss}\")\n",
        "print(f\"Model Accuracy on the test set: {(accuracy*100): .2f}%\")"
      ],
      "metadata": {
        "colab": {
          "base_uri": "https://localhost:8080/"
        },
        "id": "7bLRGzsKPjrU",
        "outputId": "d54b2342-79e7-4b05-e9f7-513e90531881"
      },
      "execution_count": null,
      "outputs": [
        {
          "output_type": "stream",
          "name": "stdout",
          "text": [
            "7/7 [==============================] - 0s 2ms/step - loss: 0.0574 - accuracy: 0.9900\n",
            "Model loss on the test set: 0.05740184709429741\n",
            "Model Accuracy on the test set:  99.00%\n"
          ]
        }
      ]
    },
    {
      "cell_type": "markdown",
      "source": [
        "### Confusion matrix \n",
        "\n"
      ],
      "metadata": {
        "id": "AbkLfb8gQKV8"
      }
    },
    {
      "cell_type": "code",
      "source": [
        "# Create a confusion metrix\n",
        "from sklearn.metrics import confusion_matrix\n",
        "\n",
        "# Make predictions \n",
        "y_pred = model_10.predict(X_test)\n",
        "\n",
        "# Create confusion matrix\n",
        "confusion_matrix(y_test, y_pred)"
      ],
      "metadata": {
        "colab": {
          "base_uri": "https://localhost:8080/",
          "height": 413
        },
        "id": "7FWwyxgz7DGd",
        "outputId": "076e36ab-c465-48ed-c8f6-ecbcecb3fefc"
      },
      "execution_count": null,
      "outputs": [
        {
          "output_type": "error",
          "ename": "ValueError",
          "evalue": "ignored",
          "traceback": [
            "\u001b[0;31m---------------------------------------------------------------------------\u001b[0m",
            "\u001b[0;31mValueError\u001b[0m                                Traceback (most recent call last)",
            "\u001b[0;32m<ipython-input-61-621156d94f8e>\u001b[0m in \u001b[0;36m<module>\u001b[0;34m()\u001b[0m\n\u001b[1;32m      6\u001b[0m \u001b[0;34m\u001b[0m\u001b[0m\n\u001b[1;32m      7\u001b[0m \u001b[0;31m# Create confusion matrix\u001b[0m\u001b[0;34m\u001b[0m\u001b[0;34m\u001b[0m\u001b[0;34m\u001b[0m\u001b[0m\n\u001b[0;32m----> 8\u001b[0;31m \u001b[0mconfusion_matrix\u001b[0m\u001b[0;34m(\u001b[0m\u001b[0my_test\u001b[0m\u001b[0;34m,\u001b[0m \u001b[0my_pred\u001b[0m\u001b[0;34m)\u001b[0m\u001b[0;34m\u001b[0m\u001b[0;34m\u001b[0m\u001b[0m\n\u001b[0m",
            "\u001b[0;32m/usr/local/lib/python3.7/dist-packages/sklearn/metrics/_classification.py\u001b[0m in \u001b[0;36mconfusion_matrix\u001b[0;34m(y_true, y_pred, labels, sample_weight, normalize)\u001b[0m\n\u001b[1;32m    305\u001b[0m     \u001b[0;34m(\u001b[0m\u001b[0;36m0\u001b[0m\u001b[0;34m,\u001b[0m \u001b[0;36m2\u001b[0m\u001b[0;34m,\u001b[0m \u001b[0;36m1\u001b[0m\u001b[0;34m,\u001b[0m \u001b[0;36m1\u001b[0m\u001b[0;34m)\u001b[0m\u001b[0;34m\u001b[0m\u001b[0;34m\u001b[0m\u001b[0m\n\u001b[1;32m    306\u001b[0m     \"\"\"\n\u001b[0;32m--> 307\u001b[0;31m     \u001b[0my_type\u001b[0m\u001b[0;34m,\u001b[0m \u001b[0my_true\u001b[0m\u001b[0;34m,\u001b[0m \u001b[0my_pred\u001b[0m \u001b[0;34m=\u001b[0m \u001b[0m_check_targets\u001b[0m\u001b[0;34m(\u001b[0m\u001b[0my_true\u001b[0m\u001b[0;34m,\u001b[0m \u001b[0my_pred\u001b[0m\u001b[0;34m)\u001b[0m\u001b[0;34m\u001b[0m\u001b[0;34m\u001b[0m\u001b[0m\n\u001b[0m\u001b[1;32m    308\u001b[0m     \u001b[0;32mif\u001b[0m \u001b[0my_type\u001b[0m \u001b[0;32mnot\u001b[0m \u001b[0;32min\u001b[0m \u001b[0;34m(\u001b[0m\u001b[0;34m\"binary\"\u001b[0m\u001b[0;34m,\u001b[0m \u001b[0;34m\"multiclass\"\u001b[0m\u001b[0;34m)\u001b[0m\u001b[0;34m:\u001b[0m\u001b[0;34m\u001b[0m\u001b[0;34m\u001b[0m\u001b[0m\n\u001b[1;32m    309\u001b[0m         \u001b[0;32mraise\u001b[0m \u001b[0mValueError\u001b[0m\u001b[0;34m(\u001b[0m\u001b[0;34m\"%s is not supported\"\u001b[0m \u001b[0;34m%\u001b[0m \u001b[0my_type\u001b[0m\u001b[0;34m)\u001b[0m\u001b[0;34m\u001b[0m\u001b[0;34m\u001b[0m\u001b[0m\n",
            "\u001b[0;32m/usr/local/lib/python3.7/dist-packages/sklearn/metrics/_classification.py\u001b[0m in \u001b[0;36m_check_targets\u001b[0;34m(y_true, y_pred)\u001b[0m\n\u001b[1;32m     93\u001b[0m         raise ValueError(\n\u001b[1;32m     94\u001b[0m             \"Classification metrics can't handle a mix of {0} and {1} targets\".format(\n\u001b[0;32m---> 95\u001b[0;31m                 \u001b[0mtype_true\u001b[0m\u001b[0;34m,\u001b[0m \u001b[0mtype_pred\u001b[0m\u001b[0;34m\u001b[0m\u001b[0;34m\u001b[0m\u001b[0m\n\u001b[0m\u001b[1;32m     96\u001b[0m             )\n\u001b[1;32m     97\u001b[0m         )\n",
            "\u001b[0;31mValueError\u001b[0m: Classification metrics can't handle a mix of binary and continuous targets"
          ]
        }
      ]
    },
    {
      "cell_type": "code",
      "source": [
        "len(y_test)"
      ],
      "metadata": {
        "id": "w-qXZD-37aLm"
      },
      "execution_count": null,
      "outputs": []
    },
    {
      "cell_type": "code",
      "source": [
        "len(y_pred)"
      ],
      "metadata": {
        "id": "eOLR_7LD7bMU"
      },
      "execution_count": null,
      "outputs": []
    },
    {
      "cell_type": "markdown",
      "source": [
        "Oops.. looks like the predictions array has come out in **predictions probability** form... the standard output from the sigmoid(or softmax)"
      ],
      "metadata": {
        "id": "Swiweiku7cFl"
      }
    },
    {
      "cell_type": "code",
      "source": [
        "# Convert prediction probabilities to binary format and view the first 10\n",
        "\n",
        "tf.round(y_pred)"
      ],
      "metadata": {
        "id": "rQZnxuUk772V"
      },
      "execution_count": null,
      "outputs": []
    },
    {
      "cell_type": "code",
      "source": [
        "confusion_matrix(y_test, tf.round(y_pred))"
      ],
      "metadata": {
        "id": "tsogFhnj8qUU"
      },
      "execution_count": null,
      "outputs": []
    },
    {
      "cell_type": "markdown",
      "source": [
        "How about we make the confusion matrix look better \n"
      ],
      "metadata": {
        "id": "T0L3KzPC-NmF"
      }
    },
    {
      "cell_type": "code",
      "source": [
        "# Note: the confusion matrix code we're about to write is a remix of scikit-learn's plot_confusion_matix function\n",
        "\n",
        "import itertools \n",
        "\n",
        "figsize = (10, 10)\n",
        "\n",
        "#Create the confusion matrix\n",
        "\n",
        "cm = confusion_matrix(y_test, tf.round(y_pred))\n",
        "cm_norm = cm.astype(\"float\") / cm.sum(axis = 1) [:, np.newaxis] # normalise the confusion mmatrix\n",
        "n_classes = cm.shape[0]\n",
        "\n",
        "#Lets prettify it\n",
        "fig, ax = plt.subplots(figsize = figsize)\n",
        "\n",
        "# Create a matrix plot\n",
        "cax = ax.matshow(cm, cmap = plt.cm.Blues)\n",
        "fig.colorbar(cax)\n",
        "\n",
        "#Create classes\n",
        "classes = False\n",
        "\n",
        "if classes: \n",
        "  labels = classes\n",
        "else: \n",
        "  labels = np.arange(cm.shape[0])\n",
        "\n",
        "# Label the axes\n",
        "ax.set(title = \"Confusion Matrix\",\n",
        "       xlabel = \"Predicted Labes\",\n",
        "       ylabel = \"True Label\",\n",
        "       xticks = np.arange(n_classes),\n",
        "       yticks = np.arange(n_classes),\n",
        "       xticklabels = labels, \n",
        "       yticklabels = labels\n",
        ")\n",
        "\n",
        "# Set x-axis label to the bottom \n",
        "ax.xaxis.set_label_position(\"bottom\")\n",
        "ax.xaxis.tick_bottom()\n",
        "\n",
        "#Adjust label size \n",
        "ax.yaxis.label.set_size(20)\n",
        "ax.xaxis.label.set_size(20)\n",
        "ax.title.set_size(20)\n",
        "\n",
        "\n",
        "\n",
        "# Set the threshold for different colors \n",
        "threshold = (cm.max() + cm.min()) / 2\n",
        "\n",
        "# Plot the test on each cell \n",
        "for i,j in itertools.product(range(cm.shape[0]), range(cm.shape[1])):\n",
        "  plt.text(j, i, f\"{cm[i,j]} ({cm_norm[i, j]*100:.1f}%)\", \n",
        "           horizontalalignment = \"center\",\n",
        "           color = \"white\" if cm[i,j] > threshold else \"black\",\n",
        "           size = 15)"
      ],
      "metadata": {
        "id": "y2Q8bV0Z-Ysc"
      },
      "execution_count": null,
      "outputs": []
    },
    {
      "cell_type": "code",
      "source": [
        "def plot_confusion_matix(y_test, y_pred):\n",
        "  figsize = (10, 10)\n",
        "\n",
        "  #Create the confusion matrix\n",
        "\n",
        "  cm = confusion_matrix(y_test, tf.round(y_pred))\n",
        "  cm_norm = cm.astype(\"float\") / cm.sum(axis = 1) [:, np.newaxis] # normalise the confusion mmatrix\n",
        "  n_classes = cm.shape[0]\n",
        "\n",
        "  #Lets prettify it\n",
        "  fig, ax = plt.subplots(figsize = figsize)\n",
        "\n",
        "  # Create a matrix plot\n",
        "  cax = ax.matshow(cm, cmap = plt.cm.Blues)\n",
        "  fig.colorbar(cax)\n",
        "\n",
        "  #Create classes\n",
        "  classes = False\n",
        "\n",
        "  if classes: \n",
        "    labels = classes\n",
        "  else: \n",
        "    labels = np.arange(cm.shape[0])\n",
        "\n",
        "  # Label the axes\n",
        "  ax.set(title = \"Confusion Matrix\",\n",
        "        xlabel = \"Predicted Labes\",\n",
        "        ylabel = \"True Label\",\n",
        "        xticks = np.arange(n_classes),\n",
        "        yticks = np.arange(n_classes),\n",
        "        xticklabels = labels, \n",
        "        yticklabels = labels\n",
        "  )\n",
        "\n",
        "  # Set x-axis label to the bottom \n",
        "  ax.xaxis.set_label_position(\"bottom\")\n",
        "  ax.xaxis.tick_bottom()\n",
        "\n",
        "  #Adjust label size \n",
        "  ax.yaxis.label.set_size(20)\n",
        "  ax.xaxis.label.set_size(20)\n",
        "  ax.title.set_size(20)\n",
        "\n",
        "\n",
        "\n",
        "  # Set the threshold for different colors \n",
        "  threshold = (cm.max() + cm.min()) / 2\n",
        "\n",
        "  # Plot the test on each cell \n",
        "  for i,j in itertools.product(range(cm.shape[0]), range(cm.shape[1])):\n",
        "    plt.text(j, i, f\"{cm[i,j]} ({cm_norm[i, j]*100:.1f}%)\", \n",
        "            horizontalalignment = \"center\",\n",
        "            color = \"white\" if cm[i,j] > threshold else \"black\",\n",
        "            size = 15)"
      ],
      "metadata": {
        "id": "jh4uTwk0BbkT"
      },
      "execution_count": null,
      "outputs": []
    },
    {
      "cell_type": "code",
      "source": [
        "plot_confusion_matix(y_test=y_test,\n",
        "                     y_pred=y_pred)"
      ],
      "metadata": {
        "id": "rilZ0Z49NKNK"
      },
      "execution_count": null,
      "outputs": []
    }
  ]
}